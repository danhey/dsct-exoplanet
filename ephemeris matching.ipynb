{
 "cells": [
  {
   "cell_type": "code",
   "execution_count": 1,
   "metadata": {},
   "outputs": [],
   "source": [
    "import pandas as pd"
   ]
  },
  {
   "cell_type": "code",
   "execution_count": 2,
   "metadata": {},
   "outputs": [],
   "source": [
    "import numpy as np"
   ]
  },
  {
   "cell_type": "code",
   "execution_count": 3,
   "metadata": {},
   "outputs": [],
   "source": [
    "koi = pd.read_csv('data/cumulative_2021.07.06_20.07.53.csv')"
   ]
  },
  {
   "cell_type": "code",
   "execution_count": 5,
   "metadata": {},
   "outputs": [],
   "source": [
    "cands = pd.DataFrame({\n",
    "    'KIC': [7767699, 8249829, 9895543],\n",
    "    'period': [1.12828, 1.0127, 1.21889],\n",
    "    't0': [121.66, 1472.679, 121.42]\n",
    "})"
   ]
  },
  {
   "cell_type": "code",
   "execution_count": 7,
   "metadata": {},
   "outputs": [
    {
     "data": {
      "text/plain": [
       "0         9.488036\n",
       "1        54.418383\n",
       "2        19.899140\n",
       "3         1.736952\n",
       "4         2.525592\n",
       "           ...    \n",
       "9559      0.527699\n",
       "9560      1.739849\n",
       "9561      0.681402\n",
       "9562    333.486169\n",
       "9563      4.856035\n",
       "Name: koi_period, Length: 9564, dtype: float64"
      ]
     },
     "execution_count": 7,
     "metadata": {},
     "output_type": "execute_result"
    }
   ],
   "source": [
    "koi['koi_period']"
   ]
  },
  {
   "cell_type": "code",
   "execution_count": 42,
   "metadata": {},
   "outputs": [],
   "source": [
    "koi_pclose = koi[np.isclose(cands.iloc[2].period, koi['koi_period'], atol=0.01)][['koi_period', 'koi_disposition', 'koi_time0bk']]"
   ]
  },
  {
   "cell_type": "code",
   "execution_count": 40,
   "metadata": {},
   "outputs": [
    {
     "data": {
      "text/html": [
       "<div>\n",
       "<style scoped>\n",
       "    .dataframe tbody tr th:only-of-type {\n",
       "        vertical-align: middle;\n",
       "    }\n",
       "\n",
       "    .dataframe tbody tr th {\n",
       "        vertical-align: top;\n",
       "    }\n",
       "\n",
       "    .dataframe thead th {\n",
       "        text-align: right;\n",
       "    }\n",
       "</style>\n",
       "<table border=\"1\" class=\"dataframe\">\n",
       "  <thead>\n",
       "    <tr style=\"text-align: right;\">\n",
       "      <th></th>\n",
       "      <th>koi_period</th>\n",
       "      <th>koi_disposition</th>\n",
       "      <th>koi_time0bk</th>\n",
       "    </tr>\n",
       "  </thead>\n",
       "  <tbody>\n",
       "  </tbody>\n",
       "</table>\n",
       "</div>"
      ],
      "text/plain": [
       "Empty DataFrame\n",
       "Columns: [koi_period, koi_disposition, koi_time0bk]\n",
       "Index: []"
      ]
     },
     "execution_count": 40,
     "metadata": {},
     "output_type": "execute_result"
    }
   ],
   "source": [
    "koi_pclose[np.isclose(cands.iloc[2].t0, koi_pclose.koi_time0bk, atol=1)]"
   ]
  },
  {
   "cell_type": "code",
   "execution_count": 33,
   "metadata": {},
   "outputs": [
    {
     "data": {
      "text/html": [
       "<div>\n",
       "<style scoped>\n",
       "    .dataframe tbody tr th:only-of-type {\n",
       "        vertical-align: middle;\n",
       "    }\n",
       "\n",
       "    .dataframe tbody tr th {\n",
       "        vertical-align: top;\n",
       "    }\n",
       "\n",
       "    .dataframe thead th {\n",
       "        text-align: right;\n",
       "    }\n",
       "</style>\n",
       "<table border=\"1\" class=\"dataframe\">\n",
       "  <thead>\n",
       "    <tr style=\"text-align: right;\">\n",
       "      <th></th>\n",
       "      <th>koi_period</th>\n",
       "      <th>koi_disposition</th>\n",
       "      <th>koi_time0bk</th>\n",
       "    </tr>\n",
       "  </thead>\n",
       "  <tbody>\n",
       "    <tr>\n",
       "      <th>818</th>\n",
       "      <td>1.137525</td>\n",
       "      <td>FALSE POSITIVE</td>\n",
       "      <td>133.805565</td>\n",
       "    </tr>\n",
       "    <tr>\n",
       "      <th>1694</th>\n",
       "      <td>1.118548</td>\n",
       "      <td>CONFIRMED</td>\n",
       "      <td>132.848260</td>\n",
       "    </tr>\n",
       "    <tr>\n",
       "      <th>2370</th>\n",
       "      <td>1.129766</td>\n",
       "      <td>FALSE POSITIVE</td>\n",
       "      <td>132.526000</td>\n",
       "    </tr>\n",
       "    <tr>\n",
       "      <th>3478</th>\n",
       "      <td>1.125963</td>\n",
       "      <td>FALSE POSITIVE</td>\n",
       "      <td>169.634000</td>\n",
       "    </tr>\n",
       "    <tr>\n",
       "      <th>3742</th>\n",
       "      <td>1.121733</td>\n",
       "      <td>CANDIDATE</td>\n",
       "      <td>131.569190</td>\n",
       "    </tr>\n",
       "    <tr>\n",
       "      <th>4059</th>\n",
       "      <td>1.121635</td>\n",
       "      <td>FALSE POSITIVE</td>\n",
       "      <td>132.313110</td>\n",
       "    </tr>\n",
       "    <tr>\n",
       "      <th>4690</th>\n",
       "      <td>1.124011</td>\n",
       "      <td>FALSE POSITIVE</td>\n",
       "      <td>131.649520</td>\n",
       "    </tr>\n",
       "    <tr>\n",
       "      <th>5485</th>\n",
       "      <td>1.133531</td>\n",
       "      <td>FALSE POSITIVE</td>\n",
       "      <td>132.441400</td>\n",
       "    </tr>\n",
       "    <tr>\n",
       "      <th>5577</th>\n",
       "      <td>1.135930</td>\n",
       "      <td>FALSE POSITIVE</td>\n",
       "      <td>132.396556</td>\n",
       "    </tr>\n",
       "    <tr>\n",
       "      <th>5727</th>\n",
       "      <td>1.120646</td>\n",
       "      <td>FALSE POSITIVE</td>\n",
       "      <td>131.591970</td>\n",
       "    </tr>\n",
       "    <tr>\n",
       "      <th>5802</th>\n",
       "      <td>1.133573</td>\n",
       "      <td>FALSE POSITIVE</td>\n",
       "      <td>131.820400</td>\n",
       "    </tr>\n",
       "    <tr>\n",
       "      <th>7232</th>\n",
       "      <td>1.129848</td>\n",
       "      <td>FALSE POSITIVE</td>\n",
       "      <td>131.789871</td>\n",
       "    </tr>\n",
       "    <tr>\n",
       "      <th>7279</th>\n",
       "      <td>1.123259</td>\n",
       "      <td>FALSE POSITIVE</td>\n",
       "      <td>132.026710</td>\n",
       "    </tr>\n",
       "    <tr>\n",
       "      <th>8054</th>\n",
       "      <td>1.122845</td>\n",
       "      <td>FALSE POSITIVE</td>\n",
       "      <td>131.671908</td>\n",
       "    </tr>\n",
       "    <tr>\n",
       "      <th>8106</th>\n",
       "      <td>1.118510</td>\n",
       "      <td>CANDIDATE</td>\n",
       "      <td>131.608820</td>\n",
       "    </tr>\n",
       "    <tr>\n",
       "      <th>8339</th>\n",
       "      <td>1.124034</td>\n",
       "      <td>FALSE POSITIVE</td>\n",
       "      <td>131.628780</td>\n",
       "    </tr>\n",
       "    <tr>\n",
       "      <th>8379</th>\n",
       "      <td>1.126798</td>\n",
       "      <td>FALSE POSITIVE</td>\n",
       "      <td>132.275700</td>\n",
       "    </tr>\n",
       "    <tr>\n",
       "      <th>8511</th>\n",
       "      <td>1.120998</td>\n",
       "      <td>FALSE POSITIVE</td>\n",
       "      <td>131.484860</td>\n",
       "    </tr>\n",
       "    <tr>\n",
       "      <th>9348</th>\n",
       "      <td>1.126260</td>\n",
       "      <td>CANDIDATE</td>\n",
       "      <td>132.296346</td>\n",
       "    </tr>\n",
       "  </tbody>\n",
       "</table>\n",
       "</div>"
      ],
      "text/plain": [
       "      koi_period koi_disposition  koi_time0bk\n",
       "818     1.137525  FALSE POSITIVE   133.805565\n",
       "1694    1.118548       CONFIRMED   132.848260\n",
       "2370    1.129766  FALSE POSITIVE   132.526000\n",
       "3478    1.125963  FALSE POSITIVE   169.634000\n",
       "3742    1.121733       CANDIDATE   131.569190\n",
       "4059    1.121635  FALSE POSITIVE   132.313110\n",
       "4690    1.124011  FALSE POSITIVE   131.649520\n",
       "5485    1.133531  FALSE POSITIVE   132.441400\n",
       "5577    1.135930  FALSE POSITIVE   132.396556\n",
       "5727    1.120646  FALSE POSITIVE   131.591970\n",
       "5802    1.133573  FALSE POSITIVE   131.820400\n",
       "7232    1.129848  FALSE POSITIVE   131.789871\n",
       "7279    1.123259  FALSE POSITIVE   132.026710\n",
       "8054    1.122845  FALSE POSITIVE   131.671908\n",
       "8106    1.118510       CANDIDATE   131.608820\n",
       "8339    1.124034  FALSE POSITIVE   131.628780\n",
       "8379    1.126798  FALSE POSITIVE   132.275700\n",
       "8511    1.120998  FALSE POSITIVE   131.484860\n",
       "9348    1.126260       CANDIDATE   132.296346"
      ]
     },
     "execution_count": 33,
     "metadata": {},
     "output_type": "execute_result"
    }
   ],
   "source": [
    "koi_pclose"
   ]
  },
  {
   "cell_type": "code",
   "execution_count": null,
   "metadata": {},
   "outputs": [],
   "source": []
  }
 ],
 "metadata": {
  "kernelspec": {
   "display_name": "Python 3",
   "language": "python",
   "name": "python3"
  },
  "language_info": {
   "codemirror_mode": {
    "name": "ipython",
    "version": 3
   },
   "file_extension": ".py",
   "mimetype": "text/x-python",
   "name": "python",
   "nbconvert_exporter": "python",
   "pygments_lexer": "ipython3",
   "version": "3.8.3"
  }
 },
 "nbformat": 4,
 "nbformat_minor": 4
}
