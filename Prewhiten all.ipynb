{
 "cells": [
  {
   "cell_type": "code",
   "execution_count": 1,
   "metadata": {},
   "outputs": [],
   "source": [
    "import numpy as np\n",
    "import matplotlib.pyplot as plt\n",
    "import glob\n",
    "import pandas as pd"
   ]
  },
  {
   "cell_type": "code",
   "execution_count": 2,
   "metadata": {},
   "outputs": [
    {
     "name": "stdout",
     "output_type": "stream",
     "text": [
      "Starting planet search rev3: Spline corrected and BIC selection\n",
      "There are 1 missing stars from the sample\n"
     ]
    }
   ],
   "source": [
    "print('Starting planet search rev3: Spline corrected and BIC selection')\n",
    "\n",
    "af_stars = pd.read_csv('data/catalogues/rev_AF_stars.csv', dtype={'kic': str})\n",
    "af_stars = af_stars[af_stars['dSct'] > 0]\n",
    "\n",
    "kep_lc = glob.glob('data/lightcurves/spline corrected PDC/lc/*.csv')\n",
    "ids = [k.split('kplr')[-1].split('.csv')[0].lstrip('0') for k in kep_lc]\n",
    "\n",
    "files = pd.DataFrame({'kic': ids, 'file': kep_lc})\n",
    "df = af_stars.merge(files, left_on='kic', right_on='kic')\n",
    "\n",
    "missing = af_stars[~af_stars['kic'].isin(df['kic'])]\n",
    "print(f\"There are {len(missing)} missing stars from the sample\")"
   ]
  },
  {
   "cell_type": "code",
   "execution_count": 3,
   "metadata": {},
   "outputs": [],
   "source": [
    "import numpy as np\n",
    "import pandas as pd\n",
    "import tqdm\n",
    "import matplotlib.pyplot as plt\n",
    "from astropy.timeseries import BoxLeastSquares, LombScargle\n",
    "from scipy.signal import savgol_filter\n",
    "from scipy.optimize import curve_fit\n",
    "import glob\n",
    "\n",
    "def preprocess_lc(x, y, yerr, ax=None):\n",
    "    mu = np.median(y)\n",
    "    y = (y / mu - 1) * 1e3\n",
    "    yerr = yerr * 1e3\n",
    "    \n",
    "    # Identify outliers\n",
    "    m = np.ones(len(y), dtype=bool)\n",
    "    for i in range(10):\n",
    "        y_prime = np.interp(x, x[m], y[m])\n",
    "        smooth = savgol_filter(y_prime, 1001, polyorder=3)\n",
    "        resid = y - smooth\n",
    "        sigma = np.sqrt(np.mean(resid ** 2))\n",
    "        m0 = np.abs(resid) < 3 * sigma\n",
    "        if m.sum() == m0.sum():\n",
    "            m = m0\n",
    "            break\n",
    "        m = m0\n",
    "\n",
    "    # Discard outliers\n",
    "    m = (resid < 3 * sigma) & (resid > -3 * sigma)\n",
    "    \n",
    "    if ax is not None:\n",
    "        # Plot the data\n",
    "        plt.plot(x, y, \"k\", label=\"data\")\n",
    "        plt.plot(x, smooth)\n",
    "        plt.plot(x[~m], y[~m], \"xr\", label=\"outliers\")\n",
    "        plt.legend()\n",
    "        plt.xlim(x.min(), x.max())\n",
    "        plt.xlabel(\"Time\")\n",
    "        plt.ylabel(\"Flux [ppt]\")\n",
    "        \n",
    "    \n",
    "    # Make sure that the data type is consistent\n",
    "    x = np.ascontiguousarray(x[m], dtype=np.float64)\n",
    "    y = np.ascontiguousarray(y[m], dtype=np.float64)\n",
    "    yerr = np.ascontiguousarray(yerr[m], dtype=np.float64)\n",
    "    smooth = np.ascontiguousarray(smooth[m], dtype=np.float64)\n",
    "    return x, y, yerr, smooth\n",
    "\n",
    "def estimate_SNR(x, y, log_width=0.01):\n",
    "    count = np.zeros(len(x), dtype=int)\n",
    "    bkg = np.zeros_like(x)\n",
    "    x0 = np.log10(x[0])\n",
    "    while x0 < np.log10(x[-1]):\n",
    "        m = np.abs(np.log10(x) - x0) < log_width\n",
    "        bkg[m] += np.median(y[m])\n",
    "        count[m] += 1\n",
    "        x0 += 0.5 * log_width\n",
    "    return y / (bkg / count)\n",
    "\n",
    "def amplitude_spectrum(t, y, fmin=None, fmax=None, oversample_factor=10.0):\n",
    "    \n",
    "    tmax = t.max()\n",
    "    tmin = t.min()\n",
    "    df = 1.0 / (tmax - tmin)\n",
    "\n",
    "    if fmin is None:\n",
    "        fmin = df\n",
    "    if fmax is None:\n",
    "        fmax = 0.5 / np.median(np.diff(t))  # *nyq_mult\n",
    "\n",
    "    freq = np.arange(fmin, fmax, df / oversample_factor)\n",
    "    model = LombScargle(t, y)\n",
    "    sc = model.power(freq, method=\"fast\", normalization=\"psd\")\n",
    "\n",
    "    fct = np.sqrt(4.0 / len(t))\n",
    "    amp = np.sqrt(sc) * fct\n",
    "\n",
    "    return freq, amp"
   ]
  },
  {
   "cell_type": "code",
   "execution_count": 79,
   "metadata": {},
   "outputs": [],
   "source": [
    "from astropy.timeseries import LombScargle, BoxLeastSquares\n",
    "from scipy.optimize import curve_fit\n",
    "\n",
    "def grad_model(time, freq, amp, phi):\n",
    "    factor = 2 * np.pi * freq * time + phi\n",
    "    return np.array([\n",
    "        -2*np.pi*amp*time*np.sin(factor),\n",
    "        np.cos(factor),\n",
    "        -1 * amp * np.sin(factor)\n",
    "    ]).T\n",
    "\n",
    "def dft_phase(x, y, f):\n",
    "    expo = 2.0 * np.pi * f * x\n",
    "    ft_real = np.sum(y * np.cos(expo))\n",
    "    ft_imag = np.sum(y * np.sin(expo))\n",
    "    return np.arctan2(ft_imag, ft_real)\n",
    "\n",
    "def model(time, freq, amp, phi):\n",
    "    return amp * np.cos((2 * np.pi * freq * time) + phi)\n",
    "\n",
    "def fit_model(time, flux, theta):\n",
    "    popt, _ = curve_fit(model, time, flux, p0=theta, jac=grad_model)\n",
    "    return popt\n",
    "\n",
    "def initialize_theta(time, flux, SNR, fmin, fmax):\n",
    "    \"\"\"\n",
    "    Returns an initial estimate of the frequency, amplitude, and phase of \n",
    "    the highest amplitude signal given a light curve (time, flux)\n",
    "    \"\"\"\n",
    "    f, a = amplitude_spectrum(time, flux, fmin=fmin, fmax=fmax, oversample_factor=5.)\n",
    "    # Get freq of max amplitude\n",
    "    f0 = find_highest_peak(f, a)\n",
    "    # Calculate a0 at f0\n",
    "    a0 = np.sqrt(LombScargle(time, flux).power(f0, method=\"fast\", normalization=\"psd\")) * np.sqrt(4.0 / len(time))\n",
    "    # Calculate phi0, since ASTC need to negative it\n",
    "    phi0 = -1 * dft_phase(time, flux, f0)\n",
    "    # Finally, estimate the SNR of the peak\n",
    "    return [f0, a0, phi0], SNR[np.nanargmax(a)]"
   ]
  },
  {
   "cell_type": "code",
   "execution_count": 80,
   "metadata": {},
   "outputs": [],
   "source": [
    "# Stuff for low freq"
   ]
  },
  {
   "cell_type": "code",
   "execution_count": 89,
   "metadata": {},
   "outputs": [],
   "source": [
    "def initialize_theta_low(time, flux, fmin, fmax):\n",
    "    f, a = amplitude_spectrum(time, flux, fmin=fmin, fmax=fmax, oversample_factor=5.)\n",
    "    noise = estimate_background(f,a, log_width=0.05)\n",
    "    snr = a/noise\n",
    "    # Get freq of max SNR\n",
    "    f0 = find_highest_peak(f, snr)\n",
    "    # Calculate a0 at f0\n",
    "    a0 = np.sqrt(LombScargle(time, flux).power(f0, method=\"fast\", normalization=\"psd\")) * np.sqrt(4.0 / len(time))\n",
    "    # Calculate phi0, since ASTC need to negative it\n",
    "    phi0 = -1 * dft_phase(time, flux, f0)\n",
    "    \n",
    "#     plt.plot(f, snr)\n",
    "#     plt.show()\n",
    "    return [f0, a0, phi0], snr[np.nanargmax(snr)], f, a\n",
    "\n",
    "def find_highest_peak(f, a):\n",
    "    \"\"\"\n",
    "    Find the frequency of the highest peak in the periodogram, using a\n",
    "    3-point parabolic interpolation.\n",
    "    \"\"\"\n",
    "    nu, p = f, a\n",
    "    nu, p = np.atleast_1d(nu, p)\n",
    "\n",
    "    # Get index of highest peak.\n",
    "    imax = np.argmax(p)\n",
    "\n",
    "    # Determine the frequency value by parabolic interpolation\n",
    "    if imax == 0 or imax == p.size - 1:\n",
    "        nu_peak = p[imax]\n",
    "    else:\n",
    "        # Get values around the maximum.\n",
    "        frq1 = nu[imax-1]\n",
    "        frq2 = nu[imax]\n",
    "        frq3 = nu[imax+1]\n",
    "        y1 = p[imax-1]\n",
    "        y2 = p[imax]\n",
    "        y3 = p[imax+1]\n",
    "\n",
    "        # Parabolic interpolation formula.\n",
    "        t1 = (y2-y3) * (frq2-frq1)**2 - (y2-y1) * (frq2-frq3)**2\n",
    "        t2 = (y2-y3) * (frq2-frq1) - (y2-y1) * (frq2-frq3)\n",
    "        nu_peak = frq2 - 0.5 * t1/t2\n",
    "    return nu_peak\n",
    "\n",
    "def estimate_background(x, y, log_width=0.01):\n",
    "    count = np.zeros(len(x), dtype=int)\n",
    "    bkg = np.zeros_like(x)\n",
    "    x0 = np.log10(x[0])\n",
    "    while x0 < np.log10(x[-1]):\n",
    "        m = np.abs(np.log10(x) - x0) < log_width\n",
    "        bkg[m] += np.median(y[m])\n",
    "        count[m] += 1\n",
    "        x0 += 0.5 * log_width\n",
    "    return bkg / count"
   ]
  },
  {
   "cell_type": "code",
   "execution_count": 123,
   "metadata": {},
   "outputs": [
    {
     "data": {
      "image/png": "[encoded data removed]",
      "text/plain": [
       "<Figure size 432x288 with 1 Axes>"
      ]
     },
     "metadata": {
      "needs_background": "light"
     },
     "output_type": "display_data"
    }
   ],
   "source": [
    "fig, ax = plt.subplots()\n",
    "# row = df.iloc[505]\n",
    "row = df[df.kic == '5202905']\n",
    "time, flux, yerr, sm = preprocess_lc(*np.loadtxt(row.file.values[0]).T, ax=ax)"
   ]
  },
  {
   "cell_type": "code",
   "execution_count": 124,
   "metadata": {},
   "outputs": [],
   "source": [
    "# plt.plot(*amplitude_spectrum(time, flux - smooth), c='r')\n",
    "# plt.plot(*amplitude_spectrum(time, flux - 0))\n",
    "# plt.xlim(0,1)"
   ]
  },
  {
   "cell_type": "code",
   "execution_count": 125,
   "metadata": {},
   "outputs": [],
   "source": [
    "# def prewhiten(x, y, fmin=2, snr_cutoff=4, log_width=0.01, maxiter=100):\n",
    "#     prew = np.copy(y)\n",
    "#     nyq = 0.5 / np.median(np.diff(x))\n",
    "#     df = 1.0 / (x.max() - x.min())\n",
    "#     fmax = 2*nyq - fmin # Make sure to mirror .. !\n",
    "\n",
    "#     f,a = amplitude_spectrum(x, prew, fmin=fmin, fmax=fmax, oversample_factor=5.)\n",
    "#     SNR = estimate_SNR(f,a, log_width=log_width)\n",
    "#     # Calculate initial estimate\n",
    "#     theta, f_snr = initialize_theta(x, prew, SNR, fmin, fmax)\n",
    "\n",
    "#     pre_res = []\n",
    "#     # Run until either we reach minimum SNR or cutoff iterations\n",
    "#     while (f_snr > snr_cutoff) & (len(pre_res) < maxiter):\n",
    "#         res = fit_model(x, prew, theta)\n",
    "#         prew -= model(x, *res)\n",
    "#         pre_res.append(res)\n",
    "#         theta, f_snr = initialize_theta(x, prew, SNR, fmin, fmax)\n",
    "#     pre_res = np.array(pre_res)\n",
    "            \n",
    "#     return x, prew, pre_res, f, SNR"
   ]
  },
  {
   "cell_type": "code",
   "execution_count": 126,
   "metadata": {},
   "outputs": [],
   "source": [
    "def prewhiten(x, y, transit_cutoff=2, snr_cutoff=4, log_width=0.01, maxiter=120):\n",
    "    prew = np.copy(y)\n",
    "    nyq = 0.5 / np.median(np.diff(x))\n",
    "    df = 1.0 / (x.max() - x.min())\n",
    "    fmin, fmax = df, 2*nyq - transit_cutoff # Make sure to mirror .. !\n",
    "\n",
    "    f,a = amplitude_spectrum(x, prew, fmin=fmin, fmax=fmax, oversample_factor=5.)\n",
    "    SNR = estimate_SNR(f,a, log_width=log_width)\n",
    "    # Calculate initial estimate\n",
    "    theta, f_snr = initialize_theta(x, prew, SNR, fmin, fmax)\n",
    "\n",
    "    pre_res = []\n",
    "    # Run until either we reach minimum SNR or cutoff iterations\n",
    "    while (f_snr > snr_cutoff) & (len(pre_res) < maxiter):\n",
    "        res = fit_model(x, prew, theta)\n",
    "        \n",
    "        if res[0] < transit_cutoff:\n",
    "            # We need to do our model selection:\n",
    "            bls = BoxLeastSquares(x, prew)\n",
    "            bls_power = bls.power([1/theta[0]], 0.2)\n",
    "            bls_transit = bls.model(x, bls_power.period[0], bls_power.duration[0], bls_power.transit_time[0])\n",
    "\n",
    "            # Now calculate the BIC of both models:\n",
    "            BIC = [-2 * (-0.5 * np.sum((prew - model(x, *res)) ** 2)) + np.log(len(x)) * 2, \n",
    "                   -2 * (-0.5 * np.sum((prew - bls_transit) ** 2)) + np.log(len(x)) * 2]\n",
    "\n",
    "            if np.argmin(BIC) == 1:\n",
    "                break\n",
    "        \n",
    "        prew -= model(x, *res)\n",
    "        pre_res.append(res)\n",
    "        theta, f_snr = initialize_theta(x, prew, SNR, fmin, fmax)\n",
    "    pre_res = np.array(pre_res)\n",
    "            \n",
    "    return x, prew, pre_res, f, SNR"
   ]
  },
  {
   "cell_type": "code",
   "execution_count": 127,
   "metadata": {},
   "outputs": [
    {
     "name": "stderr",
     "output_type": "stream",
     "text": [
      "/home/daniel/anaconda3/lib/python3.8/site-packages/numpy/core/fromnumeric.py:3334: RuntimeWarning: Mean of empty slice.\n",
      "  return _methods._mean(a, axis=axis, dtype=dtype,\n",
      "/home/daniel/anaconda3/lib/python3.8/site-packages/numpy/core/_methods.py:161: RuntimeWarning: invalid value encountered in double_scalars\n",
      "  ret = ret.dtype.type(ret / rcount)\n"
     ]
    },
    {
     "name": "stdout",
     "output_type": "stream",
     "text": [
      "hi\n",
      "hi\n",
      "hi\n"
     ]
    }
   ],
   "source": [
    "x, prew, res, f, SNR = prewhiten(time, flux)"
   ]
  },
  {
   "cell_type": "code",
   "execution_count": 131,
   "metadata": {},
   "outputs": [
    {
     "data": {
      "text/plain": [
       "(0.0, 2.0)"
      ]
     },
     "execution_count": 131,
     "metadata": {},
     "output_type": "execute_result"
    },
    {
     "data": {
      "image/png": "[encoded data removed]",
      "text/plain": [
       "<Figure size 432x288 with 1 Axes>"
      ]
     },
     "metadata": {
      "needs_background": "light"
     },
     "output_type": "display_data"
    }
   ],
   "source": [
    "plt.plot(*amplitude_spectrum(time, flux, fmax=48), alpha=0.5)\n",
    "plt.plot(*amplitude_spectrum(x, prew), alpha=0.5)\n",
    "plt.plot(res[:,0], res[:,1], '.k')\n",
    "# plt.xlim(16.82, 16.84)"
   ]
  },
  {
   "cell_type": "code",
   "execution_count": 130,
   "metadata": {},
   "outputs": [
    {
     "data": {
      "text/plain": [
       "(0.0, 2.0)"
      ]
     },
     "execution_count": 130,
     "metadata": {},
     "output_type": "execute_result"
    },
    {
     "data": {
      "image/png": "[encoded data removed]",
      "text/plain": [
       "<Figure size 432x288 with 1 Axes>"
      ]
     },
     "metadata": {
      "needs_background": "light"
     },
     "output_type": "display_data"
    }
   ],
   "source": [
    "plt.plot(x, prew)\n",
    "plt.xlim(0,2)"
   ]
  },
  {
   "cell_type": "code",
   "execution_count": 103,
   "metadata": {},
   "outputs": [],
   "source": [
    "old = glob.glob(f'prewhitening/results/spline corrected/prewhitened/*{row.kic}*')[0]\n",
    "old_t, old_f, old_y = np.loadtxt(old, unpack=True)"
   ]
  },
  {
   "cell_type": "code",
   "execution_count": 104,
   "metadata": {},
   "outputs": [
    {
     "data": {
      "text/plain": [
       "[<matplotlib.lines.Line2D at 0x7f8ee21602b0>]"
      ]
     },
     "execution_count": 104,
     "metadata": {},
     "output_type": "execute_result"
    },
    {
     "data": {
      "image/png": "[encoded data removed]",
      "text/plain": [
       "<Figure size 432x288 with 1 Axes>"
      ]
     },
     "metadata": {
      "needs_background": "light"
     },
     "output_type": "display_data"
    }
   ],
   "source": [
    "plt.plot(*amplitude_spectrum(old_t, old_f), alpha=0.5, c='r')\n",
    "plt.plot(*amplitude_spectrum(x, prew), alpha=0.5, c='b')\n",
    "# plt.xlim(0,5)"
   ]
  },
  {
   "cell_type": "code",
   "execution_count": 69,
   "metadata": {},
   "outputs": [
    {
     "data": {
      "text/plain": [
       "[<matplotlib.lines.Line2D at 0x7f8ee30a5310>]"
      ]
     },
     "execution_count": 69,
     "metadata": {},
     "output_type": "execute_result"
    },
    {
     "data": {
      "image/png": "[encoded data removed]",
      "text/plain": [
       "<Figure size 432x288 with 1 Axes>"
      ]
     },
     "metadata": {
      "needs_background": "light"
     },
     "output_type": "display_data"
    }
   ],
   "source": [
    "plt.plot(*amplitude_spectrum(x, prew), alpha=0.5, c='b')"
   ]
  }
 ],
 "metadata": {
  "kernelspec": {
   "display_name": "Python 3",
   "language": "python",
   "name": "python3"
  },
  "language_info": {
   "codemirror_mode": {
    "name": "ipython",
    "version": 3
   },
   "file_extension": ".py",
   "mimetype": "text/x-python",
   "name": "python",
   "nbconvert_exporter": "python",
   "pygments_lexer": "ipython3",
   "version": "3.8.3"
  }
 },
 "nbformat": 4,
 "nbformat_minor": 4
}
