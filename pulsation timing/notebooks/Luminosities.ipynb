{
 "cells": [
  {
   "cell_type": "code",
   "execution_count": null,
   "metadata": {},
   "outputs": [],
   "source": [
    "%run setup.py"
   ]
  },
  {
   "cell_type": "code",
   "execution_count": null,
   "metadata": {},
   "outputs": [],
   "source": [
    "plt.style.use(['science'])"
   ]
  },
  {
   "cell_type": "code",
   "execution_count": null,
   "metadata": {},
   "outputs": [],
   "source": [
    "koi = pd.read_csv('../data/koi.csv')\n",
    "toi = pd.read_csv('../data/toi.csv')\n",
    "AF_stars = pd.read_csv('../data/rev_AF_stars.csv')"
   ]
  },
  {
   "cell_type": "code",
   "execution_count": null,
   "metadata": {},
   "outputs": [],
   "source": [
    "# df = votable_to_pandas('../data/toi_all_bj.vot')"
   ]
  },
  {
   "cell_type": "code",
   "execution_count": 10,
   "metadata": {},
   "outputs": [],
   "source": [
    "# toi_nasa = pd.read_csv('../data/TOI_2020.03.29_18.00.47.csv', skiprows=94)\n",
    "# toi_nasa"
   ]
  },
  {
   "cell_type": "markdown",
   "metadata": {},
   "source": [
    "# TESS luminosities"
   ]
  },
  {
   "cell_type": "code",
   "execution_count": null,
   "metadata": {},
   "outputs": [],
   "source": [
    "from astropy.io.votable import parse\n",
    "import pandas as pd\n",
    "\n",
    "def votable_to_pandas(votable_file):\n",
    "    votable = parse(votable_file)\n",
    "    table = votable.get_first_table().to_table(use_names_over_ids=True)\n",
    "    return table.to_pandas()"
   ]
  },
  {
   "cell_type": "code",
   "execution_count": 16,
   "metadata": {},
   "outputs": [],
   "source": [
    "from dustmaps.config import config\n",
    "config['data_dir'] = '/Users/daniel/Desktop/dustmap/'"
   ]
  },
  {
   "cell_type": "code",
   "execution_count": 17,
   "metadata": {},
   "outputs": [
    {
     "name": "stderr",
     "output_type": "stream",
     "text": [
      "/Users/daniel/anaconda3/lib/python3.7/site-packages/dustmaps/leike_ensslin_2019.py:59: H5pyDeprecationWarning: The default file mode will change to 'r' (read-only) in h5py 3.0. To suppress this warning, pass the mode you need to h5py.File(), or set the global default h5.get_config().default_file_mode, or set the environment variable H5PY_DEFAULT_READONLY=1. Available modes are: 'r', 'r+', 'w', 'w-'/'x', 'a'. See the docs for details.\n",
      "  with h5py.File(map_fname) as f:\n"
     ]
    }
   ],
   "source": [
    "import dustmaps.leike_ensslin_2019\n",
    "\n",
    "from astropy.coordinates import SkyCoord\n",
    "from dustmaps.bayestar import BayestarQuery\n",
    "from dustmaps.leike_ensslin_2019 import LeikeEnsslin2019Query\n",
    "from astropy import units\n",
    "\n",
    "leike = LeikeEnsslin2019Query()\n",
    "\n",
    "def get_extinction_posterior(ra, dec, distance_posterior):\n",
    "    coords = SkyCoord(ra=ra*units.deg, dec=dec*units.deg,\n",
    "                          distance=distance_posterior*units.pc)\n",
    "    reddening = leike(coords)\n",
    "\n",
    "    if np.any(np.isnan(reddening)):\n",
    "        return np.zeros(len(distance_posterior))\n",
    "    \n",
    "    return reddening"
   ]
  },
  {
   "cell_type": "code",
   "execution_count": 18,
   "metadata": {},
   "outputs": [],
   "source": [
    "import scipy.integrate as integrate\n",
    "from scipy.stats import norm\n",
    "\n",
    "def ud_distpost3(r,w,wsd,rlen):\n",
    "    ud = d_like(w, r, wsd)*np.exp(-r/rlen)*(r**2)\n",
    "    return ud\n",
    "\n",
    "# Normalized Gaussian likelihood in w. Vectorized in any one parameter.\n",
    "def d_like(w,r,wsd):\n",
    "    return norm.pdf(w, 1/r, wsd)\n",
    "\n",
    "def get_distance_posterior(plx, plx_err, rlen, r_est, N=100000):\n",
    "    # DISTANCE CALCULATION\n",
    "    w = (plx)*0.001\n",
    "    wsd = (plx_err)*0.001\n",
    "    \n",
    "    if r_est < 1000:\n",
    "        scale = 0.01\n",
    "    else:\n",
    "        scale = 10\n",
    "    \n",
    "    rlo, rhi = r_est-scale*rlen, r_est+scale*rlen\n",
    "    if rlo < 0:\n",
    "        rlo = 1e-10\n",
    "    rplot = np.linspace(rlo,rhi,N)\n",
    "    dprior = (1/(2*rlen**3))*np.exp(-rplot/rlen)*rplot**2\n",
    "    dpost  = ud_distpost3(rplot, w, wsd, rlen)\n",
    "    \n",
    "    integ = integrate.quad(ud_distpost3, rlo, rhi, args=(w,wsd,rlen))\n",
    "    dpost_norm = dpost/integ[0]\n",
    "    \n",
    "    rlo, rhi = rplot[dpost_norm > 1e-20][0], rplot[dpost_norm > 1e-20][-1]\n",
    "    rplot = np.linspace(rlo,rhi,N)\n",
    "    dprior = (1/(2*rlen**3))*np.exp(-rplot/rlen)*rplot**2\n",
    "    dpost  = ud_distpost3(rplot, w, wsd, rlen)\n",
    "    integ = integrate.quad(ud_distpost3, rlo, rhi, args=(w,wsd,rlen))\n",
    "    dpost_norm = dpost/integ[0]\n",
    "#     distance = rplot[np.argmax(dpost_norm)]\n",
    "\n",
    "    values = dpost_norm\n",
    "    arr2 = (values - values.min()) / (values.max() - values.min())\n",
    "    arr2 /= arr2.sum()\n",
    "    posterior_norm = np.random.choice(rplot,size=N, p=arr2)\n",
    "    \n",
    "    return posterior_norm"
   ]
  },
  {
   "cell_type": "code",
   "execution_count": 19,
   "metadata": {},
   "outputs": [],
   "source": [
    "from scipy.interpolate import RegularGridInterpolator\n",
    "import h5py\n",
    "\n",
    "bcmodel = h5py.File('../data/bcgrid.h5', 'r')\n",
    "interp = RegularGridInterpolator((np.array(bcmodel['teffgrid']), \\\n",
    "        np.array(bcmodel['logggrid']),np.array(bcmodel['fehgrid']), \\\n",
    "            np.array(bcmodel['avgrid'])),np.array(bcmodel['bc_ga'])) \n",
    "\n",
    "def getbc_posterior(teff, logg=4., feh=0.,N=100000):\n",
    "    try:\n",
    "        bc = interp(np.array([teff,logg,feh,0]))[0]\n",
    "    except:\n",
    "        bc = 0.\n",
    "    return np.random.normal(bc, 0.04, N)"
   ]
  },
  {
   "cell_type": "code",
   "execution_count": 20,
   "metadata": {},
   "outputs": [],
   "source": [
    "mask = np.isnan(df['plx'])\n",
    "df = df[~mask]"
   ]
  },
  {
   "cell_type": "code",
   "execution_count": 21,
   "metadata": {},
   "outputs": [
    {
     "name": "stderr",
     "output_type": "stream",
     "text": [
      "100%|██████████| 577/577 [00:38<00:00, 15.15it/s]\n"
     ]
    }
   ],
   "source": [
    "from tqdm import tqdm\n",
    "\n",
    "def getbc(teff,logg,feh,av):\n",
    "    return interp(np.array([teff,logg,feh,av]))[0]\n",
    "\n",
    "def log_L_bol(mag, distance, extinction, BC):\n",
    "    return (-((mag - 5*(np.log10(distance)-1) - extinction) + BC - 4.74)/2.5)\n",
    "\n",
    "N = 100000\n",
    "values = []\n",
    "for index, row in tqdm(df[:].iterrows(), total=df.shape[0]):\n",
    "    distance = get_distance_posterior(row['plx'], row['e_plx'], row['r_len'], row['r_est'], N=N)\n",
    "    extinction = get_extinction_posterior(row['ra'], row['dec'], distance)\n",
    "        \n",
    "    logg = 4.\n",
    "    feh = 4.\n",
    "    bc = getbc_posterior(row['stellar_teff__k_'], logg=logg, feh=feh, N=N)\n",
    "    mag = np.random.normal(row['gaiamag'], row['e_gaiamag'], N)\n",
    "    \n",
    "    val = log_L_bol(mag, distance, extinction, bc)\n",
    "    \n",
    "    values.append([np.mean(val), np.median(val), np.percentile(val,84.13), np.percentile(val,15.86), np.std(val), np.median(bc), row['id']])"
   ]
  },
  {
   "cell_type": "code",
   "execution_count": 22,
   "metadata": {},
   "outputs": [],
   "source": [
    "tic = [int(value[-1]) for value in values]"
   ]
  },
  {
   "cell_type": "code",
   "execution_count": 24,
   "metadata": {},
   "outputs": [],
   "source": [
    "values = np.array(values)\n",
    "lum_df = pd.DataFrame({\n",
    "    'ID': tic,\n",
    "    'MC_LUM': values[:,0],\n",
    "    'MC_LUM_SD': values[:,4],\n",
    "    'MC_LUM_MED': values[:,1],\n",
    "    'MC_LUM_UPPER': values[:,2],\n",
    "    'MC_LUM_LOWER': values[:,3]\n",
    "})"
   ]
  },
  {
   "cell_type": "code",
   "execution_count": 25,
   "metadata": {},
   "outputs": [],
   "source": [
    "toi_lum = toi.merge(lum_df, left_on='TIC ID', right_on='ID')"
   ]
  },
  {
   "cell_type": "code",
   "execution_count": null,
   "metadata": {},
   "outputs": [],
   "source": []
  },
  {
   "cell_type": "code",
   "execution_count": null,
   "metadata": {},
   "outputs": [],
   "source": []
  },
  {
   "cell_type": "markdown",
   "metadata": {},
   "source": [
    "# HRD"
   ]
  },
  {
   "cell_type": "code",
   "execution_count": 5,
   "metadata": {},
   "outputs": [],
   "source": [
    "# toi_lum = pd.read_csv('../data/toi_lum.csv')\n",
    "# toi_lum = toi_lum[toi_lum['TIC ID'].isin(toi_dsct)]\n",
    "# # [print(col) for col in toi_lum.columns];"
   ]
  },
  {
   "cell_type": "code",
   "execution_count": 6,
   "metadata": {},
   "outputs": [],
   "source": [
    "# Stellar tracks\n",
    "Lcolnames = [\"T11\", \"L11\", \"G11\", \"T12\", \"L12\", \"G12\", \"T13\", \"L13\", \"G13\", \"T14\", \"L14\", \"G14\", \"T15\", \"L15\", \"G15\", \"T16\", \"L16\", \"G16\", \"T17\", \"L17\", \"G17\", \"T18\", \"L18\", \"G18\", \"T19\", \"L19\", \"G19\", \"T20\", \"L20\", \"G20\", \"T21\", \"L21\", \"G21\", \"T22\", \"L22\", \"G22\", \"T23\", \"L23\", \"G23\", \"T24\", \"L24\", \"G24\", \"T25\", \"L25\", \"G25\"]\n",
    "Ltracks = pd.read_csv(\"../data/tracks/mesa10108_as09_opal_exp150_mlt180_D000_z140x071_orig.csv\",  header=None, sep=\" \", names=Lcolnames, skiprows=([0]))\n",
    "msL = pd.DataFrame(data={\"Tms\": Ltracks.loc[0][0::3].values, \"Lms\": Ltracks.loc[0][1::3].values, \"Gms\": Ltracks.loc[0][2::3].values})"
   ]
  },
  {
   "cell_type": "code",
   "execution_count": 7,
   "metadata": {},
   "outputs": [
    {
     "data": {
      "image/png": "[encoded data removed]",
      "text/plain": [
       "<Figure size 242.267x242.267 with 2 Axes>"
      ]
     },
     "metadata": {
      "image/png": {
       "height": 218,
       "width": 217
      },
      "needs_background": "light"
     },
     "output_type": "display_data"
    }
   ],
   "source": [
    "plt.figure(figsize=mnras_size(242.26653, square=True))\n",
    "# plt.figure(figsize=[10,10])\n",
    "# # plot evolutionary tracks\n",
    "# for n in np.arange(0,-8+len(oLcolnames)/3):\n",
    "#     plt.plot(oLtracks.iloc[:,int(3*n+0)],oLtracks.iloc[:,int(3*n+1)],\"g-\",linewidth=0.8,label='old')\n",
    "\n",
    "for n, mass in zip(np.arange(0,len(Lcolnames)/3), np.arange(1.1,2.7,0.1)):\n",
    "    plt.plot(Ltracks.iloc[:,int(3*n+0)],Ltracks.iloc[:,int(3*n+1)],c='black',linewidth=0.6)\n",
    "    if (mass > 1.2) & (mass < 2.1):\n",
    "        plt.text(Ltracks.iloc[:,int(3*n+0)][0]+20, Ltracks.iloc[:,int(3*n+1)][0]-0.1, str(np.round(mass,2)), c='black',horizontalalignment='center',verticalalignment='center', fontsize=7)\n",
    "plt.plot(msL['Tms'], msL['Lms'], c='black', linewidth=0.8, linestyle='dashed')\n",
    "# give the plot frame the right parameters / aesthetics\n",
    "plt.xlabel(r\"T$_{\\rm eff}$ (K)\")\n",
    "plt.ylabel(r\"log L/L$_{\\odot}$\")\n",
    "plt.ylim(0.0,2.)\n",
    "plt.xlim(6100,10100)\n",
    "plt.gca().invert_xaxis()\n",
    "\n",
    "af_dsct = AF_stars[AF_stars.kic.isin(koi[koi['dsct']==True].kepid)]\n",
    "plt.errorbar(af_dsct['Teffi'], af_dsct['loglbol_g_median'], yerr=[af_dsct['loglbol_sigp'], af_dsct['loglbol_sigm']], \n",
    "             xerr=af_dsct['e_Teffi'], fmt='.', c='C3', label='Kepler', elinewidth=0.7, markersize=5,\n",
    "#             markeredgecolor='white'\n",
    "            )\n",
    "\n",
    "toi_lum = toi[toi['dsct'] == True]\n",
    "plt.errorbar(toi_lum['Stellar Teff (K)'], toi_lum['MC_LUM'], yerr=toi_lum['MC_LUM_SD'], \n",
    "             xerr=toi_lum['Stellar Teff error'], fmt='.', c='C0', label='TESS', elinewidth=0.7, markersize=5,\n",
    "#             markeredgecolor='white'\n",
    "            )\n",
    "\n",
    "plt.legend(fontsize=8)\n",
    "\n",
    "colors = np.array([\n",
    "    [146,181,255],\n",
    "    [162,192,255],\n",
    "    [213,224,255],\n",
    "    [249,245,255],\n",
    "    [255,237,227],\n",
    "    [255,218,181],\n",
    "    [255,181,108]\n",
    "]) / 255\n",
    "\n",
    "classes = np.array([\n",
    "    [30000, 50000],\n",
    "    [10000,10500],\n",
    "    [7200,10000],\n",
    "    [6000,7200],\n",
    "    [5200,6000],\n",
    "    [3700,5200],\n",
    "    [3000,3700]\n",
    "])\n",
    "\n",
    "\n",
    "ax2 = plt.twiny()\n",
    "ax2.set_xlim(10100,6100)\n",
    "\n",
    "\n",
    "# Major ticks\n",
    "ticks2 = [3700,5200,6000,7200,10000]\n",
    "ax2.set_xticks(ticks2)\n",
    "ax2.set_xticklabels([])\n",
    "ax2.tick_params(axis='x', which=\"major\", length=5)\n",
    "ax2.set_xlim(10100,6100)\n",
    "\n",
    "# Minor ticks\n",
    "ticks1 = np.average(classes, axis=1)\n",
    "labs = ['O', 'B', 'A', 'F', 'G', 'K', 'M']\n",
    "ax2.set_xticks(ticks1, minor=True)\n",
    "ax2.set_xticklabels(labs, minor=True)\n",
    "ax2.tick_params(axis='x', which=\"minor\",length=0)\n",
    "ax2.set_xlim(10100,6100)\n",
    "\n",
    "plt.savefig(overleaf_path + 'HRD.pdf')\n",
    "\n",
    "# plt.savefig('test_notex.png', dpi=300)"
   ]
  },
  {
   "cell_type": "markdown",
   "metadata": {},
   "source": [
    "# Masses"
   ]
  },
  {
   "cell_type": "code",
   "execution_count": 45,
   "metadata": {},
   "outputs": [],
   "source": [
    "Ltracks = pd.read_csv('../data/tracks/mesa10108_as09_opal_exp150_mlt180_D000_z100x071_refined_withage.csv',  header=None, sep=\" \", skiprows=([0]))\n",
    "\n",
    "temp = Ltracks[0].values\n",
    "lum = Ltracks[1].values\n",
    "mass = np.array([1.1]*len(Ltracks[0]))\n",
    "                \n",
    "for track in np.arange(0,156, 4):\n",
    "    temp = np.concatenate((temp, Ltracks[track].values))\n",
    "    lum = np.concatenate((lum, Ltracks[track+1].values))\n",
    "    mass = np.concatenate((mass, np.array([1.10 + (track/4)*0.05]*len(Ltracks[track]))))"
   ]
  },
  {
   "cell_type": "code",
   "execution_count": 47,
   "metadata": {},
   "outputs": [],
   "source": [
    "from scipy.interpolate import griddata\n",
    "\n",
    "mass_interp = []\n",
    "for index, row in toi_lum.iterrows():\n",
    "    mass_interp.append(griddata((np.array(temp), np.array(lum)),np.array(mass),[row['Stellar Teff (K)'], row['MC_LUM']],method='cubic')[0])\n",
    "toi_lum['mass_interp'] = mass_interp"
   ]
  },
  {
   "cell_type": "code",
   "execution_count": 198,
   "metadata": {},
   "outputs": [],
   "source": [
    "# Evolutionary tracks for stars in or close to the delta Sct instability strip. Masses vary from 1.0 to 3.0 Msol, with a step of 0.05 Msol. Four columns per mass: Teff, logL, logg and age.\n",
    "tracks = np.loadtxt('../data/tracks/mesa10108_as09_opal_exp150_mlt180_D000_z100x071_refined_withage.csv', skiprows=1).T\n",
    "# 2nd ind: 0 - temp, 1 - logl, 2 - logg, 3 - age\n",
    "tracks = tracks.reshape(41, 4, 600)\n",
    "\n",
    "teffs = tracks[:,0,:]\n",
    "lums = tracks[:,1,:]\n",
    "loggs = tracks[:,2,:]\n",
    "\n",
    "# for track in tracks:\n",
    "#     plt.plot(track[0], track[1])\n",
    "\n",
    "# plt.figure(figsize=[10,5])\n",
    "\n",
    "# teffs = []\n",
    "# lums = []\n",
    "# masses = []\n",
    "\n",
    "# for i, track in enumerate(tracks[:]):\n",
    "#     shaped = track.reshape(41,4)\n",
    "#     teff, lum, logg = shaped[:,0], shaped[:,1], shaped[:,2]\n",
    "#     plt.plot(teff, lum, linewidth=0.1, c=blue)\n",
    "\n",
    "# Stellar tracks\n",
    "# Lcolnames = [\"T11\", \"L11\", \"G11\", \"T12\", \"L12\", \"G12\", \"T13\", \"L13\", \"G13\", \"T14\", \"L14\", \"G14\", \"T15\", \"L15\", \"G15\", \"T16\", \"L16\", \"G16\", \"T17\", \"L17\", \"G17\", \"T18\", \"L18\", \"G18\", \"T19\", \"L19\", \"G19\", \"T20\", \"L20\", \"G20\", \"T21\", \"L21\", \"G21\", \"T22\", \"L22\", \"G22\", \"T23\", \"L23\", \"G23\", \"T24\", \"L24\", \"G24\", \"T25\", \"L25\", \"G25\"]\n",
    "# Ltracks = pd.read_csv(\"../data/tracks/mesa10108_as09_opal_exp150_mlt180_D000_z140x071_orig.csv\",  header=None, sep=\" \", names=Lcolnames, skiprows=([0]))\n",
    "# msL = pd.DataFrame(data={\"Tms\": Ltracks.loc[0][0::3].values, \"Lms\": Ltracks.loc[0][1::3].values, \"Gms\": Ltracks.loc[0][2::3].values})\n",
    "\n",
    "# for n, mass in zip(np.arange(0,len(Lcolnames)/3), np.arange(1.1,2.7,0.1)):\n",
    "#     plt.plot(Ltracks.iloc[:,int(3*n+0)],Ltracks.iloc[:,int(3*n+1)],c='black',linewidth=0.6)\n",
    "#     if (mass > 1.2) & (mass < 2.2):\n",
    "#         plt.text(Ltracks.iloc[:,int(3*n+0)][0]+20, Ltracks.iloc[:,int(3*n+1)][0]-0.1, str(np.round(mass,2)), c='black',horizontalalignment='center',verticalalignment='center', fontsize=7)\n",
    "# plt.plot(msL['Tms'], msL['Lms'], c='black', linewidth=0.8, linestyle='dashed')\n",
    "# plt.xlim(10000,6500)"
   ]
  },
  {
   "cell_type": "code",
   "execution_count": 240,
   "metadata": {},
   "outputs": [],
   "source": [
    "from scipy.interpolate import interp2d\n",
    "\n",
    "t_flat = teffs.flatten()\n",
    "l_flat = lums.flatten()\n",
    "sort = np.argsort(t_flat)\n",
    "t_flat = t_flat[sort]\n",
    "l_flat = l_flat[sort]"
   ]
  },
  {
   "cell_type": "code",
   "execution_count": null,
   "metadata": {},
   "outputs": [],
   "source": [
    "interp2d(t_flat, l_flat, np.ones(24600))"
   ]
  },
  {
   "cell_type": "code",
   "execution_count": 231,
   "metadata": {},
   "outputs": [
    {
     "name": "stdout",
     "output_type": "stream",
     "text": [
      "359 ms ± 33.9 ms per loop (mean ± std. dev. of 7 runs, 1 loop each)\n"
     ]
    }
   ],
   "source": [
    "%timeit griddata((t_flat, l_flat), np.ones((24600)), (6500, 1.))"
   ]
  },
  {
   "cell_type": "code",
   "execution_count": 239,
   "metadata": {},
   "outputs": [
    {
     "data": {
      "text/plain": [
       "0.9972222222222222"
      ]
     },
     "execution_count": 239,
     "metadata": {},
     "output_type": "execute_result"
    }
   ],
   "source": [
    "(10000*0.359) / 60 "
   ]
  },
  {
   "cell_type": "code",
   "execution_count": 202,
   "metadata": {},
   "outputs": [
    {
     "data": {
      "text/plain": [
       "(11, 22, 33)"
      ]
     },
     "execution_count": 202,
     "metadata": {},
     "output_type": "execute_result"
    }
   ],
   "source": [
    "data.shape"
   ]
  },
  {
   "cell_type": "code",
   "execution_count": 205,
   "metadata": {},
   "outputs": [
    {
     "data": {
      "text/plain": [
       "((11,), (22,), (33,))"
      ]
     },
     "execution_count": 205,
     "metadata": {},
     "output_type": "execute_result"
    }
   ],
   "source": [
    "x.shape, y.shape, z.shape"
   ]
  },
  {
   "cell_type": "code",
   "execution_count": 206,
   "metadata": {},
   "outputs": [
    {
     "data": {
      "text/plain": [
       "array([1. , 1.3, 1.6, 1.9, 2.2, 2.5, 2.8, 3.1, 3.4, 3.7, 4. ])"
      ]
     },
     "execution_count": 206,
     "metadata": {},
     "output_type": "execute_result"
    }
   ],
   "source": [
    "x"
   ]
  },
  {
   "cell_type": "code",
   "execution_count": 213,
   "metadata": {},
   "outputs": [
    {
     "ename": "ValueError",
     "evalue": "The points in dimension 0 must be strictly ascending",
     "output_type": "error",
     "traceback": [
      "\u001b[0;31m---------------------------------------------------------------------------\u001b[0m",
      "\u001b[0;31mValueError\u001b[0m                                Traceback (most recent call last)",
      "\u001b[0;32m<ipython-input-213-c1f9ce46fefc>\u001b[0m in \u001b[0;36m<module>\u001b[0;34m\u001b[0m\n\u001b[1;32m      1\u001b[0m \u001b[0;32mfrom\u001b[0m \u001b[0mscipy\u001b[0m\u001b[0;34m.\u001b[0m\u001b[0minterpolate\u001b[0m \u001b[0;32mimport\u001b[0m \u001b[0mRegularGridInterpolator\u001b[0m\u001b[0;34m\u001b[0m\u001b[0;34m\u001b[0m\u001b[0m\n\u001b[1;32m      2\u001b[0m \u001b[0;34m\u001b[0m\u001b[0m\n\u001b[0;32m----> 3\u001b[0;31m \u001b[0mRegularGridInterpolator\u001b[0m\u001b[0;34m(\u001b[0m\u001b[0;34m(\u001b[0m\u001b[0mteffs\u001b[0m\u001b[0;34m.\u001b[0m\u001b[0mflatten\u001b[0m\u001b[0;34m(\u001b[0m\u001b[0;34m)\u001b[0m\u001b[0;34m,\u001b[0m \u001b[0mlums\u001b[0m\u001b[0;34m.\u001b[0m\u001b[0mflatten\u001b[0m\u001b[0;34m(\u001b[0m\u001b[0;34m)\u001b[0m\u001b[0;34m)\u001b[0m\u001b[0;34m,\u001b[0m \u001b[0mnp\u001b[0m\u001b[0;34m.\u001b[0m\u001b[0mones\u001b[0m\u001b[0;34m(\u001b[0m\u001b[0;34m(\u001b[0m\u001b[0;36m24600\u001b[0m\u001b[0;34m,\u001b[0m \u001b[0;36m24600\u001b[0m\u001b[0;34m)\u001b[0m\u001b[0;34m)\u001b[0m\u001b[0;34m)\u001b[0m\u001b[0;34m\u001b[0m\u001b[0;34m\u001b[0m\u001b[0m\n\u001b[0m\u001b[1;32m      4\u001b[0m \u001b[0;31m# tracks_combined = tracks[:,0:2,:]\u001b[0m\u001b[0;34m\u001b[0m\u001b[0;34m\u001b[0m\u001b[0;34m\u001b[0m\u001b[0m\n\u001b[1;32m      5\u001b[0m \u001b[0;31m# masses = np.ones_like(tracks_combined)\u001b[0m\u001b[0;34m\u001b[0m\u001b[0;34m\u001b[0m\u001b[0;34m\u001b[0m\u001b[0m\n",
      "\u001b[0;32m~/anaconda3/lib/python3.7/site-packages/scipy/interpolate/interpolate.py\u001b[0m in \u001b[0;36m__init__\u001b[0;34m(self, points, values, method, bounds_error, fill_value)\u001b[0m\n\u001b[1;32m   2442\u001b[0m             \u001b[0;32mif\u001b[0m \u001b[0;32mnot\u001b[0m \u001b[0mnp\u001b[0m\u001b[0;34m.\u001b[0m\u001b[0mall\u001b[0m\u001b[0;34m(\u001b[0m\u001b[0mnp\u001b[0m\u001b[0;34m.\u001b[0m\u001b[0mdiff\u001b[0m\u001b[0;34m(\u001b[0m\u001b[0mp\u001b[0m\u001b[0;34m)\u001b[0m \u001b[0;34m>\u001b[0m \u001b[0;36m0.\u001b[0m\u001b[0;34m)\u001b[0m\u001b[0;34m:\u001b[0m\u001b[0;34m\u001b[0m\u001b[0;34m\u001b[0m\u001b[0m\n\u001b[1;32m   2443\u001b[0m                 raise ValueError(\"The points in dimension %d must be strictly \"\n\u001b[0;32m-> 2444\u001b[0;31m                                  \"ascending\" % i)\n\u001b[0m\u001b[1;32m   2445\u001b[0m             \u001b[0;32mif\u001b[0m \u001b[0;32mnot\u001b[0m \u001b[0mnp\u001b[0m\u001b[0;34m.\u001b[0m\u001b[0masarray\u001b[0m\u001b[0;34m(\u001b[0m\u001b[0mp\u001b[0m\u001b[0;34m)\u001b[0m\u001b[0;34m.\u001b[0m\u001b[0mndim\u001b[0m \u001b[0;34m==\u001b[0m \u001b[0;36m1\u001b[0m\u001b[0;34m:\u001b[0m\u001b[0;34m\u001b[0m\u001b[0;34m\u001b[0m\u001b[0m\n\u001b[1;32m   2446\u001b[0m                 raise ValueError(\"The points in dimension %d must be \"\n",
      "\u001b[0;31mValueError\u001b[0m: The points in dimension 0 must be strictly ascending"
     ]
    }
   ],
   "source": [
    "from scipy.interpolate import griddata\n",
    "\n",
    "tracks_combined = tracks[:,0:2,:]\n",
    "masses = np.ones_like(tracks_combined)\n",
    "mass_lin = np.linspace(1, 3, 41)\n",
    "\n",
    "for i, mass in enumerate(mass_lin):\n",
    "    masses[i,:,:] = mass"
   ]
  },
  {
   "cell_type": "code",
   "execution_count": 212,
   "metadata": {},
   "outputs": [],
   "source": []
  },
  {
   "cell_type": "markdown",
   "metadata": {},
   "source": [
    "# To paper table"
   ]
  },
  {
   "cell_type": "code",
   "execution_count": null,
   "metadata": {},
   "outputs": [],
   "source": []
  },
  {
   "cell_type": "code",
   "execution_count": 81,
   "metadata": {},
   "outputs": [
    {
     "name": "stdout",
     "output_type": "stream",
     "text": [
      "TIC 80275202 \t & PC \t     & 7889 $\\pm$ 115 \t     & 0.93 $\\pm$ 0.02 \t     & 1.0 \t     & 3.6646 $\\pm$ 0.0007 \\\\\n",
      "TIC 89759617 \t & PC \t     & 7873 $\\pm$ 183 \t     & 1.23 $\\pm$ 0.02 \t     & 1.0 \t     & 3.3304 $\\pm$ 0.0007 \\\\\n",
      "TIC 120269103 \t & PC \t     & 8446 $\\pm$ 422 \t     & 1.70 $\\pm$ 0.02 \t     & 1.0 \t     & 6.5976 $\\pm$ 0.0068 \\\\\n",
      "TIC 156987351 \t & PC \t     & 7691 $\\pm$ 215 \t     & 1.04 $\\pm$ 0.02 \t     & 1.0 \t     & 3.0630 $\\pm$ 0.0005 \\\\\n",
      "TIC 193413306 \t & PC \t     & 6502 $\\pm$ 114 \t     & 1.06 $\\pm$ 0.02 \t     & 1.0 \t     & 1.7260 $\\pm$ 0.0002 \\\\\n",
      "TIC 202563254 \t & PC \t     & 7787 $\\pm$ 158 \t     & 1.06 $\\pm$ 0.02 \t     & 1.0 \t     & 4.4733 $\\pm$ 0.0032 \\\\\n",
      "TIC 255704097 \t & PC \t     & 7836 $\\pm$ 202 \t     & 0.89 $\\pm$ 0.02 \t     & 1.0 \t     & 6.0152 $\\pm$ 0.0003 \\\\\n",
      "TIC 295599256 \t & PC \t     & 7860 $\\pm$ 220 \t     & 1.11 $\\pm$ 0.02 \t     & 1.0 \t     & 7.1439 $\\pm$ 0.0005 \\\\\n",
      "TIC 372913430 \t & PC \t     & 9125 $\\pm$ 85 \t     & 1.81 $\\pm$ 0.02 \t     & 1.0 \t     & 13.4779 $\\pm$ 0.0001 \\\\\n",
      "TIC 409934330 \t & PC \t     & 8048 $\\pm$ nan \t     & 1.46 $\\pm$ 0.02 \t     & 1.0 \t     & 2.4890 $\\pm$ 0.0001 \\\\\n"
     ]
    }
   ],
   "source": [
    "for index, row in toi_lum.sort_values('TIC ID').iterrows():\n",
    "    print(f\"TIC {row['TIC ID']} \\t & {row['TESS Disposition']} \\t \\\n",
    "    & {row['Stellar Teff (K)']:.0f} $\\pm$ {row['Stellar Teff error']:.0f} \\t \\\n",
    "    & {row['MC_LUM']:.2f} $\\pm$ {row['MC_LUM_SD']:.2f} \\t \\\n",
    "    & {1.} \\t \\\n",
    "    & {row['Period (days)']:.4f} $\\pm$ {row['Period error']:.4f} \\\\\\\\\")"
   ]
  }
 ],
 "metadata": {
  "kernelspec": {
   "display_name": "Python 3",
   "language": "python",
   "name": "python3"
  },
  "language_info": {
   "codemirror_mode": {
    "name": "ipython",
    "version": 3
   },
   "file_extension": ".py",
   "mimetype": "text/x-python",
   "name": "python",
   "nbconvert_exporter": "python",
   "pygments_lexer": "ipython3",
   "version": "3.7.6"
  }
 },
 "nbformat": 4,
 "nbformat_minor": 4
}
