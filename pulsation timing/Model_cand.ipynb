{
 "cells": [
  {
   "cell_type": "code",
   "execution_count": 1,
   "metadata": {},
   "outputs": [],
   "source": [
    "import glob\n",
    "import numpy as np\n",
    "import lightkurve as lk\n",
    "import matplotlib.pyplot as plt\n",
    "from astropy.io import fits\n",
    "import pandas as pd\n",
    "\n",
    "from utils import estimate_frequencies, amplitude_spectrum"
   ]
  },
  {
   "cell_type": "code",
   "execution_count": 2,
   "metadata": {},
   "outputs": [],
   "source": [
    "from periodogram import Periodogram"
   ]
  },
  {
   "cell_type": "code",
   "execution_count": 3,
   "metadata": {},
   "outputs": [],
   "source": [
    "# ii = -1\n",
    "# # df = pd.read_csv(\"../data/catalogues/rev_AF_stars.csv\", dtype={'kic': str})\n",
    "# koi = pd.read_csv('../transit analysis/cumulative_2021.05.01_20.40.11.csv', dtype={'kepid': str}, skiprows=146)\n",
    "\n",
    "# # df = pd.merge(df, koi, left_on='kic', right_on='kepid')\n",
    "# df = koi\n",
    "# row = df[df.kepid == candidates[ii]].squeeze()\n",
    "# f = glob.glob(f\"../data/lightcurves/spline corrected PDC/lc/*{candidates[ii]}*\")[0]\n",
    "# time, flux, flux_err = np.loadtxt(f, unpack=True)\n",
    "# flux -= 1.\n",
    "# plt.plot(time, flux)"
   ]
  },
  {
   "cell_type": "code",
   "execution_count": 13,
   "metadata": {},
   "outputs": [],
   "source": [
    "from scipy.ndimage import gaussian_filter\n",
    "\n",
    "def high_pass(t, y, width=3.):\n",
    "    y_low = gaussian_filter(y, width)\n",
    "    return y - y_low\n",
    "\n",
    "def get_kepler_lc(kic_id):\n",
    "    file = glob.glob(f'../data/lightcurves/PDC/*{kic_id}.csv')[0]\n",
    "    t, y = np.loadtxt(file, usecols=(0,1)).T\n",
    "    return t, y\n",
    "    \n",
    "def preprocess_lc(t, y):\n",
    "    y = high_pass(t, y)\n",
    "    lc = lk.LightCurve(t, y).remove_outliers().remove_nans()\n",
    "    return lc.time.value, lc.flux.value"
   ]
  },
  {
   "cell_type": "code",
   "execution_count": 30,
   "metadata": {},
   "outputs": [],
   "source": [
    "cand = pd.DataFrame({\n",
    "    'kepid': ['4380834', '5724523', '7767699', '8249829', '9895543'],\n",
    "    'period': [0.889896, 0.545784, 1.128263, 1.012737, 1.218900],\n",
    "    'nfreqs': [\n",
    "    2,\n",
    "    3,\n",
    "    3,\n",
    "    1,\n",
    "    2\n",
    "]\n",
    "})"
   ]
  },
  {
   "cell_type": "code",
   "execution_count": 31,
   "metadata": {},
   "outputs": [
    {
     "data": {
      "text/html": [
       "<div>\n",
       "<style scoped>\n",
       "    .dataframe tbody tr th:only-of-type {\n",
       "        vertical-align: middle;\n",
       "    }\n",
       "\n",
       "    .dataframe tbody tr th {\n",
       "        vertical-align: top;\n",
       "    }\n",
       "\n",
       "    .dataframe thead th {\n",
       "        text-align: right;\n",
       "    }\n",
       "</style>\n",
       "<table border=\"1\" class=\"dataframe\">\n",
       "  <thead>\n",
       "    <tr style=\"text-align: right;\">\n",
       "      <th></th>\n",
       "      <th>kepid</th>\n",
       "      <th>period</th>\n",
       "      <th>nfreq</th>\n",
       "    </tr>\n",
       "  </thead>\n",
       "  <tbody>\n",
       "    <tr>\n",
       "      <th>0</th>\n",
       "      <td>4380834</td>\n",
       "      <td>0.889896</td>\n",
       "      <td>2</td>\n",
       "    </tr>\n",
       "    <tr>\n",
       "      <th>1</th>\n",
       "      <td>5724523</td>\n",
       "      <td>0.545784</td>\n",
       "      <td>3</td>\n",
       "    </tr>\n",
       "    <tr>\n",
       "      <th>2</th>\n",
       "      <td>7767699</td>\n",
       "      <td>1.128263</td>\n",
       "      <td>3</td>\n",
       "    </tr>\n",
       "    <tr>\n",
       "      <th>3</th>\n",
       "      <td>8249829</td>\n",
       "      <td>1.012737</td>\n",
       "      <td>1</td>\n",
       "    </tr>\n",
       "    <tr>\n",
       "      <th>4</th>\n",
       "      <td>9895543</td>\n",
       "      <td>1.218900</td>\n",
       "      <td>2</td>\n",
       "    </tr>\n",
       "  </tbody>\n",
       "</table>\n",
       "</div>"
      ],
      "text/plain": [
       "     kepid    period  nfreq\n",
       "0  4380834  0.889896      2\n",
       "1  5724523  0.545784      3\n",
       "2  7767699  1.128263      3\n",
       "3  8249829  1.012737      1\n",
       "4  9895543  1.218900      2"
      ]
     },
     "execution_count": 31,
     "metadata": {},
     "output_type": "execute_result"
    }
   ],
   "source": [
    "cand"
   ]
  },
  {
   "cell_type": "code",
   "execution_count": 28,
   "metadata": {},
   "outputs": [
    {
     "name": "stderr",
     "output_type": "stream",
     "text": [
      "/home/daniel/anaconda3/envs/exoplanet_test/lib/python3.8/site-packages/lightkurve/lightcurve.py:205: LightkurveDeprecationWarning: passing flux as a positional argument is deprecated, please use ``flux=...`` instead.\n",
      "  warnings.warn(\n"
     ]
    },
    {
     "data": {
      "text/plain": [
       "kepid     9895543\n",
       "period     1.2189\n",
       "Name: 4, dtype: object"
      ]
     },
     "execution_count": 28,
     "metadata": {},
     "output_type": "execute_result"
    },
    {
     "data": {
      "image/png": "[encoded data removed]",
      "text/plain": [
       "<Figure size 432x288 with 1 Axes>"
      ]
     },
     "metadata": {
      "needs_background": "light"
     },
     "output_type": "display_data"
    }
   ],
   "source": [
    "ii = 4\n",
    "\n",
    "row = cand.iloc[ii]\n",
    "\n",
    "time, flux = get_kepler_lc(row.kepid)\n",
    "time, flux = preprocess_lc(time, flux)\n",
    "flux *= 1e3\n",
    "# flux *= 1e3\n",
    "plt.plot(time, flux, ',k')\n",
    "row"
   ]
  },
  {
   "cell_type": "code",
   "execution_count": 29,
   "metadata": {},
   "outputs": [
    {
     "data": {
      "image/png": "[encoded data removed]",
      "text/plain": [
       "<Figure size 432x288 with 1 Axes>"
      ]
     },
     "metadata": {
      "needs_background": "light"
     },
     "output_type": "display_data"
    }
   ],
   "source": [
    "# plt.plot(time, flux)\n",
    "peaks = estimate_frequencies(time, flux, max_peaks=2)\n",
    "plt.plot(*amplitude_spectrum(time, flux, fmax=48))\n",
    "for p in peaks:\n",
    "    plt.axvline(p, c='red', lw=5, alpha=0.25)\n",
    "    \n",
    "amps = np.array([amplitude_spectrum(time, flux, freq=[p])[1] for p in peaks]).squeeze()"
   ]
  },
  {
   "cell_type": "code",
   "execution_count": null,
   "metadata": {},
   "outputs": [],
   "source": [
    "n = [\n",
    "    2,\n",
    "    3,\n",
    "    3,\n",
    "    1,\n",
    "    2\n",
    "]"
   ]
  },
  {
   "cell_type": "markdown",
   "metadata": {},
   "source": [
    "# First look with a pulsation timing periodogram"
   ]
  },
  {
   "cell_type": "code",
   "execution_count": null,
   "metadata": {},
   "outputs": [
    {
     "name": "stderr",
     "output_type": "stream",
     "text": [
      "\n",
      "  0%|          | 0/200 [00:00<?, ?it/s]\u001b[A\n",
      "  0%|          | 1/200 [00:02<07:18,  2.20s/it]\u001b[A"
     ]
    }
   ],
   "source": [
    "pg = Periodogram(time, flux, peaks)\n",
    "periods = np.linspace(20, 120, 200)\n",
    "res = pg.fit(periods)"
   ]
  },
  {
   "cell_type": "code",
   "execution_count": 10,
   "metadata": {},
   "outputs": [
    {
     "data": {
      "text/plain": [
       "array([<AxesSubplot:xlabel='Period [day]', ylabel='Model likelihood'>,\n",
       "       <AxesSubplot:xlabel='Period [day]', ylabel='asini (s)'>],\n",
       "      dtype=object)"
      ]
     },
     "execution_count": 10,
     "metadata": {},
     "output_type": "execute_result"
    },
    {
     "data": {
      "image/png": "[encoded data removed]",
      "text/plain": [
       "<Figure size 792x288 with 2 Axes>"
      ]
     },
     "metadata": {
      "needs_background": "light"
     },
     "output_type": "display_data"
    }
   ],
   "source": [
    "pg.diagnose()"
   ]
  },
  {
   "cell_type": "markdown",
   "metadata": {},
   "source": [
    "# Pulsation timing model"
   ]
  },
  {
   "cell_type": "code",
   "execution_count": 38,
   "metadata": {},
   "outputs": [
    {
     "name": "stderr",
     "output_type": "stream",
     "text": [
      "optimizing logp for variables: [mean]\n"
     ]
    },
    {
     "data": {
      "text/html": [
       "\n",
       "    <div>\n",
       "        <style>\n",
       "            /* Turns off some styling */\n",
       "            progress {\n",
       "                /* gets rid of default border in Firefox and Opera. */\n",
       "                border: none;\n",
       "                /* Needs to be in here for Safari polyfill so background images work as expected. */\n",
       "                background-size: auto;\n",
       "            }\n",
       "            .progress-bar-interrupted, .progress-bar-interrupted::-webkit-progress-bar {\n",
       "                background: #F44336;\n",
       "            }\n",
       "        </style>\n",
       "      <progress value='4' class='' max='4' style='width:300px; height:20px; vertical-align: middle;'></progress>\n",
       "      100.00% [4/4 00:00<00:00 logp = -6.287e+04]\n",
       "    </div>\n",
       "    "
      ],
      "text/plain": [
       "<IPython.core.display.HTML object>"
      ]
     },
     "metadata": {},
     "output_type": "display_data"
    },
    {
     "name": "stderr",
     "output_type": "stream",
     "text": [
      "message: Optimization terminated successfully.\n",
      "logp: -62872.8822469147 -> -62872.88213813334\n"
     ]
    },
    {
     "name": "stdout",
     "output_type": "stream",
     "text": [
      "\n"
     ]
    },
    {
     "name": "stderr",
     "output_type": "stream",
     "text": [
      "optimizing logp for variables: [logsigma]\n"
     ]
    },
    {
     "data": {
      "text/html": [
       "\n",
       "    <div>\n",
       "        <style>\n",
       "            /* Turns off some styling */\n",
       "            progress {\n",
       "                /* gets rid of default border in Firefox and Opera. */\n",
       "                border: none;\n",
       "                /* Needs to be in here for Safari polyfill so background images work as expected. */\n",
       "                background-size: auto;\n",
       "            }\n",
       "            .progress-bar-interrupted, .progress-bar-interrupted::-webkit-progress-bar {\n",
       "                background: #F44336;\n",
       "            }\n",
       "        </style>\n",
       "      <progress value='70' class='' max='70' style='width:300px; height:20px; vertical-align: middle;'></progress>\n",
       "      100.00% [70/70 00:00<00:00 logp = -5.937e+04]\n",
       "    </div>\n",
       "    "
      ],
      "text/plain": [
       "<IPython.core.display.HTML object>"
      ]
     },
     "metadata": {},
     "output_type": "display_data"
    },
    {
     "name": "stdout",
     "output_type": "stream",
     "text": [
      "\n"
     ]
    },
    {
     "name": "stderr",
     "output_type": "stream",
     "text": [
      "message: Desired error not necessarily achieved due to precision loss.\n",
      "logp: -62872.88213813334 -> -59370.50367471148\n",
      "optimizing logp for variables: [logamp, phase]\n"
     ]
    },
    {
     "data": {
      "text/html": [
       "\n",
       "    <div>\n",
       "        <style>\n",
       "            /* Turns off some styling */\n",
       "            progress {\n",
       "                /* gets rid of default border in Firefox and Opera. */\n",
       "                border: none;\n",
       "                /* Needs to be in here for Safari polyfill so background images work as expected. */\n",
       "                background-size: auto;\n",
       "            }\n",
       "            .progress-bar-interrupted, .progress-bar-interrupted::-webkit-progress-bar {\n",
       "                background: #F44336;\n",
       "            }\n",
       "        </style>\n",
       "      <progress value='276' class='' max='276' style='width:300px; height:20px; vertical-align: middle;'></progress>\n",
       "      100.00% [276/276 00:04<00:00 logp = -3.532e+04]\n",
       "    </div>\n",
       "    "
      ],
      "text/plain": [
       "<IPython.core.display.HTML object>"
      ]
     },
     "metadata": {},
     "output_type": "display_data"
    },
    {
     "name": "stdout",
     "output_type": "stream",
     "text": [
      "\n"
     ]
    },
    {
     "name": "stderr",
     "output_type": "stream",
     "text": [
      "message: Desired error not necessarily achieved due to precision loss.\n",
      "logp: -59370.50367471148 -> -35318.829850281094\n",
      "optimizing logp for variables: [phi]\n"
     ]
    },
    {
     "data": {
      "text/html": [
       "\n",
       "    <div>\n",
       "        <style>\n",
       "            /* Turns off some styling */\n",
       "            progress {\n",
       "                /* gets rid of default border in Firefox and Opera. */\n",
       "                border: none;\n",
       "                /* Needs to be in here for Safari polyfill so background images work as expected. */\n",
       "                background-size: auto;\n",
       "            }\n",
       "            .progress-bar-interrupted, .progress-bar-interrupted::-webkit-progress-bar {\n",
       "                background: #F44336;\n",
       "            }\n",
       "        </style>\n",
       "      <progress value='9' class='' max='9' style='width:300px; height:20px; vertical-align: middle;'></progress>\n",
       "      100.00% [9/9 00:00<00:00 logp = -3.530e+04]\n",
       "    </div>\n",
       "    "
      ],
      "text/plain": [
       "<IPython.core.display.HTML object>"
      ]
     },
     "metadata": {},
     "output_type": "display_data"
    },
    {
     "name": "stderr",
     "output_type": "stream",
     "text": [
      "message: Optimization terminated successfully.\n",
      "logp: -35318.829850281094 -> -35298.372527545565\n"
     ]
    },
    {
     "name": "stdout",
     "output_type": "stream",
     "text": [
      "\n"
     ]
    },
    {
     "name": "stderr",
     "output_type": "stream",
     "text": [
      "optimizing logp for variables: [lognu]\n"
     ]
    },
    {
     "data": {
      "text/html": [
       "\n",
       "    <div>\n",
       "        <style>\n",
       "            /* Turns off some styling */\n",
       "            progress {\n",
       "                /* gets rid of default border in Firefox and Opera. */\n",
       "                border: none;\n",
       "                /* Needs to be in here for Safari polyfill so background images work as expected. */\n",
       "                background-size: auto;\n",
       "            }\n",
       "            .progress-bar-interrupted, .progress-bar-interrupted::-webkit-progress-bar {\n",
       "                background: #F44336;\n",
       "            }\n",
       "        </style>\n",
       "      <progress value='56' class='' max='56' style='width:300px; height:20px; vertical-align: middle;'></progress>\n",
       "      100.00% [56/56 00:00<00:00 logp = -3.530e+04]\n",
       "    </div>\n",
       "    "
      ],
      "text/plain": [
       "<IPython.core.display.HTML object>"
      ]
     },
     "metadata": {},
     "output_type": "display_data"
    },
    {
     "name": "stdout",
     "output_type": "stream",
     "text": [
      "\n"
     ]
    },
    {
     "name": "stderr",
     "output_type": "stream",
     "text": [
      "message: Desired error not necessarily achieved due to precision loss.\n",
      "logp: -35298.372527545565 -> -35298.37252723318\n",
      "optimizing logp for variables: [logamp, phase, lognu, mean, asini, logsigma, phi, period]\n"
     ]
    },
    {
     "data": {
      "text/html": [
       "\n",
       "    <div>\n",
       "        <style>\n",
       "            /* Turns off some styling */\n",
       "            progress {\n",
       "                /* gets rid of default border in Firefox and Opera. */\n",
       "                border: none;\n",
       "                /* Needs to be in here for Safari polyfill so background images work as expected. */\n",
       "                background-size: auto;\n",
       "            }\n",
       "            .progress-bar-interrupted, .progress-bar-interrupted::-webkit-progress-bar {\n",
       "                background: #F44336;\n",
       "            }\n",
       "        </style>\n",
       "      <progress value='148' class='' max='148' style='width:300px; height:20px; vertical-align: middle;'></progress>\n",
       "      100.00% [148/148 00:02<00:00 logp = 5.789e+03]\n",
       "    </div>\n",
       "    "
      ],
      "text/plain": [
       "<IPython.core.display.HTML object>"
      ]
     },
     "metadata": {},
     "output_type": "display_data"
    },
    {
     "name": "stdout",
     "output_type": "stream",
     "text": [
      "\n"
     ]
    },
    {
     "name": "stderr",
     "output_type": "stream",
     "text": [
      "message: Desired error not necessarily achieved due to precision loss.\n",
      "logp: -35298.37252723318 -> 5789.276150826233\n",
      "optimizing logp for variables: [asini]\n"
     ]
    },
    {
     "data": {
      "text/html": [
       "\n",
       "    <div>\n",
       "        <style>\n",
       "            /* Turns off some styling */\n",
       "            progress {\n",
       "                /* gets rid of default border in Firefox and Opera. */\n",
       "                border: none;\n",
       "                /* Needs to be in here for Safari polyfill so background images work as expected. */\n",
       "                background-size: auto;\n",
       "            }\n",
       "            .progress-bar-interrupted, .progress-bar-interrupted::-webkit-progress-bar {\n",
       "                background: #F44336;\n",
       "            }\n",
       "        </style>\n",
       "      <progress value='2' class='' max='2' style='width:300px; height:20px; vertical-align: middle;'></progress>\n",
       "      100.00% [2/2 00:00<00:00 logp = 5.789e+03]\n",
       "    </div>\n",
       "    "
      ],
      "text/plain": [
       "<IPython.core.display.HTML object>"
      ]
     },
     "metadata": {},
     "output_type": "display_data"
    },
    {
     "name": "stderr",
     "output_type": "stream",
     "text": [
      "message: Optimization terminated successfully.\n",
      "logp: 5789.276150826233 -> 5789.276150826233\n"
     ]
    },
    {
     "name": "stdout",
     "output_type": "stream",
     "text": [
      "\n"
     ]
    },
    {
     "name": "stderr",
     "output_type": "stream",
     "text": [
      "optimizing logp for variables: [logamp, phase, lognu, mean, asini, logsigma, phi, period]\n"
     ]
    },
    {
     "data": {
      "text/html": [
       "\n",
       "    <div>\n",
       "        <style>\n",
       "            /* Turns off some styling */\n",
       "            progress {\n",
       "                /* gets rid of default border in Firefox and Opera. */\n",
       "                border: none;\n",
       "                /* Needs to be in here for Safari polyfill so background images work as expected. */\n",
       "                background-size: auto;\n",
       "            }\n",
       "            .progress-bar-interrupted, .progress-bar-interrupted::-webkit-progress-bar {\n",
       "                background: #F44336;\n",
       "            }\n",
       "        </style>\n",
       "      <progress value='39' class='' max='39' style='width:300px; height:20px; vertical-align: middle;'></progress>\n",
       "      100.00% [39/39 00:00<00:00 logp = 5.789e+03]\n",
       "    </div>\n",
       "    "
      ],
      "text/plain": [
       "<IPython.core.display.HTML object>"
      ]
     },
     "metadata": {},
     "output_type": "display_data"
    },
    {
     "name": "stdout",
     "output_type": "stream",
     "text": [
      "\n"
     ]
    },
    {
     "name": "stderr",
     "output_type": "stream",
     "text": [
      "message: Desired error not necessarily achieved due to precision loss.\n",
      "logp: 5789.276150826233 -> 5789.276150830325\n"
     ]
    }
   ],
   "source": [
    "import pymc3 as pm\n",
    "import aesara_theano_fallback.tensor as tt\n",
    "\n",
    "import pymc3_ext as pmx\n",
    "import exoplanet as xo\n",
    "import numpy as np\n",
    "\n",
    "\n",
    "def planet_model(time, flux, freq, amps, period_t, period_sd, eccen_t):\n",
    "    \"\"\"A custom PyMC3 model for planetary transits.\n",
    "    \n",
    "    Args:\n",
    "        time (array): Time values\n",
    "        flux (array): Flux values corresponding to `time`\n",
    "        freq (array): Frequencies in the pulsation model\n",
    "        amps (array): Amplitudes in the pulsation model\n",
    "        period_t (float): Orbital period from the transit\n",
    "        period_sd (float): Standard deviation of the orbital period from the transit\n",
    "        eccen_t (float): Eccentricity\n",
    "    \n",
    "    Returns:\n",
    "        PyMC3 Model: A planet pulsation timing model.\n",
    "    \"\"\"\n",
    "    if np.isnan(period_sd):\n",
    "        period_sd = 1e-5\n",
    "        \n",
    "    with pm.Model() as model:\n",
    "        period = pm.Normal(\"period\", mu=period_t, sd=period_sd, testval=period_t)\n",
    "        phi = xo.distributions.Angle(\"phi\")\n",
    "        logs_lc = pm.Normal(\"logsigma\", mu=np.log(np.std(flux)), sd=10, testval=0.0)\n",
    "        \n",
    "#         asini = pm.Bound(pm.Flat, lower=0)(\"asini\", shape=len(freq), testval=1e-5 + np.zeros(len(freq)))\n",
    "        asini = pm.Bound(pm.Flat, lower=0)(\"asini\", testval=1e-5)\n",
    "        mean = pm.Normal(\"mean\", mu=0.0, sd=10.0, testval=0.00)\n",
    "\n",
    "        # Mean anom\n",
    "        M = 2.0 * np.pi * time / period - phi\n",
    "\n",
    "        if eccen_t == 0:\n",
    "            eccen = 0\n",
    "            omega = 0\n",
    "            psi = -tt.sin(M)\n",
    "        else:\n",
    "            eccen = pm.Uniform(\"eccen\", lower=1e-3, upper=0.99, testval=eccen_t)\n",
    "            omega = xo.distributions.Angle(\"omega\", testval=0.0)  # True anom\n",
    "            kepler_op = xo.theano_ops.kepler.KeplerOp()\n",
    "            sinf, cosf = kepler_op(M, eccen + np.zeros(len(time)))\n",
    "\n",
    "            factor = 1.0 - tt.square(eccen)\n",
    "            factor /= 1.0 + eccen * cosf\n",
    "            psi = -factor * (sinf * tt.cos(omega) + cosf * tt.sin(omega))\n",
    "\n",
    "#         tau = pm.Deterministic(\"tau\", psi * asini)#[:, None])\n",
    "        tau = psi * asini\n",
    "#         tau = pm.Deterministic(\"tau\", psi * asini[:, None])\n",
    "        lognu = pm.Normal(\"lognu\", mu=np.log(freq), sd=0.1, shape=len(freq))\n",
    "        nu = pm.Deterministic(\"nu\", tt.exp(lognu))\n",
    "        factor = 2.0 * np.pi * nu\n",
    "\n",
    "        arg = (factor * (1))[None, :] * time[:, None] - (factor * asini / 86400)[\n",
    "            None, :\n",
    "        ] * psi[:, None]\n",
    "\n",
    "        phase = xo.distributions.Angle(\"phase\", shape=len(freq))\n",
    "        logamp = pm.Normal(\n",
    "            \"logamp\", mu=np.log(amps), sd=0.01, shape=len(freq), testval=np.log(amps)\n",
    "        )\n",
    "#         lc_model = pm.Deterministic('lc',\n",
    "#             tt.sum(tt.exp(logamp)[None, :] * tt.sin(arg - phase[None, :]), axis=1)\n",
    "#             + mean\n",
    "#         )\n",
    "        lc_model = tt.sum(tt.exp(logamp)[None, :] * tt.sin(arg - phase[None, :]), axis=1) + mean\n",
    "\n",
    "        # We pass this into our likelihood\n",
    "        pm.Normal(\"obs\", mu=lc_model, sd=tt.exp(logs_lc), observed=flux)\n",
    "\n",
    "    return model\n",
    "\n",
    "model = planet_model(time, flux, peaks, amps, koi_period, koi_period_err, 0)\n",
    "\n",
    "with model:\n",
    "    all_but = [v for v in model.vars if v.name not in [\"logP_interval__\", \"asini_interval__\"]]\n",
    "    \n",
    "    map_params = xo.optimize(start=None, vars=[model['mean']])\n",
    "    map_params = xo.optimize(start=map_params, vars=[model['logsigma']])\n",
    "    map_params = xo.optimize(start=map_params, vars=[model['phase'], model['logamp']])\n",
    "    if not koi_eccen == 0:\n",
    "        map_params = xo.optimize(start=map_params, vars=[model['eccen'], model['omega']])\n",
    "    map_params = xo.optimize(start=map_params, vars=[model[\"phi\"]])\n",
    "    map_params = xo.optimize(start=map_params, vars=[model[\"lognu\"]])\n",
    "    map_params = xo.optimize(start=map_params)\n",
    "    \n",
    "    map_params = xo.optimize(start=map_params, vars=[model['asini']])\n",
    "    map_params = xo.optimize(start=map_params)"
   ]
  },
  {
   "cell_type": "code",
   "execution_count": 43,
   "metadata": {},
   "outputs": [
    {
     "data": {
      "text/plain": [
       "{'period': array(22.82451391),\n",
       " 'phi_angle__': array([ 4.07190327, -1.84918854]),\n",
       " 'logsigma': array(-1.52734289),\n",
       " 'asini_lowerbound__': array(0.63692828),\n",
       " 'mean': array(-0.00014431),\n",
       " 'lognu': array([3.6480037 , 3.59380084, 3.48939368, 3.66066367]),\n",
       " 'phase_angle__': array([[ 1.67870138,  2.92999927, -4.44626784,  2.85396341],\n",
       "        [-4.14515395, -3.3788974 ,  0.47987056, -3.44308473]]),\n",
       " 'logamp': array([-0.81944639, -1.49448161, -1.60657373, -2.20565318]),\n",
       " 'phi': array(1.99708253),\n",
       " 'asini': array(1.89066436),\n",
       " 'nu': array([38.39793554, 36.37205789, 32.76607503, 38.88714266]),\n",
       " 'phase': array([ 2.7568012 ,  2.42722797, -1.46328587,  2.44947812])}"
      ]
     },
     "execution_count": 43,
     "metadata": {},
     "output_type": "execute_result"
    }
   ],
   "source": [
    "map_params"
   ]
  },
  {
   "cell_type": "code",
   "execution_count": 40,
   "metadata": {},
   "outputs": [
    {
     "name": "stderr",
     "output_type": "stream",
     "text": [
      "Multiprocess sampling (2 chains in 2 jobs)\n",
      "NUTS: [logamp, phase, lognu, mean, asini, logsigma, phi, period]\n"
     ]
    },
    {
     "data": {
      "text/html": [
       "\n",
       "    <div>\n",
       "        <style>\n",
       "            /* Turns off some styling */\n",
       "            progress {\n",
       "                /* gets rid of default border in Firefox and Opera. */\n",
       "                border: none;\n",
       "                /* Needs to be in here for Safari polyfill so background images work as expected. */\n",
       "                background-size: auto;\n",
       "            }\n",
       "            .progress-bar-interrupted, .progress-bar-interrupted::-webkit-progress-bar {\n",
       "                background: #F44336;\n",
       "            }\n",
       "        </style>\n",
       "      <progress value='4000' class='' max='4000' style='width:300px; height:20px; vertical-align: middle;'></progress>\n",
       "      100.00% [4000/4000 18:37<00:00 Sampling 2 chains, 0 divergences]\n",
       "    </div>\n",
       "    "
      ],
      "text/plain": [
       "<IPython.core.display.HTML object>"
      ]
     },
     "metadata": {},
     "output_type": "display_data"
    },
    {
     "name": "stderr",
     "output_type": "stream",
     "text": [
      "Sampling 2 chains for 1_000 tune and 1_000 draw iterations (2_000 + 2_000 draws total) took 1117 seconds.\n"
     ]
    }
   ],
   "source": [
    "np.random.seed(1)\n",
    "with model: \n",
    "    trace = pmx.sample(\n",
    "        tune=1000,\n",
    "        draws=1000,\n",
    "        start=map_params,\n",
    "        cores=2,\n",
    "        chains=2,\n",
    "        initial_accept=0.8,\n",
    "        target_accept=0.95,\n",
    "        return_inferencedata=False,\n",
    "    )\n",
    "    \n",
    "#     pm.save_trace(trace, f'traces/{row.kic}')"
   ]
  },
  {
   "cell_type": "code",
   "execution_count": 41,
   "metadata": {},
   "outputs": [],
   "source": [
    "import pickle # python3\n",
    "\n",
    "with open(f'traces/{row.kepoi_name}.pkl', 'wb') as buff:\n",
    "    pickle.dump({'model': model, 'trace': trace}, buff)"
   ]
  },
  {
   "cell_type": "code",
   "execution_count": 44,
   "metadata": {},
   "outputs": [
    {
     "data": {
      "text/plain": [
       "(0.9866667339213503, 0.9140991338325439)"
      ]
     },
     "execution_count": 44,
     "metadata": {},
     "output_type": "execute_result"
    }
   ],
   "source": [
    "np.median(trace['asini'], axis=0), np.std(trace['asini'], axis=0)"
   ]
  },
  {
   "cell_type": "code",
   "execution_count": 75,
   "metadata": {},
   "outputs": [
    {
     "data": {
      "text/plain": [
       "2.0"
      ]
     },
     "execution_count": 75,
     "metadata": {},
     "output_type": "execute_result"
    }
   ],
   "source": [
    "8**(1/3)"
   ]
  },
  {
   "cell_type": "code",
   "execution_count": 15,
   "metadata": {},
   "outputs": [
    {
     "data": {
      "text/plain": [
       "(array([4.5185215 , 2.96175041, 5.94898612]),\n",
       " array([3.62995364, 3.04369991, 4.93405612]))"
      ]
     },
     "execution_count": 15,
     "metadata": {},
     "output_type": "execute_result"
    }
   ],
   "source": [
    "np.median(trace['asini'], axis=0), np.std(trace['asini'], axis=0)"
   ]
  },
  {
   "cell_type": "code",
   "execution_count": 15,
   "metadata": {},
   "outputs": [
    {
     "data": {
      "text/plain": [
       "array([111.65567532, 111.65450607, 111.65485362, ..., 111.6549794 ,\n",
       "       111.65632722, 111.65423728])"
      ]
     },
     "execution_count": 15,
     "metadata": {},
     "output_type": "execute_result"
    }
   ],
   "source": [
    "trace[\"period\"]"
   ]
  },
  {
   "cell_type": "code",
   "execution_count": 20,
   "metadata": {},
   "outputs": [],
   "source": [
    "import astropy.units as u\n",
    "import astropy.constants as const\n",
    "\n",
    "def mass_function(period, asini):\n",
    "    \"\"\"Calculates the mass function for a given system\n",
    "    \n",
    "    Args:\n",
    "        period (astropy.units.quantity.Quantity): Orbital period\n",
    "        asini (astropy.units.quantity.Quantity): Convolved semi-major axis\n",
    "    \n",
    "    Returns:\n",
    "        astropy.units.quantity.Quantity: Mass function in M_sun\n",
    "    \"\"\"\n",
    "    si = (\n",
    "        (4 * np.pi ** 2 * (1 * const.c ** 3))\n",
    "        / (1 * const.G)\n",
    "        * 1\n",
    "        / (period.to(u.s) ** 2)\n",
    "        * (asini ** 3)\n",
    "    )\n",
    "    return si#.to(u.M_sun)\n",
    "\n",
    "def rv_semi_amplitude(period, mf, ecc=0):\n",
    "    K1 = (\n",
    "        (2 * np.pi * const.G)**(1/3)\n",
    "        * np.sqrt(1-ecc**2)\n",
    "        * (mf.to(u.kg) / period.to(u.s))**(1/3)\n",
    "    )\n",
    "    return K1\n",
    "\n",
    "# mf = mass_function(22*u.day, 0.1*u.s)"
   ]
  },
  {
   "cell_type": "code",
   "execution_count": 21,
   "metadata": {},
   "outputs": [],
   "source": [
    "rvv = rv_semi_amplitude(trace[\"period\"]*u.day, mass_function(trace[\"period\"]*u.day, trace['asini'][:,0]*u.s)).value"
   ]
  },
  {
   "cell_type": "code",
   "execution_count": 22,
   "metadata": {},
   "outputs": [
    {
     "data": {
      "text/plain": [
       "(22947.757473699472, 11991.176632840308)"
      ]
     },
     "execution_count": 22,
     "metadata": {},
     "output_type": "execute_result"
    }
   ],
   "source": [
    "np.median(rvv), np.std(rvv)"
   ]
  },
  {
   "cell_type": "code",
   "execution_count": 23,
   "metadata": {},
   "outputs": [
    {
     "data": {
      "text/plain": [
       "array([63.07321845, 63.07320977, 63.07330939, ..., 63.0730653 ,\n",
       "       63.07386671, 63.07337213])"
      ]
     },
     "execution_count": 23,
     "metadata": {},
     "output_type": "execute_result"
    }
   ],
   "source": [
    "trace[\"period\"]"
   ]
  },
  {
   "cell_type": "code",
   "execution_count": 44,
   "metadata": {},
   "outputs": [
    {
     "data": {
      "text/plain": [
       "[<matplotlib.lines.Line2D at 0x7fd3f5433580>]"
      ]
     },
     "execution_count": 44,
     "metadata": {},
     "output_type": "execute_result"
    },
    {
     "data": {
      "image/png": "[encoded data removed]",
      "text/plain": [
       "<Figure size 432x288 with 1 Axes>"
      ]
     },
     "metadata": {
      "needs_background": "light"
     },
     "output_type": "display_data"
    }
   ],
   "source": [
    "plt.plot(time, flux)\n",
    "plt.plot(time, lc)"
   ]
  },
  {
   "cell_type": "code",
   "execution_count": null,
   "metadata": {},
   "outputs": [],
   "source": []
  },
  {
   "cell_type": "code",
   "execution_count": null,
   "metadata": {},
   "outputs": [],
   "source": []
  },
  {
   "cell_type": "code",
   "execution_count": null,
   "metadata": {},
   "outputs": [],
   "source": []
  },
  {
   "cell_type": "code",
   "execution_count": 16,
   "metadata": {},
   "outputs": [
    {
     "data": {
      "text/plain": [
       "array([10.54114091, 12.56702001, 16.173004  ])"
      ]
     },
     "execution_count": 16,
     "metadata": {},
     "output_type": "execute_result"
    }
   ],
   "source": [
    "from exoplanet.orbits import get_true_anomaly\n",
    "import exoplanet as xo\n",
    "import astropy.units as u\n",
    "import theano.tensor as tt\n",
    "\n",
    "with pm.Model() as model:\n",
    "#     logP = pm.Normal(\"logP\", mu=np.log(koi_period), sd=0.1,\n",
    "#                                       testval=np.log(koi_period))\n",
    "    period = koi_period#pm.Deterministic(\"period\", pm.math.exp(logP))\n",
    "    \n",
    "    # The time of conjunction\n",
    "    phi = xo.distributions.Angle(\"phi\")\n",
    "    logs_lc = pm.Normal('logs_lc', mu=np.log(np.std(flux)), sd=10, testval=np.log(np.std(flux)))\n",
    "    \n",
    "    asini = pm.Uniform('asini', lower=0,\n",
    "                        upper=100, testval=1e-5, shape=len(freq))\n",
    "\n",
    "    # The baseline flux\n",
    "    mean = pm.Normal(\"mean\", mu=0.0, sd=10.0, testval=0.003)   \n",
    "\n",
    "    # Mean anom\n",
    "    M = 2.0 * np.pi * time / period - phi\n",
    "    \n",
    "    if koi_eccen == 0:\n",
    "        omega = 0.\n",
    "        # Eccentricity\n",
    "        eccen = 0.\n",
    "        psi = -tt.sin(M)\n",
    "    else:\n",
    "        omega = xo.distributions.Angle(\"omega\")\n",
    "        eccen = pm.Uniform(\"eccen\", lower=0, upper=0.9, testval=0.5)\n",
    "        # True anom\n",
    "        kepler_op = xo.theano_ops.kepler.KeplerOp()\n",
    "        sinf, cosf = kepler_op(M, eccen + np.zeros(len(time)))\n",
    "\n",
    "        factor = 1.0 - tt.square(eccen)\n",
    "        factor /= 1.0 + eccen * cosf\n",
    "        psi = factor * (sinf*tt.cos(omega)+cosf*tt.sin(omega))\n",
    "    \n",
    "    lognu = pm.Normal(\"lognu\", mu=np.log(freq), sd=0.1, shape=len(freq))\n",
    "    nu = pm.Deterministic(\"nu\", tt.exp(lognu))\n",
    "    factor = 2. * np.pi * nu\n",
    "    \n",
    "    arg = ((factor)[None, :] * time[:, None]\n",
    "           - (factor * asini / 86400)[None, :] * psi[:, None])\n",
    "\n",
    "    phase = xo.distributions.Angle(\"phase\", shape=len(freq))\n",
    "    log_mean_amp = np.log(weight)\n",
    "    logamp = pm.Normal(\"logamp\", mu=log_mean_amp, sd=1.0, shape=len(freq),\n",
    "                                         testval=log_mean_amp)\n",
    "    lc_model = tt.sum(tt.exp(logamp)[None, :] * tt.sin(arg - phase[None, :]), axis=1)\n",
    "    \n",
    "    full_lc = lc_model + mean\n",
    "    pm.Normal(\"obs\", mu=full_lc, sd=tt.exp(logs_lc), observed=flux)"
   ]
  },
  {
   "cell_type": "code",
   "execution_count": null,
   "metadata": {},
   "outputs": [],
   "source": []
  }
 ],
 "metadata": {
  "kernelspec": {
   "display_name": "Python [conda env:exoplanet_test]",
   "language": "python",
   "name": "conda-env-exoplanet_test-py"
  },
  "language_info": {
   "codemirror_mode": {
    "name": "ipython",
    "version": 3
   },
   "file_extension": ".py",
   "mimetype": "text/x-python",
   "name": "python",
   "nbconvert_exporter": "python",
   "pygments_lexer": "ipython3",
   "version": "3.8.8"
  }
 },
 "nbformat": 4,
 "nbformat_minor": 4
}
