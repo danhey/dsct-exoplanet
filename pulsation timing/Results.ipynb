{
 "cells": [
  {
   "cell_type": "code",
   "execution_count": 1,
   "metadata": {},
   "outputs": [],
   "source": [
    "import glob\n",
    "import numpy as np\n",
    "import lightkurve as lk\n",
    "import matplotlib.pyplot as plt\n",
    "from astropy.io import fits\n",
    "import pandas as pd\n",
    "import pickle\n",
    "import corner\n",
    "\n",
    "from utils import estimate_frequencies, amplitude_spectrum"
   ]
  },
  {
   "cell_type": "code",
   "execution_count": 2,
   "metadata": {},
   "outputs": [],
   "source": [
    "plt.style.use('science')"
   ]
  },
  {
   "cell_type": "code",
   "execution_count": 3,
   "metadata": {},
   "outputs": [
    {
     "data": {
      "text/latex": [
       "$7.9278265 \\; \\mathrm{\\frac{km}{s}}$"
      ],
      "text/plain": [
       "<Quantity 7.92782646 km / s>"
      ]
     },
     "execution_count": 3,
     "metadata": {},
     "output_type": "execute_result"
    }
   ],
   "source": [
    "import astropy.units as u\n",
    "import astropy.constants as const\n",
    "\n",
    "def mass_function(period, asini):\n",
    "    \"\"\"Calculates the mass function for a given system\n",
    "    \n",
    "    Args:\n",
    "        period (astropy.units.quantity.Quantity): Orbital period\n",
    "        asini (astropy.units.quantity.Quantity): Convolved semi-major axis\n",
    "    \n",
    "    Returns:\n",
    "        astropy.units.quantity.Quantity: Mass function in M_sun\n",
    "    \"\"\"\n",
    "    si = (\n",
    "        (4 * np.pi ** 2 * (1 * const.c ** 3))\n",
    "        / (1 * const.G)\n",
    "        * 1\n",
    "        / (period.to(u.s) ** 2)\n",
    "        * (asini ** 3)\n",
    "    )\n",
    "    return si#.to(u.M_sun)\n",
    "\n",
    "def rv_semi_amplitude(period, mf, ecc=0):\n",
    "    K1 = (\n",
    "        (2 * np.pi * const.G)**(1/3)\n",
    "        * np.sqrt(1-ecc**2)\n",
    "        * (mf.to(u.kg) / period.to(u.s))**(1/3)\n",
    "    )\n",
    "    return K1.to(u.km/u.s)\n",
    "\n",
    "mf = mass_function(22*u.day, 8*u.s)\n",
    "rv_semi_amplitude(22*u.day, mf)"
   ]
  },
  {
   "cell_type": "code",
   "execution_count": 4,
   "metadata": {},
   "outputs": [
    {
     "data": {
      "text/latex": [
       "$103.63592 \\; \\mathrm{\\frac{s}{m}}$"
      ],
      "text/plain": [
       "<Quantity 103.63591702 s / m>"
      ]
     },
     "execution_count": 4,
     "metadata": {},
     "output_type": "execute_result"
    }
   ],
   "source": [
    "(44.659*u.R_sun.to(u.m))/(const.c)"
   ]
  },
  {
   "cell_type": "code",
   "execution_count": 27,
   "metadata": {},
   "outputs": [],
   "source": [
    "mf = mass_function(51.41896*u.day,(( 44.659*u.R_sun).to(u.m)) / const.c)"
   ]
  },
  {
   "cell_type": "code",
   "execution_count": 29,
   "metadata": {},
   "outputs": [
    {
     "data": {
      "text/latex": [
       "$43.941398 \\; \\mathrm{\\frac{km}{s}}$"
      ],
      "text/plain": [
       "<Quantity 43.94139846 km / s>"
      ]
     },
     "execution_count": 29,
     "metadata": {},
     "output_type": "execute_result"
    }
   ],
   "source": [
    "rv_semi_amplitude(51.418946 * u.day, mf)"
   ]
  },
  {
   "cell_type": "code",
   "execution_count": 34,
   "metadata": {},
   "outputs": [
    {
     "data": {
      "text/latex": [
       "$39.775312 \\; \\mathrm{\\frac{km}{s}}$"
      ],
      "text/plain": [
       "<Quantity 39.77531176 km / s>"
      ]
     },
     "execution_count": 34,
     "metadata": {},
     "output_type": "execute_result"
    }
   ],
   "source": [
    "np.sqrt(1-0.4211**2) * (2 * np.pi) * np.sin(np.radians(86.3653)) * (44.659 * u.R_sun).to(u.km) / (51.418946*u.day).to(u.s)"
   ]
  },
  {
   "cell_type": "markdown",
   "metadata": {},
   "source": [
    "\\begin{align} \\mathrm{ t_{0, \\mathrm{ supconj }, \\mathrm{   } } } &= 2458696.02599^{ +0.00016 }_{ -0.00016 } ~\\mathrm{d} \\\\ \\mathrm{ P_\\mathrm{   } } &= 51.418946^{ +6.2e-05 }_{ -7e-05 } ~\\mathrm{d} \\\\ \\mathrm{ (R_\\mathrm{ equiv, 1 } + R_\\mathrm{ equiv, 2 }) / a_\\mathrm{   } } &= 0.070092^{ +6.8e-05 }_{ -6.9e-05 } \\mathrm{} \\\\ \\mathrm{ R_\\mathrm{ equiv, 2 } / R_\\mathrm{ equiv, 1 } } &= 0.4634^{ +0.0025 }_{ -0.0026 } \\mathrm{} \\\\ \\mathrm{ i_\\mathrm{   } } &= 86.3653^{ +0.0064 }_{ -0.0057 } \\mathrm{{}^{\\circ}} \\\\ \\mathrm{ e_\\mathrm{   } \\sin \\omega_0 } &= 0.15245^{ +0.00056 }_{ -0.00125 } \\mathrm{} \\\\ \\mathrm{ e_\\mathrm{   } \\cos \\omega_0 } &= 0.395319^{ +7.3e-05 }_{ -5.1e-05 } \\mathrm{} \\\\ \\mathrm{ T_{ \\mathrm{ eff }, \\mathrm{ 1 } } } &= 11740.0^{ +270.0 }_{ -430.0 } ~\\mathrm{K} \\\\ \\mathrm{ T_\\mathrm{ eff, 2 } / T_\\mathrm{ eff, 1 } } &= 1.0045^{ +0.0066 }_{ -0.0083 } \\mathrm{} \\\\ \\mathrm{ q_\\mathrm{   } } &= 0.37^{ +0.047 }_{ -0.046 } \\mathrm{} \\\\ \\mathrm{ a_\\mathrm{ 1 } } &= 44.659^{ +0.06 }_{ -0.053 } ~\\mathrm{R_{\\odot}} \\\\ \\mathrm{ v_\\gamma } &= -11.755^{ +0.031 }_{ -0.028 } ~\\mathrm{\\frac{km}{s}} \\\\ \\mathrm{ F_\\mathrm{ 1 } } &= 4.4^{ +0.35 }_{ -0.45 } \\mathrm{} \\\\ \\mathrm{ F_\\mathrm{ 2 } } &= 42.0^{ +16.0 }_{ -12.0 } \\mathrm{} \\\\ \\mathrm{ L_\\mathrm{ pb, lc01 } } &= 10.35^{ +0.03 }_{ -0.027 } ~\\mathrm{W} \\\\ \\mathrm{ \\sigma_\\mathrm{ lnf, lc01 } } &= -8.38^{ +0.035 }_{ -0.034 } \\mathrm{} \\\\ \\mathrm{ \\sigma_\\mathrm{ lnf, rv01 } } &= -5.12^{ +0.16 }_{ -0.18 } \\mathrm{} \\\\ \\mathrm{ \\beta_{ \\mathrm{bol}, \\mathrm{ 1 } } } &= 0.25^{ +0.15 }_{ -0.12 } \\mathrm{} \\\\ \\mathrm{ \\beta_{ \\mathrm{bol}, \\mathrm{ 2 } } } &= 0.51^{ +0.28 }_{ -0.21 } \\mathrm{} \\\\ \\mathrm{ A_{ \\mathrm{bol}, \\mathrm{ 1 } } } &= 0.59^{ +0.12 }_{ -0.17 } \\mathrm{} \\\\ \\mathrm{ A_{ \\mathrm{bol}, \\mathrm{ 2 } } } &= 0.58^{ +0.14 }_{ -0.2 } \\mathrm{} \\\\  \\end{align}"
   ]
  },
  {
   "cell_type": "code",
   "execution_count": null,
   "metadata": {},
   "outputs": [],
   "source": []
  },
  {
   "cell_type": "code",
   "execution_count": 4,
   "metadata": {},
   "outputs": [],
   "source": [
    "af_stars = pd.read_csv('../data/catalogues/rev_AF_stars.csv', dtype={'kic': str})\n",
    "koi_dsct = pd.read_csv('data/koi_dsct.csv')\n",
    "# cand = pd.DataFrame({\n",
    "#     'kepid': ['4380834', '5724523', '7767699', '8249829', '9895543'],\n",
    "#     'period': [0.889896, 0.545784, 1.128263, 1.012737, 1.218900],\n",
    "#     'e_period': [0.000023, 0.000010, 0.000037, 0.000101, 0.000025],\n",
    "#     'nfreqs': [\n",
    "#     2,\n",
    "#     3,\n",
    "#     3,\n",
    "#     1,\n",
    "#     2\n",
    "# ]\n",
    "# })\n",
    "\n",
    "cand = pd.DataFrame({\n",
    "    'kepid': ['7767699', '8249829', '9895543'],\n",
    "    'period': [1.128263, 1.012737, 1.218900],\n",
    "    'e_period': [0.000037, 0.000101, 0.000025],\n",
    "    'nfreqs': [\n",
    "    3,\n",
    "    1,\n",
    "    2\n",
    "]\n",
    "})\n",
    "cand = af_stars.merge(cand, left_on='kic', right_on='kepid')"
   ]
  },
  {
   "cell_type": "markdown",
   "metadata": {},
   "source": [
    "# Candidates\n"
   ]
  },
  {
   "cell_type": "code",
   "execution_count": 7,
   "metadata": {},
   "outputs": [],
   "source": [
    "# ii = 0\n",
    "\n",
    "# kepid = cand.iloc[ii].kepid\n",
    "\n",
    "# with open(f'traces/{cand.iloc[ii].kepid}.pkl', 'rb') as buff:\n",
    "#     data = pickle.load(buff)  \n",
    "\n",
    "# model, trace = data['model'], data['trace']"
   ]
  },
  {
   "cell_type": "code",
   "execution_count": 5,
   "metadata": {},
   "outputs": [],
   "source": [
    "cand_masses, cand_masses_low, cand_masses_hi = [], [], []\n",
    "cand_keps = []\n",
    "cand_periods = []\n",
    "for index, row in cand.iterrows():\n",
    "        with open(f'traces/{row.kepid}.pkl', 'rb') as buff:\n",
    "            data = pickle.load(buff)  \n",
    "\n",
    "        model, trace = data['model'], data['trace']\n",
    "\n",
    "        mf = mass_function(trace[\"period\"] * u.day, trace[\"asini\"] * u.s)\n",
    "        mass = (mf.to(u.M_jup))**(1/3) * ((row.new_mass*u.M_sun).to(u.M_jup))**(2/3)\n",
    "\n",
    "        cand_periods.append(np.median(trace[\"period\"]))\n",
    "        cand_masses.append(np.median(mass.value))\n",
    "        percs = np.percentile(mass, [15.83, 50, 84.16]).value\n",
    "        cand_masses_low.append(percs[1]-percs[0])\n",
    "        cand_masses_hi.append(percs[2] - percs[1])"
   ]
  },
  {
   "cell_type": "code",
   "execution_count": 6,
   "metadata": {},
   "outputs": [
    {
     "data": {
      "text/plain": [
       "[2105.2854690412078, 221.1279212526204, 317.4751732189732]"
      ]
     },
     "execution_count": 6,
     "metadata": {},
     "output_type": "execute_result"
    }
   ],
   "source": [
    "cand_masses"
   ]
  },
  {
   "cell_type": "markdown",
   "metadata": {},
   "source": [
    "# KOI"
   ]
  },
  {
   "cell_type": "code",
   "execution_count": 25,
   "metadata": {},
   "outputs": [],
   "source": [
    "ii = -3"
   ]
  },
  {
   "cell_type": "code",
   "execution_count": 26,
   "metadata": {},
   "outputs": [],
   "source": [
    "kepid = koi_dsct.iloc[ii].kepid\n",
    "\n",
    "with open(f'traces/{koi_dsct.iloc[ii].kepoi_name}.pkl', 'rb') as buff:\n",
    "    data = pickle.load(buff)  \n",
    "\n",
    "model, trace = data['model'], data['trace']"
   ]
  },
  {
   "cell_type": "code",
   "execution_count": 27,
   "metadata": {},
   "outputs": [],
   "source": [
    "mf = mass_function(trace[\"period\"] * u.day, trace[\"asini\"] * u.s)\n",
    "mass = (mf.to(u.M_jup))**(1/3) * ((koi_dsct.iloc[ii].koi_smass*u.M_sun).to(u.M_jup))**(2/3)"
   ]
  },
  {
   "cell_type": "code",
   "execution_count": 28,
   "metadata": {},
   "outputs": [
    {
     "data": {
      "text/latex": [
       "$[1.6636904 \\times 10^{25},~6.1693904 \\times 10^{26},~4.420593 \\times 10^{24},~\\dots,~4.252929 \\times 10^{25},~4.5156681 \\times 10^{25},~2.8279894 \\times 10^{23}] \\; \\mathrm{kg}$"
      ],
      "text/plain": [
       "<Quantity [1.66369040e+25, 6.16939036e+26, 4.42059304e+24, ...,\n",
       "           4.25292902e+25, 4.51566811e+25, 2.82798937e+23] kg>"
      ]
     },
     "execution_count": 28,
     "metadata": {},
     "output_type": "execute_result"
    }
   ],
   "source": [
    "mf"
   ]
  },
  {
   "cell_type": "code",
   "execution_count": 29,
   "metadata": {},
   "outputs": [
    {
     "data": {
      "text/plain": [
       "(array([573., 471., 377., 294., 150.,  84.,  32.,  14.,   3.,   2.]),\n",
       " array([2.87022511e-02, 2.19212663e+01, 4.38138304e+01, 6.57063945e+01,\n",
       "        8.75989586e+01, 1.09491523e+02, 1.31384087e+02, 1.53276651e+02,\n",
       "        1.75169215e+02, 1.97061779e+02, 2.18954343e+02]),\n",
       " <BarContainer object of 10 artists>)"
      ]
     },
     "execution_count": 29,
     "metadata": {},
     "output_type": "execute_result"
    },
    {
     "data": {
      "image/png": "[encoded data removed]",
      "text/plain": [
       "<Figure size 432x288 with 1 Axes>"
      ]
     },
     "metadata": {
      "needs_background": "light"
     },
     "output_type": "display_data"
    }
   ],
   "source": [
    "plt.hist(mass.value)"
   ]
  },
  {
   "cell_type": "code",
   "execution_count": 86,
   "metadata": {},
   "outputs": [
    {
     "data": {
      "text/plain": [
       "<Figure size 360x360 with 0 Axes>"
      ]
     },
     "metadata": {},
     "output_type": "display_data"
    },
    {
     "data": {
      "image/png": "[encoded data removed]",
      "text/plain": [
       "<Figure size 396x396 with 5 Axes>"
      ]
     },
     "metadata": {
      "needs_background": "light"
     },
     "output_type": "display_data"
    }
   ],
   "source": [
    "plt.figure(figsize=[5,5])\n",
    "asini_min_idx = np.argmin(np.median(trace['asini'], axis=0))\n",
    "fig = corner.corner(np.array([mass, trace['phi']]).T,\n",
    "             show_titles=True,\n",
    "             labels=[r'mass [$M_j$]', '$\\phi$'],\n",
    "             smooth=1);\n",
    "\n",
    "ax = fig.add_subplot(2,2,2)\n",
    "ax.axis('off')\n",
    "\n",
    "ax.text(0.07, 0.85, f'Orbital period {koi_dsct.iloc[ii].koi_period:.2f} day')\n",
    "ax.text(0.07, 0.75, f'Mass function \\t{np.median(mf.to(u.M_jup).value):.2e} $M_j$')\n",
    "# ax.text(0.07, 0.65, f'Stellar mass \\t{koi_dsct.iloc[ii].koi_smass:.2f} {mf.unit.to_string(\"latex\")}')\n",
    "# # ax.text(0.07, 0.55, f'Planet mass \\t{mass.value:.2f}{mass.unit.to_string(\"latex\")}')\n",
    "\n",
    "plt.savefig('hmm.png', dpi=300, bbox_inches='tight', transparent=False)"
   ]
  },
  {
   "cell_type": "code",
   "execution_count": 7,
   "metadata": {},
   "outputs": [],
   "source": [
    "masses, masses_low, masses_hi = [], [], []\n",
    "keps = []\n",
    "periods = []\n",
    "for index, row in koi_dsct.iterrows():\n",
    "        with open(f'traces/{row.kepoi_name}.pkl', 'rb') as buff:\n",
    "            data = pickle.load(buff)  \n",
    "\n",
    "        model, trace = data['model'], data['trace']\n",
    "\n",
    "        mf = mass_function(trace[\"period\"] * u.day, trace[\"asini\"] * u.s)\n",
    "        mass = (mf.to(u.M_jup))**(1/3) * ((row.koi_smass*u.M_sun).to(u.M_jup))**(2/3)\n",
    "        \n",
    "        periods.append(np.median(trace[\"period\"]))\n",
    "        masses.append(np.median(mass.value))\n",
    "        percs = np.percentile(mass, [15.83, 50, 84.16]).value\n",
    "        masses_low.append(percs[1]-percs[0])\n",
    "        masses_hi.append(percs[2] - percs[1])"
   ]
  },
  {
   "cell_type": "code",
   "execution_count": 25,
   "metadata": {},
   "outputs": [
    {
     "data": {
      "text/html": [
       "<div>\n",
       "<style scoped>\n",
       "    .dataframe tbody tr th:only-of-type {\n",
       "        vertical-align: middle;\n",
       "    }\n",
       "\n",
       "    .dataframe tbody tr th {\n",
       "        vertical-align: top;\n",
       "    }\n",
       "\n",
       "    .dataframe thead th {\n",
       "        text-align: right;\n",
       "    }\n",
       "</style>\n",
       "<table border=\"1\" class=\"dataframe\">\n",
       "  <thead>\n",
       "    <tr style=\"text-align: right;\">\n",
       "      <th></th>\n",
       "      <th>Unnamed: 0</th>\n",
       "      <th>Unnamed: 0.1</th>\n",
       "      <th>kepid</th>\n",
       "      <th>kepoi_name</th>\n",
       "      <th>kepler_name</th>\n",
       "      <th>koi_disposition</th>\n",
       "      <th>koi_vet_stat</th>\n",
       "      <th>koi_vet_date</th>\n",
       "      <th>koi_pdisposition</th>\n",
       "      <th>koi_score</th>\n",
       "      <th>...</th>\n",
       "      <th>koi_dicco_msky</th>\n",
       "      <th>koi_dicco_msky_err</th>\n",
       "      <th>koi_dikco_mra</th>\n",
       "      <th>koi_dikco_mra_err</th>\n",
       "      <th>koi_dikco_mdec</th>\n",
       "      <th>koi_dikco_mdec_err</th>\n",
       "      <th>koi_dikco_msky</th>\n",
       "      <th>koi_dikco_msky_err</th>\n",
       "      <th>dsct</th>\n",
       "      <th>nfreqs</th>\n",
       "    </tr>\n",
       "  </thead>\n",
       "  <tbody>\n",
       "    <tr>\n",
       "      <th>0</th>\n",
       "      <td>0</td>\n",
       "      <td>0</td>\n",
       "      <td>3964109</td>\n",
       "      <td>K00393.01</td>\n",
       "      <td>Kepler-544 b</td>\n",
       "      <td>CONFIRMED</td>\n",
       "      <td>Done</td>\n",
       "      <td>16/8/18</td>\n",
       "      <td>CANDIDATE</td>\n",
       "      <td>1.000</td>\n",
       "      <td>...</td>\n",
       "      <td>0.63</td>\n",
       "      <td>0.57</td>\n",
       "      <td>0.000</td>\n",
       "      <td>1.300</td>\n",
       "      <td>0.500</td>\n",
       "      <td>0.510</td>\n",
       "      <td>0.500</td>\n",
       "      <td>0.530</td>\n",
       "      <td>True</td>\n",
       "      <td>1</td>\n",
       "    </tr>\n",
       "    <tr>\n",
       "      <th>1</th>\n",
       "      <td>1</td>\n",
       "      <td>1</td>\n",
       "      <td>9111849</td>\n",
       "      <td>K02042.01</td>\n",
       "      <td>NaN</td>\n",
       "      <td>CANDIDATE</td>\n",
       "      <td>Done</td>\n",
       "      <td>16/8/18</td>\n",
       "      <td>CANDIDATE</td>\n",
       "      <td>0.994</td>\n",
       "      <td>...</td>\n",
       "      <td>0.31</td>\n",
       "      <td>0.13</td>\n",
       "      <td>0.150</td>\n",
       "      <td>0.120</td>\n",
       "      <td>-0.200</td>\n",
       "      <td>0.130</td>\n",
       "      <td>0.250</td>\n",
       "      <td>0.130</td>\n",
       "      <td>True</td>\n",
       "      <td>4</td>\n",
       "    </tr>\n",
       "    <tr>\n",
       "      <th>2</th>\n",
       "      <td>2</td>\n",
       "      <td>2</td>\n",
       "      <td>9845898</td>\n",
       "      <td>K02423.01</td>\n",
       "      <td>Kepler-1233 b</td>\n",
       "      <td>CONFIRMED</td>\n",
       "      <td>Done</td>\n",
       "      <td>16/8/18</td>\n",
       "      <td>CANDIDATE</td>\n",
       "      <td>1.000</td>\n",
       "      <td>...</td>\n",
       "      <td>0.60</td>\n",
       "      <td>0.85</td>\n",
       "      <td>0.110</td>\n",
       "      <td>0.700</td>\n",
       "      <td>-0.700</td>\n",
       "      <td>1.100</td>\n",
       "      <td>0.700</td>\n",
       "      <td>1.100</td>\n",
       "      <td>True</td>\n",
       "      <td>3</td>\n",
       "    </tr>\n",
       "    <tr>\n",
       "      <th>3</th>\n",
       "      <td>3</td>\n",
       "      <td>3</td>\n",
       "      <td>5202905</td>\n",
       "      <td>K01932.01</td>\n",
       "      <td>Kepler-340 c</td>\n",
       "      <td>CONFIRMED</td>\n",
       "      <td>Done</td>\n",
       "      <td>16/8/18</td>\n",
       "      <td>CANDIDATE</td>\n",
       "      <td>0.944</td>\n",
       "      <td>...</td>\n",
       "      <td>0.32</td>\n",
       "      <td>0.23</td>\n",
       "      <td>-0.110</td>\n",
       "      <td>0.260</td>\n",
       "      <td>0.430</td>\n",
       "      <td>0.230</td>\n",
       "      <td>0.440</td>\n",
       "      <td>0.220</td>\n",
       "      <td>True</td>\n",
       "      <td>4</td>\n",
       "    </tr>\n",
       "    <tr>\n",
       "      <th>4</th>\n",
       "      <td>4</td>\n",
       "      <td>4</td>\n",
       "      <td>5202905</td>\n",
       "      <td>K01932.02</td>\n",
       "      <td>Kepler-340 b</td>\n",
       "      <td>CONFIRMED</td>\n",
       "      <td>Done</td>\n",
       "      <td>16/8/18</td>\n",
       "      <td>CANDIDATE</td>\n",
       "      <td>0.636</td>\n",
       "      <td>...</td>\n",
       "      <td>0.39</td>\n",
       "      <td>0.39</td>\n",
       "      <td>0.400</td>\n",
       "      <td>0.440</td>\n",
       "      <td>-0.150</td>\n",
       "      <td>0.250</td>\n",
       "      <td>0.430</td>\n",
       "      <td>0.400</td>\n",
       "      <td>True</td>\n",
       "      <td>4</td>\n",
       "    </tr>\n",
       "    <tr>\n",
       "      <th>5</th>\n",
       "      <td>5</td>\n",
       "      <td>5</td>\n",
       "      <td>6116172</td>\n",
       "      <td>K06142.02</td>\n",
       "      <td>NaN</td>\n",
       "      <td>CANDIDATE</td>\n",
       "      <td>Done</td>\n",
       "      <td>16/8/18</td>\n",
       "      <td>CANDIDATE</td>\n",
       "      <td>NaN</td>\n",
       "      <td>...</td>\n",
       "      <td>7.90</td>\n",
       "      <td>2.70</td>\n",
       "      <td>-8.000</td>\n",
       "      <td>2.100</td>\n",
       "      <td>-0.580</td>\n",
       "      <td>0.230</td>\n",
       "      <td>8.000</td>\n",
       "      <td>2.100</td>\n",
       "      <td>True</td>\n",
       "      <td>1</td>\n",
       "    </tr>\n",
       "    <tr>\n",
       "      <th>6</th>\n",
       "      <td>6</td>\n",
       "      <td>6</td>\n",
       "      <td>6116172</td>\n",
       "      <td>K06142.01</td>\n",
       "      <td>NaN</td>\n",
       "      <td>CANDIDATE</td>\n",
       "      <td>Done</td>\n",
       "      <td>16/8/18</td>\n",
       "      <td>CANDIDATE</td>\n",
       "      <td>NaN</td>\n",
       "      <td>...</td>\n",
       "      <td>7.90</td>\n",
       "      <td>2.70</td>\n",
       "      <td>-8.000</td>\n",
       "      <td>2.100</td>\n",
       "      <td>-0.580</td>\n",
       "      <td>0.230</td>\n",
       "      <td>8.000</td>\n",
       "      <td>2.100</td>\n",
       "      <td>True</td>\n",
       "      <td>1</td>\n",
       "    </tr>\n",
       "    <tr>\n",
       "      <th>7</th>\n",
       "      <td>7</td>\n",
       "      <td>7</td>\n",
       "      <td>6116172</td>\n",
       "      <td>K06142.02</td>\n",
       "      <td>NaN</td>\n",
       "      <td>CANDIDATE</td>\n",
       "      <td>Done</td>\n",
       "      <td>16/8/18</td>\n",
       "      <td>CANDIDATE</td>\n",
       "      <td>NaN</td>\n",
       "      <td>...</td>\n",
       "      <td>7.90</td>\n",
       "      <td>2.70</td>\n",
       "      <td>-8.000</td>\n",
       "      <td>2.100</td>\n",
       "      <td>-0.580</td>\n",
       "      <td>0.230</td>\n",
       "      <td>8.000</td>\n",
       "      <td>2.100</td>\n",
       "      <td>True</td>\n",
       "      <td>1</td>\n",
       "    </tr>\n",
       "    <tr>\n",
       "      <th>8</th>\n",
       "      <td>8</td>\n",
       "      <td>8</td>\n",
       "      <td>11013201</td>\n",
       "      <td>K00972.03</td>\n",
       "      <td>NaN</td>\n",
       "      <td>CANDIDATE</td>\n",
       "      <td>Done</td>\n",
       "      <td>16/8/18</td>\n",
       "      <td>CANDIDATE</td>\n",
       "      <td>0.632</td>\n",
       "      <td>...</td>\n",
       "      <td>5.20</td>\n",
       "      <td>1.50</td>\n",
       "      <td>-3.210</td>\n",
       "      <td>0.810</td>\n",
       "      <td>4.300</td>\n",
       "      <td>1.100</td>\n",
       "      <td>5.400</td>\n",
       "      <td>1.300</td>\n",
       "      <td>True</td>\n",
       "      <td>4</td>\n",
       "    </tr>\n",
       "    <tr>\n",
       "      <th>9</th>\n",
       "      <td>9</td>\n",
       "      <td>9</td>\n",
       "      <td>11013201</td>\n",
       "      <td>K00972.02</td>\n",
       "      <td>NaN</td>\n",
       "      <td>CANDIDATE</td>\n",
       "      <td>Done</td>\n",
       "      <td>16/8/18</td>\n",
       "      <td>CANDIDATE</td>\n",
       "      <td>0.000</td>\n",
       "      <td>...</td>\n",
       "      <td>3.90</td>\n",
       "      <td>1.70</td>\n",
       "      <td>-4.700</td>\n",
       "      <td>1.200</td>\n",
       "      <td>3.000</td>\n",
       "      <td>1.800</td>\n",
       "      <td>5.600</td>\n",
       "      <td>1.700</td>\n",
       "      <td>True</td>\n",
       "      <td>4</td>\n",
       "    </tr>\n",
       "    <tr>\n",
       "      <th>10</th>\n",
       "      <td>10</td>\n",
       "      <td>10</td>\n",
       "      <td>6032730</td>\n",
       "      <td>K06141.01</td>\n",
       "      <td>NaN</td>\n",
       "      <td>CANDIDATE</td>\n",
       "      <td>Done</td>\n",
       "      <td>16/8/18</td>\n",
       "      <td>CANDIDATE</td>\n",
       "      <td>NaN</td>\n",
       "      <td>...</td>\n",
       "      <td>8.90</td>\n",
       "      <td>3.70</td>\n",
       "      <td>-10.700</td>\n",
       "      <td>2.100</td>\n",
       "      <td>10.700</td>\n",
       "      <td>4.500</td>\n",
       "      <td>15.100</td>\n",
       "      <td>3.500</td>\n",
       "      <td>True</td>\n",
       "      <td>2</td>\n",
       "    </tr>\n",
       "    <tr>\n",
       "      <th>11</th>\n",
       "      <td>11</td>\n",
       "      <td>11</td>\n",
       "      <td>5617259</td>\n",
       "      <td>K07733.01</td>\n",
       "      <td>NaN</td>\n",
       "      <td>CANDIDATE</td>\n",
       "      <td>Done</td>\n",
       "      <td>16/8/18</td>\n",
       "      <td>CANDIDATE</td>\n",
       "      <td>0.139</td>\n",
       "      <td>...</td>\n",
       "      <td>0.34</td>\n",
       "      <td>0.10</td>\n",
       "      <td>0.095</td>\n",
       "      <td>0.091</td>\n",
       "      <td>-0.065</td>\n",
       "      <td>0.089</td>\n",
       "      <td>0.115</td>\n",
       "      <td>0.099</td>\n",
       "      <td>True</td>\n",
       "      <td>4</td>\n",
       "    </tr>\n",
       "    <tr>\n",
       "      <th>12</th>\n",
       "      <td>12</td>\n",
       "      <td>12</td>\n",
       "      <td>9775385</td>\n",
       "      <td>K04462.01</td>\n",
       "      <td>NaN</td>\n",
       "      <td>CANDIDATE</td>\n",
       "      <td>Done</td>\n",
       "      <td>16/8/18</td>\n",
       "      <td>CANDIDATE</td>\n",
       "      <td>NaN</td>\n",
       "      <td>...</td>\n",
       "      <td>NaN</td>\n",
       "      <td>NaN</td>\n",
       "      <td>NaN</td>\n",
       "      <td>NaN</td>\n",
       "      <td>NaN</td>\n",
       "      <td>NaN</td>\n",
       "      <td>NaN</td>\n",
       "      <td>NaN</td>\n",
       "      <td>True</td>\n",
       "      <td>1</td>\n",
       "    </tr>\n",
       "    <tr>\n",
       "      <th>13</th>\n",
       "      <td>13</td>\n",
       "      <td>13</td>\n",
       "      <td>6670742</td>\n",
       "      <td>K06753.01</td>\n",
       "      <td>NaN</td>\n",
       "      <td>CANDIDATE</td>\n",
       "      <td>Done</td>\n",
       "      <td>16/8/18</td>\n",
       "      <td>CANDIDATE</td>\n",
       "      <td>NaN</td>\n",
       "      <td>...</td>\n",
       "      <td>3.40</td>\n",
       "      <td>1.80</td>\n",
       "      <td>-2.400</td>\n",
       "      <td>1.500</td>\n",
       "      <td>-2.000</td>\n",
       "      <td>1.300</td>\n",
       "      <td>3.100</td>\n",
       "      <td>1.600</td>\n",
       "      <td>True</td>\n",
       "      <td>3</td>\n",
       "    </tr>\n",
       "    <tr>\n",
       "      <th>14</th>\n",
       "      <td>14</td>\n",
       "      <td>14</td>\n",
       "      <td>9289704</td>\n",
       "      <td>K02222.01</td>\n",
       "      <td>NaN</td>\n",
       "      <td>CANDIDATE</td>\n",
       "      <td>Done</td>\n",
       "      <td>16/8/18</td>\n",
       "      <td>CANDIDATE</td>\n",
       "      <td>0.987</td>\n",
       "      <td>...</td>\n",
       "      <td>0.36</td>\n",
       "      <td>0.17</td>\n",
       "      <td>-0.460</td>\n",
       "      <td>0.170</td>\n",
       "      <td>0.010</td>\n",
       "      <td>0.130</td>\n",
       "      <td>0.460</td>\n",
       "      <td>0.170</td>\n",
       "      <td>True</td>\n",
       "      <td>4</td>\n",
       "    </tr>\n",
       "    <tr>\n",
       "      <th>15</th>\n",
       "      <td>15</td>\n",
       "      <td>15</td>\n",
       "      <td>3965201</td>\n",
       "      <td>K07546.01</td>\n",
       "      <td>NaN</td>\n",
       "      <td>CANDIDATE</td>\n",
       "      <td>Done</td>\n",
       "      <td>16/8/18</td>\n",
       "      <td>CANDIDATE</td>\n",
       "      <td>NaN</td>\n",
       "      <td>...</td>\n",
       "      <td>0.54</td>\n",
       "      <td>0.79</td>\n",
       "      <td>-0.290</td>\n",
       "      <td>0.580</td>\n",
       "      <td>0.560</td>\n",
       "      <td>0.540</td>\n",
       "      <td>0.630</td>\n",
       "      <td>0.690</td>\n",
       "      <td>True</td>\n",
       "      <td>3</td>\n",
       "    </tr>\n",
       "    <tr>\n",
       "      <th>16</th>\n",
       "      <td>16</td>\n",
       "      <td>16</td>\n",
       "      <td>11180361</td>\n",
       "      <td>K00971.01</td>\n",
       "      <td>NaN</td>\n",
       "      <td>CANDIDATE</td>\n",
       "      <td>Done</td>\n",
       "      <td>16/8/18</td>\n",
       "      <td>CANDIDATE</td>\n",
       "      <td>1.000</td>\n",
       "      <td>...</td>\n",
       "      <td>8.40</td>\n",
       "      <td>2.00</td>\n",
       "      <td>9.700</td>\n",
       "      <td>2.200</td>\n",
       "      <td>-7.200</td>\n",
       "      <td>2.400</td>\n",
       "      <td>12.100</td>\n",
       "      <td>3.000</td>\n",
       "      <td>True</td>\n",
       "      <td>4</td>\n",
       "    </tr>\n",
       "  </tbody>\n",
       "</table>\n",
       "<p>17 rows × 139 columns</p>\n",
       "</div>"
      ],
      "text/plain": [
       "    Unnamed: 0  Unnamed: 0.1     kepid kepoi_name    kepler_name  \\\n",
       "0            0             0   3964109  K00393.01   Kepler-544 b   \n",
       "1            1             1   9111849  K02042.01            NaN   \n",
       "2            2             2   9845898  K02423.01  Kepler-1233 b   \n",
       "3            3             3   5202905  K01932.01   Kepler-340 c   \n",
       "4            4             4   5202905  K01932.02   Kepler-340 b   \n",
       "5            5             5   6116172  K06142.02            NaN   \n",
       "6            6             6   6116172  K06142.01            NaN   \n",
       "7            7             7   6116172  K06142.02            NaN   \n",
       "8            8             8  11013201  K00972.03            NaN   \n",
       "9            9             9  11013201  K00972.02            NaN   \n",
       "10          10            10   6032730  K06141.01            NaN   \n",
       "11          11            11   5617259  K07733.01            NaN   \n",
       "12          12            12   9775385  K04462.01            NaN   \n",
       "13          13            13   6670742  K06753.01            NaN   \n",
       "14          14            14   9289704  K02222.01            NaN   \n",
       "15          15            15   3965201  K07546.01            NaN   \n",
       "16          16            16  11180361  K00971.01            NaN   \n",
       "\n",
       "   koi_disposition koi_vet_stat koi_vet_date koi_pdisposition  koi_score  ...  \\\n",
       "0        CONFIRMED         Done      16/8/18        CANDIDATE      1.000  ...   \n",
       "1        CANDIDATE         Done      16/8/18        CANDIDATE      0.994  ...   \n",
       "2        CONFIRMED         Done      16/8/18        CANDIDATE      1.000  ...   \n",
       "3        CONFIRMED         Done      16/8/18        CANDIDATE      0.944  ...   \n",
       "4        CONFIRMED         Done      16/8/18        CANDIDATE      0.636  ...   \n",
       "5        CANDIDATE         Done      16/8/18        CANDIDATE        NaN  ...   \n",
       "6        CANDIDATE         Done      16/8/18        CANDIDATE        NaN  ...   \n",
       "7        CANDIDATE         Done      16/8/18        CANDIDATE        NaN  ...   \n",
       "8        CANDIDATE         Done      16/8/18        CANDIDATE      0.632  ...   \n",
       "9        CANDIDATE         Done      16/8/18        CANDIDATE      0.000  ...   \n",
       "10       CANDIDATE         Done      16/8/18        CANDIDATE        NaN  ...   \n",
       "11       CANDIDATE         Done      16/8/18        CANDIDATE      0.139  ...   \n",
       "12       CANDIDATE         Done      16/8/18        CANDIDATE        NaN  ...   \n",
       "13       CANDIDATE         Done      16/8/18        CANDIDATE        NaN  ...   \n",
       "14       CANDIDATE         Done      16/8/18        CANDIDATE      0.987  ...   \n",
       "15       CANDIDATE         Done      16/8/18        CANDIDATE        NaN  ...   \n",
       "16       CANDIDATE         Done      16/8/18        CANDIDATE      1.000  ...   \n",
       "\n",
       "    koi_dicco_msky  koi_dicco_msky_err  koi_dikco_mra  koi_dikco_mra_err  \\\n",
       "0             0.63                0.57          0.000              1.300   \n",
       "1             0.31                0.13          0.150              0.120   \n",
       "2             0.60                0.85          0.110              0.700   \n",
       "3             0.32                0.23         -0.110              0.260   \n",
       "4             0.39                0.39          0.400              0.440   \n",
       "5             7.90                2.70         -8.000              2.100   \n",
       "6             7.90                2.70         -8.000              2.100   \n",
       "7             7.90                2.70         -8.000              2.100   \n",
       "8             5.20                1.50         -3.210              0.810   \n",
       "9             3.90                1.70         -4.700              1.200   \n",
       "10            8.90                3.70        -10.700              2.100   \n",
       "11            0.34                0.10          0.095              0.091   \n",
       "12             NaN                 NaN            NaN                NaN   \n",
       "13            3.40                1.80         -2.400              1.500   \n",
       "14            0.36                0.17         -0.460              0.170   \n",
       "15            0.54                0.79         -0.290              0.580   \n",
       "16            8.40                2.00          9.700              2.200   \n",
       "\n",
       "   koi_dikco_mdec koi_dikco_mdec_err  koi_dikco_msky  koi_dikco_msky_err  \\\n",
       "0           0.500              0.510           0.500               0.530   \n",
       "1          -0.200              0.130           0.250               0.130   \n",
       "2          -0.700              1.100           0.700               1.100   \n",
       "3           0.430              0.230           0.440               0.220   \n",
       "4          -0.150              0.250           0.430               0.400   \n",
       "5          -0.580              0.230           8.000               2.100   \n",
       "6          -0.580              0.230           8.000               2.100   \n",
       "7          -0.580              0.230           8.000               2.100   \n",
       "8           4.300              1.100           5.400               1.300   \n",
       "9           3.000              1.800           5.600               1.700   \n",
       "10         10.700              4.500          15.100               3.500   \n",
       "11         -0.065              0.089           0.115               0.099   \n",
       "12            NaN                NaN             NaN                 NaN   \n",
       "13         -2.000              1.300           3.100               1.600   \n",
       "14          0.010              0.130           0.460               0.170   \n",
       "15          0.560              0.540           0.630               0.690   \n",
       "16         -7.200              2.400          12.100               3.000   \n",
       "\n",
       "    dsct  nfreqs  \n",
       "0   True       1  \n",
       "1   True       4  \n",
       "2   True       3  \n",
       "3   True       4  \n",
       "4   True       4  \n",
       "5   True       1  \n",
       "6   True       1  \n",
       "7   True       1  \n",
       "8   True       4  \n",
       "9   True       4  \n",
       "10  True       2  \n",
       "11  True       4  \n",
       "12  True       1  \n",
       "13  True       3  \n",
       "14  True       4  \n",
       "15  True       3  \n",
       "16  True       4  \n",
       "\n",
       "[17 rows x 139 columns]"
      ]
     },
     "execution_count": 25,
     "metadata": {},
     "output_type": "execute_result"
    }
   ],
   "source": [
    "koi_dsct"
   ]
  },
  {
   "cell_type": "code",
   "execution_count": 8,
   "metadata": {},
   "outputs": [
    {
     "data": {
      "image/png": "[encoded data removed]",
      "text/plain": [
       "<Figure size 239.976x239.976 with 1 Axes>"
      ]
     },
     "metadata": {
      "needs_background": "light"
     },
     "output_type": "display_data"
    }
   ],
   "source": [
    "plt.figure(figsize=[3.333, 3.333])\n",
    "\n",
    "m = koi_dsct['koi_disposition'] == 'CONFIRMED'\n",
    "plt.errorbar(np.array(periods)[m], np.array(masses)[m], yerr=[np.array(masses)[m]-np.array(masses_low)[m], np.abs(np.array(masses)[m]-np.array(masses_hi)[m])], fmt='x', c='C0', label='KOI confirmed')\n",
    "plt.errorbar(np.array(periods)[~m], np.array(masses)[~m], yerr=[np.array(masses)[~m]-np.array(masses_low)[~m], np.abs(np.array(masses)[~m]-np.array(masses_hi)[~m])], fmt='.',  c='C0', label='KOI candidates')\n",
    "plt.errorbar(cand_periods, cand_masses, yerr=[np.array(cand_masses)-np.array(cand_masses_low), np.abs(np.array(cand_masses)-np.array(cand_masses_hi))], fmt='.', c='C3', label='Candidates')\n",
    "\n",
    "plt.fill_between([0,5000], 0, 13, alpha=0.08, color='orange')\n",
    "plt.text\n",
    "# plt.axhline(13, linestyle='dashed', c='black', linewidth=0.7)\n",
    "plt.yscale('log')\n",
    "plt.xscale('log')\n",
    "plt.xlabel('Orbital period [d]')\n",
    "plt.ylabel(r'Companion mass limit [$M_{\\rm jup}$]')\n",
    "plt.xlim(None,150)\n",
    "# plt.ylim(None, 2000)\n",
    "\n",
    "# gradient_fill(np.array([0,200]),np.array([13,13]), fill_color='red')\n",
    "periodss = np.geomspace(0.01,1470,500)\n",
    "stellar_mass = 1.8\n",
    "\n",
    "worst_case = (mass_function(periodss*u.day, 8*u.s).to(u.M_jup))**(1/3) * ((stellar_mass*u.M_sun).to(u.M_jup))**(2/3)\n",
    "typical_case = (mass_function(periodss*u.day, 2*u.s).to(u.M_jup))**(1/3) * ((stellar_mass*u.M_sun).to(u.M_jup))**(2/3)\n",
    "best_case = (mass_function(periodss*u.day, 1*u.s).to(u.M_jup))**(1/3) * ((stellar_mass*u.M_sun).to(u.M_jup))**(2/3)\n",
    "\n",
    "plt.plot(periodss, typical_case, c='black', linewidth=1, alpha=0.8, linestyle='dashed')\n",
    "plt.text(3, 16**2, f'Typical $\\delta$ Sct', rotation=-19, fontsize=8,horizontalalignment='center',      verticalalignment='center')\n",
    "# plt.plot(periodss, worst_case,  c='red', linewidth=1, alpha=0.25)\n",
    "# plt.plot(periodss, best_case, c='green', linewidth=1, alpha=0.25)\n",
    "# X = [[.6, .6], [.7, .7]]\n",
    "plt.legend(fontsize=8)\n",
    "# plt.imshow(X, interpolation='bicubic', cmap='copper', alpha=1)\n",
    "plt.savefig('pulsation_timing.pdf', dpi=300, transparent=False, bbox_inches='tight', pad_inches=0.)"
   ]
  },
  {
   "cell_type": "markdown",
   "metadata": {},
   "source": [
    "# Printing the results"
   ]
  },
  {
   "cell_type": "code",
   "execution_count": 47,
   "metadata": {},
   "outputs": [
    {
     "name": "stdout",
     "output_type": "stream",
     "text": [
      "4380834  & $5.1^{+7.5}_{-0.1}$ &  & $758.7^{+1103.2}_{-7.5}$ &  & $125.7^{+182.8}_{-1.3}$ \\\\ \n",
      "5724523  & $46.2^{+67.7}_{-0.0}$ &  & $11421.7^{+16731.7}_{-3.0}$ &  & $1845.2^{+2703.0}_{-0.5}$ \\\\ \n",
      "7767699  & $14.6^{+21.6}_{-3.7}$ &  & $2105.3^{+3105.8}_{-526.6}$ &  & $283.0^{+417.5}_{-70.8}$ \\\\ \n",
      "8249829  & $1.5^{+2.3}_{-0.0}$ &  & $221.1^{+335.6}_{-0.7}$ &  & $33.0^{+50.1}_{-0.1}$ \\\\ \n",
      "9895543  & $2.4^{+3.6}_{-0.1}$ &  & $317.5^{+478.8}_{-18.6}$ &  & $42.7^{+64.5}_{-2.5}$ \\\\ \n"
     ]
    }
   ],
   "source": [
    "# for index, row in cand[:].iterrows():\n",
    "#         with open(f'traces/{row.kepid}.pkl', 'rb') as buff:\n",
    "#             data = pickle.load(buff)  \n",
    "\n",
    "#         model, trace = data['model'], data['trace']\n",
    "\n",
    "#         mf = mass_function(trace[\"period\"] * u.day, trace[\"asini\"] * u.s)\n",
    "#         mass = (mf.to(u.M_jup))**(1/3) * ((row.new_mass*u.M_sun).to(u.M_jup))**(2/3)\n",
    "#         K1 = rv_semi_amplitude(trace['period']*u.day, mf)\n",
    "        \n",
    "#         percs = np.percentile(trace['asini'], [15.83, 50, 84.16])\n",
    "#         lower, upper = pm.stats.hdi(trace['asini'], hdi_prob=.68)\n",
    "#         print(row.kepid, f' & ${percs[1]:.1f}^{{+{upper:.1f}}}_{{-{lower:.1f}}}$', end=' & ')\n",
    "        \n",
    "#         percs = np.percentile(mass, [15.83, 50, 84.16]).value\n",
    "#         lower, upper = pm.stats.hdi(mass.value, hdi_prob=.68)\n",
    "#         print(f' & ${percs[1]:.1f}^{{+{upper:.1f}}}_{{-{lower:.1f}}}$', end=' & ')\n",
    "        \n",
    "#         percs = np.percentile(K1, [15.83, 50, 84.16]).value\n",
    "#         lower, upper = pm.stats.hdi(K1.value, hdi_prob=.68)\n",
    "#         print(f' & ${percs[1]:.1f}^{{+{upper:.1f}}}_{{-{lower:.1f}}}$', end=' \\\\\\\\ \\n')\n",
    "# #         print(f'${percs[1]:.1f}^{{+{percs[1] - percs[0]:.1f}}}_{{-{percs[2] - percs[1]:.1f}}}$', end=' \\\\\\\\ \\n')"
   ]
  },
  {
   "cell_type": "code",
   "execution_count": null,
   "metadata": {},
   "outputs": [],
   "source": []
  },
  {
   "cell_type": "code",
   "execution_count": 24,
   "metadata": {},
   "outputs": [],
   "source": [
    "plt.style.use('default')"
   ]
  },
  {
   "cell_type": "code",
   "execution_count": 26,
   "metadata": {},
   "outputs": [
    {
     "data": {
      "image/png": "[encoded data removed]",
      "text/plain": [
       "<Figure size 700x500 with 1 Axes>"
      ]
     },
     "metadata": {},
     "output_type": "display_data"
    }
   ],
   "source": [
    "plt.figure(figsize=[7,5])\n",
    "plt.hist(trace['asini'], bins=30)\n",
    "percs = np.percentile(trace['asini'], [15.83, 50, 84.16])\n",
    "for p in percs:\n",
    "    plt.axvline(p, c='r', linestyle='dashed')"
   ]
  },
  {
   "cell_type": "code",
   "execution_count": 37,
   "metadata": {},
   "outputs": [
    {
     "name": "stdout",
     "output_type": "stream",
     "text": [
      "$2.39^{+1.62}_{-2.60}$ \\\\ \n"
     ]
    }
   ],
   "source": [
    "print(f'${percs[1]:.2f}^{{+{percs[1] - percs[0]:.2f}}}_{{-{percs[2] - percs[1]:.2f}}}$', end=' \\\\\\\\ \\n')"
   ]
  },
  {
   "cell_type": "code",
   "execution_count": 50,
   "metadata": {},
   "outputs": [],
   "source": [
    "x = trace['asini']\n",
    "lower, upper = pm.stats.hdi(x, hdi_prob=.68)\n",
    "med = np.median(x)"
   ]
  },
  {
   "cell_type": "code",
   "execution_count": 56,
   "metadata": {},
   "outputs": [
    {
     "data": {
      "text/plain": [
       "(0.13988179217016758, 3.603673161328536)"
      ]
     },
     "execution_count": 56,
     "metadata": {},
     "output_type": "execute_result"
    }
   ],
   "source": [
    "lower, upper"
   ]
  },
  {
   "cell_type": "code",
   "execution_count": 51,
   "metadata": {},
   "outputs": [
    {
     "data": {
      "text/plain": [
       "2.3897179021379547"
      ]
     },
     "execution_count": 51,
     "metadata": {},
     "output_type": "execute_result"
    }
   ],
   "source": [
    "med"
   ]
  },
  {
   "cell_type": "code",
   "execution_count": 54,
   "metadata": {},
   "outputs": [
    {
     "data": {
      "text/plain": [
       "1.2139552591905813"
      ]
     },
     "execution_count": 54,
     "metadata": {},
     "output_type": "execute_result"
    }
   ],
   "source": [
    "upper - med # +"
   ]
  },
  {
   "cell_type": "code",
   "execution_count": 55,
   "metadata": {},
   "outputs": [
    {
     "data": {
      "text/plain": [
       "2.249836109967787"
      ]
     },
     "execution_count": 55,
     "metadata": {},
     "output_type": "execute_result"
    }
   ],
   "source": [
    "med - lower # -"
   ]
  },
  {
   "cell_type": "code",
   "execution_count": 10,
   "metadata": {},
   "outputs": [
    {
     "data": {
      "text/plain": [
       "14.075039709186973"
      ]
     },
     "execution_count": 10,
     "metadata": {},
     "output_type": "execute_result"
    }
   ],
   "source": [
    "np.percentile(trace['asini'], 95)"
   ]
  },
  {
   "cell_type": "code",
   "execution_count": 20,
   "metadata": {},
   "outputs": [
    {
     "name": "stdout",
     "output_type": "stream",
     "text": [
      "4380834  & $14.1$ &  $2081.0$ &  $344.8$ \\\\ \n",
      "5724523  & $127.3$ &  $31477.3$ &  $5085.3$ \\\\ \n",
      "7767699  & $29.8$ &  $4277.4$ &  $575.0$ \\\\ \n",
      "8249829  & $4.7$ &  $673.6$ &  $100.5$ \\\\ \n",
      "9895543  & $6.9$ &  $918.8$ &  $123.7$ \\\\ \n",
      "KOI\n",
      "3964109  & $151.5$ &  $2225.7$ &  $154.3$ \\\\ \n",
      "9111849  & $65.2$ &  $787.4$ &  $22.5$ \\\\ \n",
      "9845898  & $32.8$ &  $311.9$ &  $15.8$ \\\\ \n",
      "5202905  & $2.8$ &  $47.6$ &  $2.7$ \\\\ \n",
      "5202905  & $4.7$ &  $105.6$ &  $6.9$ \\\\ \n",
      "6116172  & $6.0$ &  $44.3$ &  $1.5$ \\\\ \n",
      "6116172  & $5.7$ &  $35.0$ &  $1.1$ \\\\ \n",
      "6116172  & $6.0$ &  $44.3$ &  $1.5$ \\\\ \n",
      "11013201  & $1.2$ &  $36.8$ &  $2.0$ \\\\ \n",
      "11013201  & $4.4$ &  $192.5$ &  $12.3$ \\\\ \n",
      "6032730  & $4.4$ &  $33.0$ &  $1.0$ \\\\ \n",
      "5617259  & $12.0$ &  $1850.4$ &  $250.3$ \\\\ \n",
      "9775385  & $10.4$ &  $124.2$ &  $5.0$ \\\\ \n",
      "6670742  & $14.2$ &  $142.3$ &  $4.3$ \\\\ \n",
      "9289704  & $6.0$ &  $116.5$ &  $3.9$ \\\\ \n",
      "3965201  & $14.0$ &  $193.1$ &  $6.9$ \\\\ \n",
      "11180361  & $321.1$ &  $87717.5$ &  $13134.1$ \\\\ \n"
     ]
    }
   ],
   "source": [
    "for index, row in cand[:].iterrows():\n",
    "        with open(f'traces/{row.kepid}.pkl', 'rb') as buff:\n",
    "            data = pickle.load(buff)  \n",
    "\n",
    "        model, trace = data['model'], data['trace']\n",
    "\n",
    "        mf = mass_function(trace[\"period\"] * u.day, trace[\"asini\"] * u.s)\n",
    "        mass = (mf.to(u.M_jup))**(1/3) * ((row.new_mass*u.M_sun).to(u.M_jup))**(2/3)\n",
    "        K1 = rv_semi_amplitude(trace['period']*u.day, mf)\n",
    "        \n",
    "        print(row.kepid, f' & ${np.percentile(trace[\"asini\"], 95):.1f}$', end=' & ')\n",
    "        print(f' ${np.percentile(mass.value, 95):.1f}$', end=' & ')\n",
    "        print(f' ${np.percentile(K1.value, 95):.1f}$', end=' \\\\\\\\ \\n')\n",
    "        \n",
    "#         lower, upper = pm.stats.hdi(mass.value, hdi_prob=.68)\n",
    "#         med = np.median(mass.value)\n",
    "#         print(f' & ${med:.1f}^{{+{upper - med:.1f}}}_{{-{med - lower:.1f}}}$', end=' & ')\n",
    "        \n",
    "#         lower, upper = pm.stats.hdi(K1.value, hdi_prob=.68)\n",
    "#         med = np.median(K1.value)\n",
    "#         print(f' & ${med:.1f}^{{+{upper - med:.1f}}}_{{-{med - lower:.1f}}}$', end=' \\\\\\\\ \\n')\n",
    "#         print(f'${percs[1]:.1f}^{{+{percs[1] - percs[0]:.1f}}}_{{-{percs[2] - percs[1]:.1f}}}$', end=' \\\\\\\\ \\n')\n",
    "\n",
    "print(\"KOI\")\n",
    "for index, row in koi_dsct[:].iterrows():\n",
    "        with open(f'traces/{row.kepoi_name}.pkl', 'rb') as buff:\n",
    "            data = pickle.load(buff)  \n",
    "\n",
    "        model, trace = data['model'], data['trace']\n",
    "\n",
    "        mf = mass_function(trace[\"period\"] * u.day, trace[\"asini\"] * u.s)\n",
    "        mass = (mf.to(u.M_jup))**(1/3) * ((row.koi_smass*u.M_sun).to(u.M_jup))**(2/3)\n",
    "        K1 = rv_semi_amplitude(trace['period']*u.day, mf)\n",
    "        print(row.kepid, f' & ${np.percentile(trace[\"asini\"], 95):.1f}$', end=' & ')\n",
    "        print(f' ${np.percentile(mass.value, 95):.1f}$', end=' & ')\n",
    "        print(f' ${np.percentile(K1.value, 95):.1f}$', end=' \\\\\\\\ \\n')"
   ]
  },
  {
   "cell_type": "code",
   "execution_count": 5,
   "metadata": {},
   "outputs": [
    {
     "ename": "NameError",
     "evalue": "name 'pm' is not defined",
     "output_type": "error",
     "traceback": [
      "\u001b[0;31m---------------------------------------------------------------------------\u001b[0m",
      "\u001b[0;31mNameError\u001b[0m                                 Traceback (most recent call last)",
      "\u001b[0;32m<ipython-input-5-25e3f3ed2ae3>\u001b[0m in \u001b[0;36m<module>\u001b[0;34m\u001b[0m\n\u001b[1;32m      9\u001b[0m         \u001b[0mK1\u001b[0m \u001b[0;34m=\u001b[0m \u001b[0mrv_semi_amplitude\u001b[0m\u001b[0;34m(\u001b[0m\u001b[0mtrace\u001b[0m\u001b[0;34m[\u001b[0m\u001b[0;34m'period'\u001b[0m\u001b[0;34m]\u001b[0m\u001b[0;34m*\u001b[0m\u001b[0mu\u001b[0m\u001b[0;34m.\u001b[0m\u001b[0mday\u001b[0m\u001b[0;34m,\u001b[0m \u001b[0mmf\u001b[0m\u001b[0;34m)\u001b[0m\u001b[0;34m\u001b[0m\u001b[0;34m\u001b[0m\u001b[0m\n\u001b[1;32m     10\u001b[0m \u001b[0;34m\u001b[0m\u001b[0m\n\u001b[0;32m---> 11\u001b[0;31m         \u001b[0mlower\u001b[0m\u001b[0;34m,\u001b[0m \u001b[0mupper\u001b[0m \u001b[0;34m=\u001b[0m \u001b[0mpm\u001b[0m\u001b[0;34m.\u001b[0m\u001b[0mstats\u001b[0m\u001b[0;34m.\u001b[0m\u001b[0mhdi\u001b[0m\u001b[0;34m(\u001b[0m\u001b[0mtrace\u001b[0m\u001b[0;34m[\u001b[0m\u001b[0;34m'asini'\u001b[0m\u001b[0;34m]\u001b[0m\u001b[0;34m,\u001b[0m \u001b[0mhdi_prob\u001b[0m\u001b[0;34m=\u001b[0m\u001b[0;36m.68\u001b[0m\u001b[0;34m)\u001b[0m\u001b[0;34m\u001b[0m\u001b[0;34m\u001b[0m\u001b[0m\n\u001b[0m\u001b[1;32m     12\u001b[0m         \u001b[0mmed\u001b[0m \u001b[0;34m=\u001b[0m \u001b[0mnp\u001b[0m\u001b[0;34m.\u001b[0m\u001b[0mmedian\u001b[0m\u001b[0;34m(\u001b[0m\u001b[0mtrace\u001b[0m\u001b[0;34m[\u001b[0m\u001b[0;34m'asini'\u001b[0m\u001b[0;34m]\u001b[0m\u001b[0;34m)\u001b[0m\u001b[0;34m\u001b[0m\u001b[0;34m\u001b[0m\u001b[0m\n\u001b[1;32m     13\u001b[0m         \u001b[0mprint\u001b[0m\u001b[0;34m(\u001b[0m\u001b[0mrow\u001b[0m\u001b[0;34m.\u001b[0m\u001b[0mkepid\u001b[0m\u001b[0;34m,\u001b[0m \u001b[0;34mf' & ${med:.1f}^{{+{upper - med:.1f}}}_{{-{med - lower:.1f}}}$'\u001b[0m\u001b[0;34m,\u001b[0m \u001b[0mend\u001b[0m\u001b[0;34m=\u001b[0m\u001b[0;34m' & '\u001b[0m\u001b[0;34m)\u001b[0m\u001b[0;34m\u001b[0m\u001b[0;34m\u001b[0m\u001b[0m\n",
      "\u001b[0;31mNameError\u001b[0m: name 'pm' is not defined"
     ]
    }
   ],
   "source": [
    "# for index, row in cand[:].iterrows():\n",
    "#         with open(f'traces/{row.kepid}.pkl', 'rb') as buff:\n",
    "#             data = pickle.load(buff)  \n",
    "\n",
    "#         model, trace = data['model'], data['trace']\n",
    "\n",
    "#         mf = mass_function(trace[\"period\"] * u.day, trace[\"asini\"] * u.s)\n",
    "#         mass = (mf.to(u.M_jup))**(1/3) * ((row.new_mass*u.M_sun).to(u.M_jup))**(2/3)\n",
    "#         K1 = rv_semi_amplitude(trace['period']*u.day, mf)\n",
    "        \n",
    "#         lower, upper = pm.stats.hdi(trace['asini'], hdi_prob=.68)\n",
    "#         med = np.median(trace['asini'])\n",
    "#         print(row.kepid, f' & ${med:.1f}^{{+{upper - med:.1f}}}_{{-{med - lower:.1f}}}$', end=' & ')\n",
    "        \n",
    "#         lower, upper = pm.stats.hdi(mass.value, hdi_prob=.68)\n",
    "#         med = np.median(mass.value)\n",
    "#         print(f' & ${med:.1f}^{{+{upper - med:.1f}}}_{{-{med - lower:.1f}}}$', end=' & ')\n",
    "        \n",
    "#         lower, upper = pm.stats.hdi(K1.value, hdi_prob=.68)\n",
    "#         med = np.median(K1.value)\n",
    "#         print(f' & ${med:.1f}^{{+{upper - med:.1f}}}_{{-{med - lower:.1f}}}$', end=' \\\\\\\\ \\n')\n",
    "# #         print(f'${percs[1]:.1f}^{{+{percs[1] - percs[0]:.1f}}}_{{-{percs[2] - percs[1]:.1f}}}$', end=' \\\\\\\\ \\n')"
   ]
  },
  {
   "cell_type": "code",
   "execution_count": 107,
   "metadata": {},
   "outputs": [
    {
     "name": "stdout",
     "output_type": "stream",
     "text": [
      "3964109  & $59.0^{+39.6}_{-56.6}$ & $865.9^{+581.3}_{-830.6}$ & $60.0^{+40.3}_{-57.6}$ \\\\ \n",
      "9111849  & $35.8^{+17.0}_{-18.5}$ & $432.5^{+204.9}_{-223.4}$ & $12.4^{+5.9}_{-6.4}$ \\\\ \n",
      "9845898  & $15.0^{+9.8}_{-10.9}$ & $142.9^{+93.3}_{-103.4}$ & $7.3^{+4.7}_{-5.3}$ \\\\ \n",
      "5202905  & $1.0^{+0.7}_{-1.1}$ & $17.2^{+12.2}_{-18.0}$ & $1.0^{+0.7}_{-1.0}$ \\\\ \n",
      "5202905  & $1.8^{+1.3}_{-1.8}$ & $41.0^{+28.4}_{-39.9}$ & $2.7^{+1.9}_{-2.6}$ \\\\ \n",
      "6116172  & $2.1^{+1.5}_{-2.2}$ & $15.1^{+10.9}_{-16.5}$ & $0.5^{+0.4}_{-0.6}$ \\\\ \n",
      "6116172  & $2.0^{+1.5}_{-2.2}$ & $12.4^{+9.0}_{-13.4}$ & $0.4^{+0.3}_{-0.4}$ \\\\ \n",
      "6116172  & $2.1^{+1.5}_{-2.2}$ & $15.1^{+10.9}_{-16.5}$ & $0.5^{+0.4}_{-0.6}$ \\\\ \n",
      "11013201  & $0.4^{+0.3}_{-0.4}$ & $13.5^{+9.3}_{-13.6}$ & $0.7^{+0.5}_{-0.7}$ \\\\ \n",
      "11013201  & $1.6^{+1.2}_{-1.7}$ & $68.0^{+50.0}_{-75.8}$ & $4.4^{+3.2}_{-4.9}$ \\\\ \n",
      "6032730  & $1.5^{+1.0}_{-1.6}$ & $11.6^{+7.9}_{-11.8}$ & $0.3^{+0.2}_{-0.4}$ \\\\ \n",
      "5617259  & $4.0^{+2.8}_{-4.7}$ & $610.9^{+436.2}_{-721.0}$ & $82.6^{+59.0}_{-97.5}$ \\\\ \n",
      "9775385  & $4.7^{+3.0}_{-3.6}$ & $55.3^{+35.7}_{-42.6}$ & $2.2^{+1.5}_{-1.7}$ \\\\ \n",
      "6670742  & $4.9^{+3.5}_{-5.3}$ & $48.8^{+34.6}_{-53.0}$ & $1.5^{+1.0}_{-1.6}$ \\\\ \n",
      "9289704  & $2.2^{+1.6}_{-2.3}$ & $41.5^{+30.1}_{-43.6}$ & $1.4^{+1.0}_{-1.4}$ \\\\ \n",
      "3965201  & $5.1^{+3.6}_{-5.4}$ & $69.8^{+49.4}_{-74.2}$ & $2.5^{+1.8}_{-2.7}$ \\\\ \n",
      "11180361  & $293.2^{+16.8}_{-17.8}$ & $80088.8^{+4589.0}_{-4867.2}$ & $11991.9^{+687.1}_{-728.8}$ \\\\ \n"
     ]
    }
   ],
   "source": [
    "for index, row in koi_dsct[:].iterrows():\n",
    "        with open(f'traces/{row.kepoi_name}.pkl', 'rb') as buff:\n",
    "            data = pickle.load(buff)  \n",
    "\n",
    "        model, trace = data['model'], data['trace']\n",
    "\n",
    "        mf = mass_function(trace[\"period\"] * u.day, trace[\"asini\"] * u.s)\n",
    "        mass = (mf.to(u.M_jup))**(1/3) * ((row.koi_smass*u.M_sun).to(u.M_jup))**(2/3)\n",
    "        K1 = rv_semi_amplitude(trace['period']*u.day, mf)\n",
    "        \n",
    "        percs = np.percentile(trace['asini'], [15.83, 50, 84.16])\n",
    "        print(row.kepid, f' & ${percs[1]:.1f}^{{+{percs[1] - percs[0]:.1f}}}_{{-{percs[2] - percs[1]:.1f}}}$', end=' & ')\n",
    "        \n",
    "        percs = np.percentile(mass, [15.83, 50, 84.16]).value\n",
    "        print(f'${percs[1]:.1f}^{{+{percs[1] - percs[0]:.1f}}}_{{-{percs[2] - percs[1]:.1f}}}$', end=' & ')\n",
    "        \n",
    "        percs = np.percentile(K1, [15.83, 50, 84.16]).value\n",
    "        print(f'${percs[1]:.1f}^{{+{percs[1] - percs[0]:.1f}}}_{{-{percs[2] - percs[1]:.1f}}}$', end=' \\\\\\\\ \\n')"
   ]
  },
  {
   "cell_type": "code",
   "execution_count": 97,
   "metadata": {},
   "outputs": [
    {
     "data": {
      "text/latex": [
       "$581.3294 \\; \\mathrm{M_{\\rm J}}$"
      ],
      "text/plain": [
       "<Quantity 581.32939554 jupiterMass>"
      ]
     },
     "execution_count": 97,
     "metadata": {},
     "output_type": "execute_result"
    }
   ],
   "source": [
    "percs[1] - percs[0]"
   ]
  },
  {
   "cell_type": "code",
   "execution_count": null,
   "metadata": {},
   "outputs": [],
   "source": []
  },
  {
   "cell_type": "code",
   "execution_count": null,
   "metadata": {},
   "outputs": [],
   "source": []
  },
  {
   "cell_type": "code",
   "execution_count": null,
   "metadata": {},
   "outputs": [],
   "source": []
  },
  {
   "cell_type": "code",
   "execution_count": null,
   "metadata": {},
   "outputs": [],
   "source": []
  },
  {
   "cell_type": "code",
   "execution_count": 17,
   "metadata": {},
   "outputs": [],
   "source": [
    "df = koi_dsct.merge(res, left_on='kepid', right_on='id')"
   ]
  },
  {
   "cell_type": "code",
   "execution_count": 21,
   "metadata": {},
   "outputs": [
    {
     "data": {
      "text/plain": [
       "[<matplotlib.lines.Line2D at 0x7f0254560310>]"
      ]
     },
     "execution_count": 21,
     "metadata": {},
     "output_type": "execute_result"
    },
    {
     "data": {
      "image/png": "[encoded data removed]",
      "text/plain": [
       "<Figure size 240x240 with 1 Axes>"
      ]
     },
     "metadata": {
      "needs_background": "light"
     },
     "output_type": "display_data"
    }
   ],
   "source": [
    "plt.figure(figsize=[10/3, 10/3])\n",
    "\n",
    "mask = df['koi_disposition'] == 'CANDIDATE'\n",
    "plt.errorbar(df[mask]['koi_period'], df[mask]['pm_mass'],yerr=[df[mask]['pm_mass_low'].values, df[mask]['pm_mass_hi'].values], fmt='.', elinewidth=0.7, color='blue', label='Candidate')\n",
    "plt.errorbar(df[~mask]['koi_period'], df[~mask]['pm_mass'],yerr=[df[~mask]['pm_mass_low'].values, \n",
    "                                                                 df[~mask]['pm_mass_hi'].values], fmt='.', elinewidth=0.7, color='orange', label='Confirmed')\n",
    "\n",
    "# plt.fill_between([0,120], 5000, 13, alpha=0.05, color='orange')\n",
    "plt.axhline(13, linestyle='dashed', c='black', linewidth=0.7)\n",
    "plt.yscale('log')\n",
    "plt.xscale('log')\n",
    "plt.xlabel('Orbital period [d]')\n",
    "plt.ylabel(r'Companion mass [$M_{\\rm jup}$]')\n",
    "plt.xlim(None,150)\n",
    "plt.ylim(None, None)\n",
    "\n",
    "plt.legend(fontsize=8)\n",
    "\n",
    "# gradient_fill(np.array([0,200]),np.array([13,13]), fill_color='red')\n",
    "periods = np.geomspace(0.01,1470,500)\n",
    "stellar_mass = 1.8\n",
    "\n",
    "# # worst_case = (mass_function(periods*u.day, 8*u.s).to(u.M_jup))**(1/3) * ((stellar_mass*u.M_sun).to(u.M_jup))**(2/3)\n",
    "typical_case = (mass_function(periods*u.day, 2*u.s).to(u.M_jup))**(1/3) * ((stellar_mass*u.M_sun).to(u.M_jup))**(2/3)\n",
    "# # best_case = (mass_function(periods*u.day, 1*u.s).to(u.M_jup))**(1/3) * ((stellar_mass*u.M_sun).to(u.M_jup))**(2/3)\n",
    "\n",
    "plt.plot(periods, typical_case, label='SNR=500', c='blue', linewidth=0.6)\n",
    "\n",
    "# plt.savefig(overleaf_path + 'results_koi.pdf', dpi=300, bbox_inches='tight', pad_inches=0.)"
   ]
  },
  {
   "cell_type": "code",
   "execution_count": 28,
   "metadata": {},
   "outputs": [
    {
     "name": "stdout",
     "output_type": "stream",
     "text": [
      "a\n"
     ]
    }
   ],
   "source": [
    "print('a')"
   ]
  },
  {
   "cell_type": "code",
   "execution_count": null,
   "metadata": {},
   "outputs": [],
   "source": []
  },
  {
   "cell_type": "code",
   "execution_count": 17,
   "metadata": {},
   "outputs": [
    {
     "data": {
      "text/plain": [
       "[<matplotlib.lines.Line2D at 0x12e256490>]"
      ]
     },
     "execution_count": 17,
     "metadata": {},
     "output_type": "execute_result"
    },
    {
     "data": {
      "image/png": "[encoded data removed]",
      "text/plain": [
       "<Figure size 242.267x242.267 with 1 Axes>"
      ]
     },
     "metadata": {
      "image/png": {
       "height": 228,
       "width": 243
      },
      "needs_background": "light"
     },
     "output_type": "display_data"
    }
   ],
   "source": [
    "plt.figure(figsize=mnras_size(242.26653, square=True))\n",
    "\n",
    "mask = df['koi_disposition'] == 'CANDIDATE'\n",
    "plt.errorbar(df[mask]['koi_period'], df[mask]['pm_mass'],yerr=[df[mask]['pm_mass_low'].values, df[mask]['pm_mass_hi'].values], fmt='.', elinewidth=0.7, color=blue, label='Candidate')\n",
    "plt.errorbar(df[~mask]['koi_period'], df[~mask]['pm_mass'],yerr=[df[~mask]['pm_mass_low'].values, df[~mask]['pm_mass_hi'].values], fmt='.', elinewidth=0.7, color=orange, label='Confirmed')\n",
    "\n",
    "# plt.fill_between([0,120], 5000, 13, alpha=0.05, color='orange')\n",
    "plt.axhline(13, linestyle='dashed', c='black', linewidth=0.7)\n",
    "plt.yscale('log')\n",
    "plt.xscale('log')\n",
    "plt.xlabel('Orbital period [d]')\n",
    "plt.ylabel(r'Companion mass [$M_{\\rm jup}$]')\n",
    "plt.xlim(None,150)\n",
    "plt.ylim(None, None)\n",
    "\n",
    "plt.legend(fontsize=8)\n",
    "\n",
    "# gradient_fill(np.array([0,200]),np.array([13,13]), fill_color='red')\n",
    "periods = np.geomspace(0.01,1470,500)\n",
    "stellar_mass = 1.8\n",
    "\n",
    "# # worst_case = (mass_function(periods*u.day, 8*u.s).to(u.M_jup))**(1/3) * ((stellar_mass*u.M_sun).to(u.M_jup))**(2/3)\n",
    "typical_case = (mass_function(periods*u.day, 2*u.s).to(u.M_jup))**(1/3) * ((stellar_mass*u.M_sun).to(u.M_jup))**(2/3)\n",
    "# # best_case = (mass_function(periods*u.day, 1*u.s).to(u.M_jup))**(1/3) * ((stellar_mass*u.M_sun).to(u.M_jup))**(2/3)\n",
    "\n",
    "plt.plot(periods, typical_case, label='SNR=500', c=blue, linewidth=0.6)\n",
    "\n",
    "# plt.savefig(overleaf_path + 'results_koi.pdf', dpi=300, bbox_inches='tight', pad_inches=0.)"
   ]
  },
  {
   "cell_type": "code",
   "execution_count": 18,
   "metadata": {},
   "outputs": [
    {
     "data": {
      "text/html": [
       "<div>\n",
       "<style scoped>\n",
       "    .dataframe tbody tr th:only-of-type {\n",
       "        vertical-align: middle;\n",
       "    }\n",
       "\n",
       "    .dataframe tbody tr th {\n",
       "        vertical-align: top;\n",
       "    }\n",
       "\n",
       "    .dataframe thead th {\n",
       "        text-align: right;\n",
       "    }\n",
       "</style>\n",
       "<table border=\"1\" class=\"dataframe\">\n",
       "  <thead>\n",
       "    <tr style=\"text-align: right;\">\n",
       "      <th></th>\n",
       "      <th>kepid</th>\n",
       "      <th>pm_mass</th>\n",
       "    </tr>\n",
       "  </thead>\n",
       "  <tbody>\n",
       "    <tr>\n",
       "      <th>0</th>\n",
       "      <td>3964109</td>\n",
       "      <td>96.194093</td>\n",
       "    </tr>\n",
       "    <tr>\n",
       "      <th>1</th>\n",
       "      <td>5202905</td>\n",
       "      <td>18.842860</td>\n",
       "    </tr>\n",
       "    <tr>\n",
       "      <th>2</th>\n",
       "      <td>5202905</td>\n",
       "      <td>25.101777</td>\n",
       "    </tr>\n",
       "    <tr>\n",
       "      <th>3</th>\n",
       "      <td>5202905</td>\n",
       "      <td>18.842860</td>\n",
       "    </tr>\n",
       "    <tr>\n",
       "      <th>4</th>\n",
       "      <td>5202905</td>\n",
       "      <td>25.101777</td>\n",
       "    </tr>\n",
       "    <tr>\n",
       "      <th>11</th>\n",
       "      <td>9845898</td>\n",
       "      <td>40.767023</td>\n",
       "    </tr>\n",
       "  </tbody>\n",
       "</table>\n",
       "</div>"
      ],
      "text/plain": [
       "      kepid    pm_mass\n",
       "0   3964109  96.194093\n",
       "1   5202905  18.842860\n",
       "2   5202905  25.101777\n",
       "3   5202905  18.842860\n",
       "4   5202905  25.101777\n",
       "11  9845898  40.767023"
      ]
     },
     "execution_count": 18,
     "metadata": {},
     "output_type": "execute_result"
    }
   ],
   "source": [
    "df[df['koi_disposition'] == 'CONFIRMED'][['kepid', 'pm_mass']]"
   ]
  },
  {
   "cell_type": "code",
   "execution_count": null,
   "metadata": {},
   "outputs": [],
   "source": []
  },
  {
   "cell_type": "code",
   "execution_count": 22,
   "metadata": {},
   "outputs": [],
   "source": [
    "ii = 11\n",
    "kepid = koi_dsct.iloc[ii].kepid"
   ]
  },
  {
   "cell_type": "code",
   "execution_count": 23,
   "metadata": {},
   "outputs": [],
   "source": [
    "def low_pass(t, y, width=3.):\n",
    "    return gaussian_filter(y, width)"
   ]
  },
  {
   "cell_type": "code",
   "execution_count": 24,
   "metadata": {},
   "outputs": [],
   "source": [
    "t, y = get_kepler_lc(kepid)\n",
    "y = low_pass(t, y, 5)"
   ]
  },
  {
   "cell_type": "code",
   "execution_count": 25,
   "metadata": {},
   "outputs": [],
   "source": [
    "# ms = Maelstrom(t, y, max_peaks=3, fmin=5, fmax=41)\n",
    "# ax = ms.first_look();\n",
    "# koi_period = koi_dsct.iloc[ii].koi_period\n",
    "# ax[3].axvline(1./koi_period, c='g', linestyle='dashed')"
   ]
  },
  {
   "cell_type": "code",
   "execution_count": 26,
   "metadata": {},
   "outputs": [
    {
     "name": "stderr",
     "output_type": "stream",
     "text": [
      "WARNING: AstropyDeprecationWarning: Importing BoxLeastSquares from astropy.stats has been deprecated and will no longer be supported in future. Please import this class from the astropy.timeseries module instead [astropy.stats.bls]\n"
     ]
    }
   ],
   "source": [
    "from astropy.stats import BoxLeastSquares\n",
    "\n",
    "m = np.zeros(len(t), dtype=bool)\n",
    "period_grid = np.exp(np.linspace(np.log(5), np.log(150), 50000))\n",
    "bls_results = []\n",
    "periods = []\n",
    "t0s = []\n",
    "depths = []\n",
    "durations = []\n",
    "stats = []\n",
    "# Compute the periodogram for each star by iteratively masking out\n",
    "# eclipses from the higher signal to noise star.\n",
    "for i in range(1):\n",
    "    bls = BoxLeastSquares(t[~m], y[~m])\n",
    "    bls_power = bls.power(period_grid, 0.1, oversample=20)\n",
    "    bls_results.append(bls_power)\n",
    "\n",
    "    # Save the highest peak as the planet candidate\n",
    "    index = np.argmax(bls_power.power)\n",
    "    periods.append(bls_power.period[index])\n",
    "    t0s.append(bls_power.transit_time[index])\n",
    "    depths.append(bls_power.depth[index])\n",
    "    durations.append(bls_power.duration[index])\n",
    "    \n",
    "    stats.append(bls.compute_stats(periods[i], durations[i], t0s[i]))\n",
    "\n",
    "    # Mask the data points that are in transit for this candidate\n",
    "    m |= bls.transit_mask(t, periods[-1], 0.5, t0s[-1])"
   ]
  },
  {
   "cell_type": "code",
   "execution_count": 27,
   "metadata": {},
   "outputs": [
    {
     "data": {
      "image/png": "[encoded data removed]",
      "text/plain": [
       "<Figure size 1500x1000 with 2 Axes>"
      ]
     },
     "metadata": {
      "needs_background": "light"
     },
     "output_type": "display_data"
    }
   ],
   "source": [
    "fig, axes = plt.subplots(len(bls_results), 2, figsize=(15, 10))\n",
    "\n",
    "for i in range(len(bls_results)):\n",
    "    # Plot the periodogram\n",
    "    ax = axes[i]\n",
    "    ax.axvline(np.log10(periods[i]), color=\"C1\", lw=5, alpha=0.8)\n",
    "    ax.plot(np.log10(bls_results[i].period), bls_results[i].power, \"k\")\n",
    "    ax.annotate(\"period = {0:.4f} d\".format(periods[i]),\n",
    "                (0, 1), xycoords=\"axes fraction\",\n",
    "                xytext=(5, -5), textcoords=\"offset points\",\n",
    "                va=\"top\", ha=\"left\", fontsize=12)\n",
    "    ax.set_ylabel(\"bls power\")\n",
    "    ax.set_yticks([])\n",
    "    ax.set_xlim(np.log10(period_grid.min()), np.log10(period_grid.max()))\n",
    "    if i < len(bls_results) - 1:\n",
    "        ax.set_xticklabels([])\n",
    "    else:\n",
    "        ax.set_xlabel(\"log10(period)\")\n",
    "\n",
    "    # Plot the folded transit\n",
    "    ax = axes[1]\n",
    "    p = periods[i]\n",
    "    x_fold = (t - t0s[i] + 0.5*p) % p - 0.5*p\n",
    "    m = np.abs(x_fold) < 0.4\n",
    "    ax.plot(x_fold[m], y[m], \".k\")\n",
    "\n",
    "    # Overplot the phase binned light curve\n",
    "    bins = np.linspace(-0.41, 0.41, 32)\n",
    "    denom, _ = np.histogram(x_fold, bins)\n",
    "    num, _ = np.histogram(x_fold, bins, weights=y)\n",
    "    denom[num == 0] = 1.0\n",
    "    ax.plot(0.5*(bins[1:] + bins[:-1]), num / denom, color=\"C1\")\n",
    "\n",
    "    ax.set_xlim(-0.4, 0.4)\n",
    "    ax.set_ylabel(\"relative flux [ppt]\")\n",
    "    if i < len(bls_results) - 1:\n",
    "        ax.set_xticklabels([])\n",
    "    else:\n",
    "        ax.set_xlabel(\"time since transit\")\n",
    "\n",
    "fig.subplots_adjust(hspace=0.02)"
   ]
  },
  {
   "cell_type": "code",
   "execution_count": null,
   "metadata": {},
   "outputs": [],
   "source": []
  },
  {
   "cell_type": "code",
   "execution_count": null,
   "metadata": {},
   "outputs": [],
   "source": []
  },
  {
   "cell_type": "code",
   "execution_count": 31,
   "metadata": {},
   "outputs": [
    {
     "data": {
      "text/plain": [
       "45.126216"
      ]
     },
     "execution_count": 31,
     "metadata": {},
     "output_type": "execute_result"
    }
   ],
   "source": [
    "koi_dsct.iloc[ii].koi_period"
   ]
  },
  {
   "cell_type": "code",
   "execution_count": 28,
   "metadata": {},
   "outputs": [
    {
     "data": {
      "text/plain": [
       "<matplotlib.axes._subplots.AxesSubplot at 0x1387c6b50>"
      ]
     },
     "execution_count": 28,
     "metadata": {},
     "output_type": "execute_result"
    },
    {
     "data": {
      "image/png": "[encoded data removed]",
      "text/plain": [
       "<Figure size 848.5x400 with 1 Axes>"
      ]
     },
     "metadata": {},
     "output_type": "display_data"
    }
   ],
   "source": [
    "lc.fold(period=koi_dsct.iloc[ii].koi_period).plot()"
   ]
  },
  {
   "cell_type": "code",
   "execution_count": null,
   "metadata": {},
   "outputs": [],
   "source": []
  },
  {
   "cell_type": "code",
   "execution_count": 26,
   "metadata": {},
   "outputs": [
    {
     "data": {
      "text/plain": [
       "[<matplotlib.lines.Line2D at 0x138b6d810>]"
      ]
     },
     "execution_count": 26,
     "metadata": {},
     "output_type": "execute_result"
    },
    {
     "data": {
      "image/png": "[encoded data removed]",
      "text/plain": [
       "<Figure size 600x400 with 1 Axes>"
      ]
     },
     "metadata": {
      "needs_background": "light"
     },
     "output_type": "display_data"
    }
   ],
   "source": [
    "t, y = get_kepler_lc(kepid)\n",
    "lp = low_pass(t, y, width=1)\n",
    "\n",
    "fold = t % koi_dsct.iloc[ii].koi_period / koi_dsct.iloc[ii].koi_period\n",
    "sort = np.argsort(fold)\n",
    "plt.plot(fold[sort], lp[sort], linewidth=0.5)"
   ]
  },
  {
   "cell_type": "code",
   "execution_count": null,
   "metadata": {},
   "outputs": [],
   "source": []
  },
  {
   "cell_type": "code",
   "execution_count": 160,
   "metadata": {},
   "outputs": [
    {
     "data": {
      "text/plain": [
       "96.509214"
      ]
     },
     "execution_count": 160,
     "metadata": {},
     "output_type": "execute_result"
    }
   ],
   "source": [
    "koi_dsct.iloc[ii].koi_period"
   ]
  },
  {
   "cell_type": "code",
   "execution_count": 148,
   "metadata": {},
   "outputs": [
    {
     "data": {
      "text/plain": [
       "0       2454977.660\n",
       "1       2455026.304\n",
       "2       2454979.349\n",
       "3       2454964.693\n",
       "4       2454965.469\n",
       "           ...     \n",
       "1166    2454967.423\n",
       "1167    2454972.346\n",
       "1168    2455029.391\n",
       "1169    2454953.566\n",
       "1170    2454977.215\n",
       "Name: koi_time0, Length: 1171, dtype: float64"
      ]
     },
     "execution_count": 148,
     "metadata": {},
     "output_type": "execute_result"
    }
   ],
   "source": [
    "koi.koi_time0"
   ]
  },
  {
   "cell_type": "code",
   "execution_count": null,
   "metadata": {},
   "outputs": [],
   "source": []
  },
  {
   "cell_type": "code",
   "execution_count": 146,
   "metadata": {},
   "outputs": [
    {
     "name": "stdout",
     "output_type": "stream",
     "text": [
      "Unnamed: 0\n",
      "rowid\n",
      "kepid\n",
      "kepoi_name\n",
      "kepler_name\n",
      "koi_disposition\n",
      "koi_vet_stat\n",
      "koi_vet_date\n",
      "koi_pdisposition\n",
      "koi_score\n",
      "koi_fpflag_nt\n",
      "koi_fpflag_ss\n",
      "koi_fpflag_co\n",
      "koi_fpflag_ec\n",
      "koi_disp_prov\n",
      "koi_comment\n",
      "koi_period\n",
      "koi_period_err1\n",
      "koi_period_err2\n",
      "koi_time0bk\n",
      "koi_time0bk_err1\n",
      "koi_time0bk_err2\n",
      "koi_time0\n",
      "koi_time0_err1\n",
      "koi_time0_err2\n",
      "koi_eccen\n",
      "koi_eccen_err1\n",
      "koi_eccen_err2\n",
      "koi_longp\n",
      "koi_longp_err1\n",
      "koi_longp_err2\n",
      "koi_impact\n",
      "koi_impact_err1\n",
      "koi_impact_err2\n",
      "koi_duration\n",
      "koi_duration_err1\n",
      "koi_duration_err2\n",
      "koi_ingress\n",
      "koi_ingress_err1\n",
      "koi_ingress_err2\n",
      "koi_depth\n",
      "koi_depth_err1\n",
      "koi_depth_err2\n",
      "koi_ror\n",
      "koi_ror_err1\n",
      "koi_ror_err2\n",
      "koi_srho\n",
      "koi_srho_err1\n",
      "koi_srho_err2\n",
      "koi_fittype\n",
      "koi_prad\n",
      "koi_prad_err1\n",
      "koi_prad_err2\n",
      "koi_sma\n",
      "koi_sma_err1\n",
      "koi_sma_err2\n",
      "koi_incl\n",
      "koi_incl_err1\n",
      "koi_incl_err2\n",
      "koi_teq\n",
      "koi_teq_err1\n",
      "koi_teq_err2\n",
      "koi_insol\n",
      "koi_insol_err1\n",
      "koi_insol_err2\n",
      "koi_dor\n",
      "koi_dor_err1\n",
      "koi_dor_err2\n",
      "koi_limbdark_mod\n",
      "koi_ldm_coeff4\n",
      "koi_ldm_coeff3\n",
      "koi_ldm_coeff2\n",
      "koi_ldm_coeff1\n",
      "koi_parm_prov\n",
      "koi_max_sngle_ev\n",
      "koi_max_mult_ev\n",
      "koi_model_snr\n",
      "koi_count\n",
      "koi_num_transits\n",
      "koi_tce_plnt_num\n",
      "koi_tce_delivname\n",
      "koi_quarters\n",
      "koi_bin_oedp_sig\n",
      "koi_trans_mod\n",
      "koi_model_dof\n",
      "koi_model_chisq\n",
      "koi_datalink_dvr\n",
      "koi_datalink_dvs\n",
      "koi_steff\n",
      "koi_steff_err1\n",
      "koi_steff_err2\n",
      "koi_slogg\n",
      "koi_slogg_err1\n",
      "koi_slogg_err2\n",
      "koi_smet\n",
      "koi_smet_err1\n",
      "koi_smet_err2\n",
      "koi_srad\n",
      "koi_srad_err1\n",
      "koi_srad_err2\n",
      "koi_smass\n",
      "koi_smass_err1\n",
      "koi_smass_err2\n",
      "koi_sage\n",
      "koi_sage_err1\n",
      "koi_sage_err2\n",
      "koi_sparprov\n",
      "ra\n",
      "dec\n",
      "koi_kepmag\n",
      "koi_gmag\n",
      "koi_rmag\n",
      "koi_imag\n",
      "koi_zmag\n",
      "koi_jmag\n",
      "koi_hmag\n",
      "koi_kmag\n",
      "koi_fwm_stat_sig\n",
      "koi_fwm_sra\n",
      "koi_fwm_sra_err\n",
      "koi_fwm_sdec\n",
      "koi_fwm_sdec_err\n",
      "koi_fwm_srao\n",
      "koi_fwm_srao_err\n",
      "koi_fwm_sdeco\n",
      "koi_fwm_sdeco_err\n",
      "koi_fwm_prao\n",
      "koi_fwm_prao_err\n",
      "koi_fwm_pdeco\n",
      "koi_fwm_pdeco_err\n",
      "koi_dicco_mra\n",
      "koi_dicco_mra_err\n",
      "koi_dicco_mdec\n",
      "koi_dicco_mdec_err\n",
      "koi_dicco_msky\n",
      "koi_dicco_msky_err\n",
      "koi_dikco_mra\n",
      "koi_dikco_mra_err\n",
      "koi_dikco_mdec\n",
      "koi_dikco_mdec_err\n",
      "koi_dikco_msky\n",
      "koi_dikco_msky_err\n",
      "dsct\n"
     ]
    }
   ],
   "source": [
    "for col in koi.columns:\n",
    "    print(col)"
   ]
  },
  {
   "cell_type": "code",
   "execution_count": null,
   "metadata": {},
   "outputs": [],
   "source": []
  },
  {
   "cell_type": "code",
   "execution_count": 48,
   "metadata": {},
   "outputs": [
    {
     "name": "stdout",
     "output_type": "stream",
     "text": [
      "216.26718315800912 jupiterMass\n"
     ]
    }
   ],
   "source": []
  },
  {
   "cell_type": "code",
   "execution_count": null,
   "metadata": {},
   "outputs": [],
   "source": []
  }
 ],
 "metadata": {
  "kernelspec": {
   "display_name": "Python [conda env:exoplanet_test]",
   "language": "python",
   "name": "conda-env-exoplanet_test-py"
  },
  "language_info": {
   "codemirror_mode": {
    "name": "ipython",
    "version": 3
   },
   "file_extension": ".py",
   "mimetype": "text/x-python",
   "name": "python",
   "nbconvert_exporter": "python",
   "pygments_lexer": "ipython3",
   "version": "3.8.8"
  }
 },
 "nbformat": 4,
 "nbformat_minor": 4
}
