{
 "cells": [
  {
   "cell_type": "code",
   "execution_count": 2,
   "metadata": {},
   "outputs": [],
   "source": [
    "import pandas as pd\n",
    "import numpy as np\n",
    "import lightkurve as lk"
   ]
  },
  {
   "cell_type": "code",
   "execution_count": 3,
   "metadata": {},
   "outputs": [
    {
     "name": "stderr",
     "output_type": "stream",
     "text": [
      "No data found for target \"HR 8799\".\n"
     ]
    },
    {
     "data": {
      "text/html": [
       "SearchResult containing 0 data products."
      ],
      "text/plain": [
       "SearchResult containing 0 data products."
      ]
     },
     "execution_count": 3,
     "metadata": {},
     "output_type": "execute_result"
    }
   ],
   "source": [
    "lk.search_lightcurve('HR 8799')"
   ]
  },
  {
   "cell_type": "markdown",
   "metadata": {},
   "source": [
    "\\begin{align} \\mathrm{ t_{0, \\mathrm{ supconj }, \\mathrm{   } } } &= 2458696.02599^{ +0.00016 }_{ -0.00016 } ~\\mathrm{d} \\\\ \\mathrm{ P_\\mathrm{   } } &= 51.418946^{ +6.2e-05 }_{ -7e-05 } ~\\mathrm{d} \\\\ \\mathrm{ (R_\\mathrm{ equiv, 1 } + R_\\mathrm{ equiv, 2 }) / a_\\mathrm{   } } &= 0.070092^{ +6.8e-05 }_{ -6.9e-05 } \\mathrm{} \\\\ \\mathrm{ R_\\mathrm{ equiv, 2 } / R_\\mathrm{ equiv, 1 } } &= 0.4634^{ +0.0025 }_{ -0.0026 } \\mathrm{} \\\\ \\mathrm{ i_\\mathrm{   } } &= 86.3653^{ +0.0064 }_{ -0.0057 } \\mathrm{{}^{\\circ}} \\\\ \\mathrm{ e_\\mathrm{   } \\sin \\omega_0 } &= 0.15245^{ +0.00056 }_{ -0.00125 } \\mathrm{} \\\\ \\mathrm{ e_\\mathrm{   } \\cos \\omega_0 } &= 0.395319^{ +7.3e-05 }_{ -5.1e-05 } \\mathrm{} \\\\ \\mathrm{ T_{ \\mathrm{ eff }, \\mathrm{ 1 } } } &= 11740.0^{ +270.0 }_{ -430.0 } ~\\mathrm{K} \\\\ \\mathrm{ T_\\mathrm{ eff, 2 } / T_\\mathrm{ eff, 1 } } &= 1.0045^{ +0.0066 }_{ -0.0083 } \\mathrm{} \\\\ \\mathrm{ q_\\mathrm{   } } &= 0.37^{ +0.047 }_{ -0.046 } \\mathrm{} \\\\ \\mathrm{ a_\\mathrm{ 1 } } &= 44.659^{ +0.06 }_{ -0.053 } ~\\mathrm{R_{\\odot}} \\\\ \\mathrm{ v_\\gamma } &= -11.755^{ +0.031 }_{ -0.028 } ~\\mathrm{\\frac{km}{s}} \\\\ \\mathrm{ F_\\mathrm{ 1 } } &= 4.4^{ +0.35 }_{ -0.45 } \\mathrm{} \\\\ \\mathrm{ F_\\mathrm{ 2 } } &= 42.0^{ +16.0 }_{ -12.0 } \\mathrm{} \\\\ \\mathrm{ L_\\mathrm{ pb, lc01 } } &= 10.35^{ +0.03 }_{ -0.027 } ~\\mathrm{W} \\\\ \\mathrm{ \\sigma_\\mathrm{ lnf, lc01 } } &= -8.38^{ +0.035 }_{ -0.034 } \\mathrm{} \\\\ \\mathrm{ \\sigma_\\mathrm{ lnf, rv01 } } &= -5.12^{ +0.16 }_{ -0.18 } \\mathrm{} \\\\ \\mathrm{ \\beta_{ \\mathrm{bol}, \\mathrm{ 1 } } } &= 0.25^{ +0.15 }_{ -0.12 } \\mathrm{} \\\\ \\mathrm{ \\beta_{ \\mathrm{bol}, \\mathrm{ 2 } } } &= 0.51^{ +0.28 }_{ -0.21 } \\mathrm{} \\\\ \\mathrm{ A_{ \\mathrm{bol}, \\mathrm{ 1 } } } &= 0.59^{ +0.12 }_{ -0.17 } \\mathrm{} \\\\ \\mathrm{ A_{ \\mathrm{bol}, \\mathrm{ 2 } } } &= 0.58^{ +0.14 }_{ -0.2 } \\mathrm{} \\\\  \\end{align}"
   ]
  },
  {
   "cell_type": "code",
   "execution_count": null,
   "metadata": {},
   "outputs": [],
   "source": []
  }
 ],
 "metadata": {
  "kernelspec": {
   "display_name": "Python 3",
   "language": "python",
   "name": "python3"
  },
  "language_info": {
   "codemirror_mode": {
    "name": "ipython",
    "version": 3
   },
   "file_extension": ".py",
   "mimetype": "text/x-python",
   "name": "python",
   "nbconvert_exporter": "python",
   "pygments_lexer": "ipython3",
   "version": "3.8.3"
  }
 },
 "nbformat": 4,
 "nbformat_minor": 4
}
