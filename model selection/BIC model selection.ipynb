{
 "cells": [
  {
   "cell_type": "code",
   "execution_count": 18,
   "metadata": {},
   "outputs": [],
   "source": [
    "import numpy as np\n",
    "import batman\n",
    "import matplotlib.pyplot as plt\n",
    "import warnings\n",
    "# from transit_search import amplitude_spectrum"
   ]
  },
  {
   "cell_type": "code",
   "execution_count": 4,
   "metadata": {},
   "outputs": [
    {
     "data": {
      "image/png": "[encoded data removed]",
      "text/plain": [
       "<Figure size 432x288 with 1 Axes>"
      ]
     },
     "metadata": {
      "needs_background": "light"
     },
     "output_type": "display_data"
    }
   ],
   "source": [
    "import glob\n",
    "import numpy as np\n",
    "# file = glob.glob('/Volumes/silo2/dhey3294/AF Transit/data/lc_pdc/*7697795*')[0]\n",
    "file = glob.glob('../data/lightcurves/spline corrected PDC/lc/*')[3]#[100]\n",
    "file = glob.glob('../prewhitening/results/spline corrected/prewhitened/*')[20]\n",
    "\n",
    "time, flux, flux_err = np.loadtxt(file).T\n",
    "flux /= 1e3\n",
    "time = np.ascontiguousarray(time)\n",
    "plt.plot(time, flux)\n",
    "plt.title(file)\n",
    "plt.show()\n",
    "# plt.plot(*amplitude_spectrum(time, flux))\n",
    "# plt.xlim(0,1)"
   ]
  },
  {
   "cell_type": "code",
   "execution_count": 5,
   "metadata": {},
   "outputs": [
    {
     "data": {
      "text/latex": [
       "$0.10276269 \\; \\mathrm{R_{\\odot}}$"
      ],
      "text/plain": [
       "<Quantity 0.10276269 solRad>"
      ]
     },
     "execution_count": 5,
     "metadata": {},
     "output_type": "execute_result"
    }
   ],
   "source": [
    "import astropy.units as u\n",
    "(1 * u.R_jup).to(u.R_sun)"
   ]
  },
  {
   "cell_type": "code",
   "execution_count": 6,
   "metadata": {},
   "outputs": [],
   "source": [
    "def generate_transit_model(time, period, rp):\n",
    "    stellar_rad=1.7\n",
    "    params = batman.TransitParams()\n",
    "    params.t0 = time[0]                 #time of inferior conjunction\n",
    "    params.per = period                      #orbital period\n",
    "    params.rp = rp                   #planet radius (in units of stellar radii)\n",
    "    params.a = 30.                       #semi-major axis (in units of stellar radii)\n",
    "    params.inc = 90#np.degrees(np.arccos(0.5 * 1.7 / params.a))                     #orbital inclination (in degrees)\n",
    "    params.ecc = 0.                    #eccentricity\n",
    "    params.w = 90.                       #longitude of periastron (in degrees)\n",
    "    params.u = [0.1, 0.3]                #limb darkening coefficients [u1, u2]\n",
    "    params.limb_dark = \"quadratic\"   \n",
    "\n",
    "    m = batman.TransitModel(params, time)    #initializes model\n",
    "    batman_flux = m.light_curve(params) - 1\n",
    "    return batman_flux"
   ]
  },
  {
   "cell_type": "markdown",
   "metadata": {},
   "source": [
    "### Let's fit the transit as both a transit and pulsation and see which one has the lower BIC..."
   ]
  },
  {
   "cell_type": "code",
   "execution_count": 75,
   "metadata": {},
   "outputs": [],
   "source": [
    "from astropy.timeseries import LombScargle, BoxLeastSquares\n",
    "from scipy.optimize import curve_fit\n",
    "\n",
    "def amplitude_spectrum(t, y, fmin=None, fmax=None, oversample_factor=10.0):\n",
    "    \n",
    "    tmax = t.max()\n",
    "    tmin = t.min()\n",
    "    df = 1.0 / (tmax - tmin)\n",
    "\n",
    "    if fmin is None:\n",
    "        fmin = df\n",
    "    if fmax is None:\n",
    "        fmax = 0.5 / np.median(np.diff(t))  # *nyq_mult\n",
    "\n",
    "    freq = np.arange(fmin, fmax, df / oversample_factor)\n",
    "    model = LombScargle(t, y)\n",
    "    sc = model.power(freq, method=\"fast\", normalization=\"psd\")\n",
    "\n",
    "    fct = np.sqrt(4.0 / len(t))\n",
    "    amp = np.sqrt(sc) * fct\n",
    "\n",
    "    return freq, amp\n",
    "\n",
    "def grad_model(time, freq, amp, phi):\n",
    "    factor = 2 * np.pi * freq * time + phi\n",
    "    return np.array([\n",
    "        -2*np.pi*amp*time*np.sin(factor),\n",
    "        np.cos(factor),\n",
    "        -1 * amp * np.sin(factor)\n",
    "    ]).T\n",
    "\n",
    "def dft_phase(x, y, f):\n",
    "    expo = 2.0 * np.pi * f * x\n",
    "    ft_real = np.sum(y * np.cos(expo))\n",
    "    ft_imag = np.sum(y * np.sin(expo))\n",
    "    return np.arctan2(ft_imag, ft_real)\n",
    "\n",
    "def model(time, freq, amp, phi):\n",
    "    return amp * np.cos((2 * np.pi * freq * time) + phi)# + 1\n",
    "\n",
    "def prewhiten(time, flux, theta, transit_check_cutoff=1.):\n",
    "    popt, _ = curve_fit(model, time, flux, p0=theta, jac=grad_model)\n",
    "    \n",
    "    if theta[0] < transit_check_cutoff:\n",
    "        # Now we fit a BLS \n",
    "        bls = BoxLeastSquares(time, flux)\n",
    "        bls_power = bls.power([1/theta[0]], 0.2)\n",
    "        bls_transit = bls.model(time, bls_power.period[0], bls_power.duration[0], bls_power.transit_time[0])\n",
    "        \n",
    "        # Now calculate the BIC of both models:\n",
    "        nll_osc = -0.5 * np.sum((flux - model(time, *popt)) ** 2)\n",
    "        nll_trans = -0.5 * np.sum((flux - bls_transit) ** 2)\n",
    "        BIC = [-2 * (nll_osc) + np.log(len(time)) * 2, -2 * (nll_trans) + np.log(len(time)) * 2]\n",
    "        print(BIC)\n",
    "        if np.argmin(BIC) > 0:\n",
    "            print(\"This is a transit at {}!\".format(theta[0]))\n",
    "            \n",
    "    return flux - model(time, *popt), popt, theta\n",
    "\n",
    "def initialize_theta(time, flux, fmin, fmax):\n",
    "    f, a = amplitude_spectrum(time, flux, fmin=fmin, fmax=fmax, oversample_factor=5.)\n",
    "    noise = estimate_background(f,a, log_width=0.05)\n",
    "    snr = a/noise\n",
    "    # Get freq of max SNR\n",
    "    f0 = find_highest_peak(f, snr)\n",
    "    # Calculate a0 at f0\n",
    "    a0 = np.sqrt(LombScargle(time, flux).power(f0, method=\"fast\", normalization=\"psd\")) * np.sqrt(4.0 / len(time))\n",
    "    # Calculate phi0, since ASTC need to negative it\n",
    "    phi0 = -1 * dft_phase(time, flux, f0)\n",
    "    \n",
    "#     plt.plot(f, snr)\n",
    "#     plt.show()\n",
    "    return [f0, a0, phi0], snr[np.nanargmax(snr)], f, a\n",
    "\n",
    "def find_highest_peak(f, a):\n",
    "    \"\"\"\n",
    "    Find the frequency of the highest peak in the periodogram, using a\n",
    "    3-point parabolic interpolation.\n",
    "    \"\"\"\n",
    "    nu, p = f, a\n",
    "    nu, p = np.atleast_1d(nu, p)\n",
    "\n",
    "    # Get index of highest peak.\n",
    "    imax = np.argmax(p)\n",
    "\n",
    "    # Determine the frequency value by parabolic interpolation\n",
    "    if imax == 0 or imax == p.size - 1:\n",
    "        nu_peak = p[imax]\n",
    "    else:\n",
    "        # Get values around the maximum.\n",
    "        frq1 = nu[imax-1]\n",
    "        frq2 = nu[imax]\n",
    "        frq3 = nu[imax+1]\n",
    "        y1 = p[imax-1]\n",
    "        y2 = p[imax]\n",
    "        y3 = p[imax+1]\n",
    "\n",
    "        # Parabolic interpolation formula.\n",
    "        t1 = (y2-y3) * (frq2-frq1)**2 - (y2-y1) * (frq2-frq3)**2\n",
    "        t2 = (y2-y3) * (frq2-frq1) - (y2-y1) * (frq2-frq3)\n",
    "        nu_peak = frq2 - 0.5 * t1/t2\n",
    "    if nu_peak > 1:\n",
    "        return 1.\n",
    "    return nu_peak\n",
    "\n",
    "def estimate_background(x, y, log_width=0.01):\n",
    "    count = np.zeros(len(x), dtype=int)\n",
    "    bkg = np.zeros_like(x)\n",
    "    x0 = np.log10(x[0])\n",
    "    while x0 < np.log10(x[-1]):\n",
    "        m = np.abs(np.log10(x) - x0) < log_width\n",
    "        bkg[m] += np.median(y[m])\n",
    "        count[m] += 1\n",
    "        x0 += 0.5 * log_width\n",
    "    return bkg / count"
   ]
  },
  {
   "cell_type": "code",
   "execution_count": 51,
   "metadata": {},
   "outputs": [],
   "source": [
    "import tqdm\n",
    "files = glob.glob('../prewhitening/results/spline corrected/prewhitened/*')"
   ]
  },
  {
   "cell_type": "markdown",
   "metadata": {},
   "source": [
    "## Let's prewhiten the whole set now ..."
   ]
  },
  {
   "cell_type": "code",
   "execution_count": 91,
   "metadata": {},
   "outputs": [],
   "source": [
    "def low_freq_prewhiten(file, fmin=1e-3, fmax=1., snr_cutoff=4, maxiter=20):\n",
    "    \n",
    "    x, y, yerr = np.loadtxt(file).T\n",
    "    x = np.ascontiguousarray(x)\n",
    "    y /= 1e3\n",
    "    yerr /= 1e3\n",
    "    \n",
    "    j = 0\n",
    "    theta, snr, f,a = initialize_theta(x, y, fmin, fmax)\n",
    "    while((snr > snr_cutoff) & (j < maxiter)):\n",
    "        \n",
    "        popt, _ = curve_fit(model, x, y, p0=theta, jac=grad_model)\n",
    "        \n",
    "        # Now we fit a BLS t\n",
    "        bls = BoxLeastSquares(x, y)\n",
    "        bls_power = bls.power([1/theta[0]], 0.2)\n",
    "        bls_transit = bls.model(x, bls_power.period[0], bls_power.duration[0], bls_power.transit_time[0])\n",
    "\n",
    "        # Now calculate the BIC of both models:\n",
    "        BIC = [-2 * (-0.5 * np.sum((y - model(x, *popt)) ** 2)) + np.log(len(x)) * 2, \n",
    "               -2 * (-0.5 * np.sum((y - bls_transit) ** 2)) + np.log(len(x)) * 2]\n",
    "\n",
    "        if np.argmin(BIC) == 0:\n",
    "            # We think it's an oscillation -- prewhiten and continue\n",
    "            y -= model(x, *popt)\n",
    "            j += 1\n",
    "            theta, snr, f,a = initialize_theta(x, y, fmin, fmax)\n",
    "            continue\n",
    "        else:\n",
    "            # We think it's a transit - break the prewhitening and exit\n",
    "#             warnings.warn(\"Transit?\")\n",
    "            return x, y, yerr\n",
    "    # Either finished prewhitening or code think it found a transit..\n",
    "    return x, y, yerr\n",
    "        "
   ]
  },
  {
   "cell_type": "code",
   "execution_count": 92,
   "metadata": {},
   "outputs": [
    {
     "name": "stderr",
     "output_type": "stream",
     "text": [
      "  1%|          | 24/2158 [01:02<2:00:00,  3.37s/it]/home/daniel/anaconda3/lib/python3.8/site-packages/numpy/core/fromnumeric.py:3334: RuntimeWarning: Mean of empty slice.\n",
      "  return _methods._mean(a, axis=axis, dtype=dtype,\n",
      "/home/daniel/anaconda3/lib/python3.8/site-packages/numpy/core/_methods.py:161: RuntimeWarning: invalid value encountered in double_scalars\n",
      "  ret = ret.dtype.type(ret / rcount)\n",
      "100%|██████████| 2158/2158 [1:37:32<00:00,  2.71s/it]  \n"
     ]
    }
   ],
   "source": [
    "import tqdm\n",
    "\n",
    "for file in tqdm.tqdm(files[:]):\n",
    "    x, y, yerr = low_freq_prewhiten(file)\n",
    "    kicid = file.split('/')[-1].split('.')[0]\n",
    "    np.savetxt(f'../prewhitening/results/BIC/{kicid}.txt', list(zip(x, y*1e3, yerr*1e3)))"
   ]
  },
  {
   "cell_type": "code",
   "execution_count": 87,
   "metadata": {},
   "outputs": [
    {
     "data": {
      "text/plain": [
       "[<matplotlib.lines.Line2D at 0x7fa51c6d2370>]"
      ]
     },
     "execution_count": 87,
     "metadata": {},
     "output_type": "execute_result"
    },
    {
     "data": {
      "image/png": "[encoded data removed]",
      "text/plain": [
       "<Figure size 432x288 with 1 Axes>"
      ]
     },
     "metadata": {
      "needs_background": "light"
     },
     "output_type": "display_data"
    }
   ],
   "source": [
    "x, y, yerr = low_freq_prewhiten(files[150])\n",
    "plt.plot(*amplitude_spectrum(x,y))"
   ]
  },
  {
   "cell_type": "code",
   "execution_count": 236,
   "metadata": {},
   "outputs": [
    {
     "name": "stderr",
     "output_type": "stream",
     "text": [
      "100%|██████████| 1000/1000 [25:15<00:00,  1.52s/it]\n"
     ]
    }
   ],
   "source": [
    "np.random.seed(23)\n",
    "snr_cutoff=4\n",
    "maxiter=20\n",
    "fmin, fmax = 1e-3, 0.99\n",
    "n_stars = 1000\n",
    "tp, tn, fp, fn = 0, 0, 0, 0\n",
    "\n",
    "ytrue, ypred = [], []\n",
    "\n",
    "for i, file in tqdm.tqdm(enumerate(np.random.choice(files, size=(n_stars))), total=n_stars):\n",
    "    x, y, yerr = np.loadtxt(file).T\n",
    "    x = np.ascontiguousarray(x)\n",
    "    y /= 1e3\n",
    "    \n",
    "    # Add in a transit...\n",
    "    porb = np.random.uniform(low=2, high=50)\n",
    "    aliases = [(1/porb) * i for i in range(int(np.ceil(porb)))]\n",
    "#     transit_injected = False\n",
    "#     if i % 2 == 0:\n",
    "    transit_injected = True\n",
    "    rp = np.random.uniform(low=0.01, high=0.1)\n",
    "    transit_model = generate_transit_model(x, porb, rp)\n",
    "    y += transit_model\n",
    "    \n",
    "    theta, snr, f,a = initialize_theta(x, y, fmin, fmax)\n",
    "    j = 0\n",
    "    while((snr > snr_cutoff) & (j < maxiter)):\n",
    "        \n",
    "#         plt.plot(f,a)\n",
    "#         plt.axvline(theta[0], c='r', linestyle='dashed')\n",
    "#         plt.show()\n",
    "        \n",
    "        popt, _ = curve_fit(model, x, y, p0=theta, jac=grad_model)\n",
    "        if theta[0] < 1:\n",
    "            # Now we fit a BLS \n",
    "            bls = BoxLeastSquares(x, y)\n",
    "            bls_power = bls.power([1/theta[0]], 0.2)\n",
    "            bls_transit = bls.model(x, bls_power.period[0], bls_power.duration[0], bls_power.transit_time[0])\n",
    "\n",
    "            # Now calculate the BIC of both models:\n",
    "            BIC = [-2 * (-0.5 * np.sum((y - model(x, *popt)) ** 2)) + np.log(len(x)) * 2, \n",
    "                   -2 * (-0.5 * np.sum((y - bls_transit) ** 2)) + np.log(len(x)) * 2]\n",
    "            \n",
    "            if np.argmin(BIC) == 1: # We think it's a transit\n",
    "                # and it's actually an injected transit\n",
    "                if np.any(np.isclose(theta[0], aliases, rtol=1e-3)) & (transit_injected):\n",
    "#                     print(\"tp\")\n",
    "                    tp += 1\n",
    "    \n",
    "                    ytrue.append(1)\n",
    "                    ypred.append(1)\n",
    "                    break\n",
    "                # and it's not\n",
    "                else:\n",
    "                    fp += 1\n",
    "                    ytrue.append(0)\n",
    "                    ypred.append(1)\n",
    "                    break\n",
    "#                 break\n",
    "            elif np.argmin(BIC) == 0:\n",
    "                # we think it's an oscillation:\n",
    "                # but it's actually an injected transit..\n",
    "                if np.any(np.isclose(theta[0], aliases, rtol=1e-3) & transit_injected):\n",
    "                    fn += 1                    \n",
    "#                     print(\"fn\")\n",
    "                    ytrue.append(1)\n",
    "                    ypred.append(0)\n",
    "                    break\n",
    "                # and it is an oscillation\n",
    "                else:\n",
    "                    ytrue.append(0)\n",
    "                    ypred.append(0)\n",
    "                    tn += 1\n",
    "            else:\n",
    "                print(\"how did we get here .. ?\")\n",
    "\n",
    "        y -= model(x, *popt)\n",
    "        j += 1\n",
    "        theta, snr, f,a = initialize_theta(x, y, fmin, fmax)\n",
    "        \n",
    "np.savetxt('model selection/results.txt', list(zip(ytrue, ypred)))"
   ]
  },
  {
   "cell_type": "code",
   "execution_count": 13,
   "metadata": {},
   "outputs": [],
   "source": [
    "ytrue, ypred = np.loadtxt('results.txt', unpack=True)"
   ]
  },
  {
   "cell_type": "code",
   "execution_count": 14,
   "metadata": {},
   "outputs": [],
   "source": [
    "plt.style.use('science')"
   ]
  },
  {
   "cell_type": "code",
   "execution_count": 29,
   "metadata": {},
   "outputs": [
    {
     "data": {
      "image/png": "[encoded data removed]",
      "text/plain": [
       "<Figure size 242.267x242.267 with 2 Axes>"
      ]
     },
     "metadata": {
      "image/png": {
       "height": 194,
       "width": 237
      },
      "needs_background": "light"
     },
     "output_type": "display_data"
    }
   ],
   "source": [
    "from sklearn.metrics import confusion_matrix, ConfusionMatrixDisplay\n",
    "\n",
    "fig, ax = plt.subplots(figsize=mnras_size(242.26653, square=True))\n",
    "\n",
    "cm = confusion_matrix(ytrue, ypred, \n",
    "#                       normalize='all'\n",
    "                      normalize='pred'\n",
    "                     )\n",
    "fig = ConfusionMatrixDisplay(confusion_matrix=cm,\n",
    "                            display_labels=['Pulsation', 'Transit']\n",
    "                            )\n",
    "\n",
    "fig.plot(cmap='Blues', ax=ax)\n",
    "ax.set_xlabel('Prediction')\n",
    "ax.set_ylabel('Truth')\n",
    "\n",
    "plt.savefig(overleaf_path + 'BIC.pdf')"
   ]
  },
  {
   "cell_type": "code",
   "execution_count": 17,
   "metadata": {},
   "outputs": [],
   "source": [
    "def mnras_size(fig_width_pt, square=False):\n",
    "    inches_per_pt = 1.0 / 72.00  # Convert pt to inches\n",
    "    golden_mean = (np.sqrt(5) - 1.0) / 2.0  # Most aesthetic ratio\n",
    "    fig_width = fig_width_pt * inches_per_pt  # Figure width in inches\n",
    "    if square:\n",
    "        fig_height = fig_width\n",
    "    else:\n",
    "        fig_height = fig_width * golden_mean\n",
    "    return [fig_width, fig_height]"
   ]
  },
  {
   "cell_type": "code",
   "execution_count": 25,
   "metadata": {},
   "outputs": [],
   "source": [
    "overleaf_path = (\n",
    "    \"/Users/daniel/Dropbox (Sydney Uni)/Apps/Overleaf/AF exoplanet/figures/\"\n",
    ")"
   ]
  },
  {
   "cell_type": "code",
   "execution_count": null,
   "metadata": {},
   "outputs": [],
   "source": []
  }
 ],
 "metadata": {
  "kernelspec": {
   "display_name": "Python 3",
   "language": "python",
   "name": "python3"
  },
  "language_info": {
   "codemirror_mode": {
    "name": "ipython",
    "version": 3
   },
   "file_extension": ".py",
   "mimetype": "text/x-python",
   "name": "python",
   "nbconvert_exporter": "python",
   "pygments_lexer": "ipython3",
   "version": "3.8.3"
  }
 },
 "nbformat": 4,
 "nbformat_minor": 5
}
