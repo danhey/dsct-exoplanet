{
 "cells": [
  {
   "cell_type": "code",
   "execution_count": 2,
   "metadata": {},
   "outputs": [],
   "source": [
    "import numpy as np\n",
    "import matplotlib.pyplot as plt\n",
    "import pandas as pd\n",
    "\n",
    "from scipy.stats import beta, binom\n",
    "from numpy.random import binomial"
   ]
  },
  {
   "cell_type": "code",
   "execution_count": 89,
   "metadata": {},
   "outputs": [],
   "source": [
    "tess_db = pd.read_csv('../../TESS/new_lc/db.csv')"
   ]
  },
  {
   "cell_type": "code",
   "execution_count": 93,
   "metadata": {},
   "outputs": [
    {
     "data": {
      "text/plain": [
       "Unnamed: 0      8107\n",
       "ID            299952\n",
       "version            1\n",
       "HIP            44078\n",
       "TYC           209269\n",
       "               ...  \n",
       "e_RA_orig     297383\n",
       "e_Dec_orig    297392\n",
       "raddflag           3\n",
       "wdflag             3\n",
       "objID         299952\n",
       "Length: 126, dtype: int64"
      ]
     },
     "execution_count": 93,
     "metadata": {},
     "output_type": "execute_result"
    }
   ],
   "source": [
    "tess_db.nunique()"
   ]
  },
  {
   "cell_type": "code",
   "execution_count": 95,
   "metadata": {},
   "outputs": [
    {
     "data": {
      "text/html": [
       "<div>\n",
       "<style scoped>\n",
       "    .dataframe tbody tr th:only-of-type {\n",
       "        vertical-align: middle;\n",
       "    }\n",
       "\n",
       "    .dataframe tbody tr th {\n",
       "        vertical-align: top;\n",
       "    }\n",
       "\n",
       "    .dataframe thead th {\n",
       "        text-align: right;\n",
       "    }\n",
       "</style>\n",
       "<table border=\"1\" class=\"dataframe\">\n",
       "  <thead>\n",
       "    <tr style=\"text-align: right;\">\n",
       "      <th></th>\n",
       "      <th>Unnamed: 0</th>\n",
       "      <th>ID</th>\n",
       "      <th>version</th>\n",
       "      <th>HIP</th>\n",
       "      <th>TYC</th>\n",
       "      <th>UCAC</th>\n",
       "      <th>TWOMASS</th>\n",
       "      <th>SDSS</th>\n",
       "      <th>ALLWISE</th>\n",
       "      <th>GAIA</th>\n",
       "      <th>...</th>\n",
       "      <th>splists</th>\n",
       "      <th>e_RA</th>\n",
       "      <th>e_Dec</th>\n",
       "      <th>RA_orig</th>\n",
       "      <th>Dec_orig</th>\n",
       "      <th>e_RA_orig</th>\n",
       "      <th>e_Dec_orig</th>\n",
       "      <th>raddflag</th>\n",
       "      <th>wdflag</th>\n",
       "      <th>objID</th>\n",
       "    </tr>\n",
       "  </thead>\n",
       "  <tbody>\n",
       "    <tr>\n",
       "      <th>3</th>\n",
       "      <td>3</td>\n",
       "      <td>10069883</td>\n",
       "      <td>20190415</td>\n",
       "      <td>NaN</td>\n",
       "      <td>0164-00953-1</td>\n",
       "      <td>451-034467</td>\n",
       "      <td>07210955+0001137</td>\n",
       "      <td>NaN</td>\n",
       "      <td>J072109.55+000113.7</td>\n",
       "      <td>3.110663e+18</td>\n",
       "      <td>...</td>\n",
       "      <td>NaN</td>\n",
       "      <td>1.510756</td>\n",
       "      <td>1.345070</td>\n",
       "      <td>110.289801</td>\n",
       "      <td>0.020493</td>\n",
       "      <td>0.052840</td>\n",
       "      <td>0.050174</td>\n",
       "      <td>1.0</td>\n",
       "      <td>0.0</td>\n",
       "      <td>124438797</td>\n",
       "    </tr>\n",
       "    <tr>\n",
       "      <th>7</th>\n",
       "      <td>7</td>\n",
       "      <td>9881558</td>\n",
       "      <td>20190415</td>\n",
       "      <td>NaN</td>\n",
       "      <td>2957-00817-1</td>\n",
       "      <td>641-041250</td>\n",
       "      <td>07214978+3810067</td>\n",
       "      <td>NaN</td>\n",
       "      <td>J072149.77+381006.8</td>\n",
       "      <td>8.998797e+17</td>\n",
       "      <td>...</td>\n",
       "      <td>NaN</td>\n",
       "      <td>1.591198</td>\n",
       "      <td>1.266344</td>\n",
       "      <td>110.457396</td>\n",
       "      <td>38.168562</td>\n",
       "      <td>0.057599</td>\n",
       "      <td>0.054961</td>\n",
       "      <td>1.0</td>\n",
       "      <td>0.0</td>\n",
       "      <td>124437612</td>\n",
       "    </tr>\n",
       "    <tr>\n",
       "      <th>19</th>\n",
       "      <td>19</td>\n",
       "      <td>2776520</td>\n",
       "      <td>20190415</td>\n",
       "      <td>NaN</td>\n",
       "      <td>2398-00017-1</td>\n",
       "      <td>623-023100</td>\n",
       "      <td>05222213+3431274</td>\n",
       "      <td>NaN</td>\n",
       "      <td>J052222.13+343127.5</td>\n",
       "      <td>1.828049e+17</td>\n",
       "      <td>...</td>\n",
       "      <td>NaN</td>\n",
       "      <td>1.519380</td>\n",
       "      <td>1.026822</td>\n",
       "      <td>80.592237</td>\n",
       "      <td>34.524307</td>\n",
       "      <td>0.056643</td>\n",
       "      <td>0.042021</td>\n",
       "      <td>1.0</td>\n",
       "      <td>0.0</td>\n",
       "      <td>81110974</td>\n",
       "    </tr>\n",
       "    <tr>\n",
       "      <th>26</th>\n",
       "      <td>26</td>\n",
       "      <td>2505046</td>\n",
       "      <td>20190415</td>\n",
       "      <td>24879.0</td>\n",
       "      <td>2398-01609-1</td>\n",
       "      <td>620-022031</td>\n",
       "      <td>05200092+3357290</td>\n",
       "      <td>NaN</td>\n",
       "      <td>J052000.91+335729.0</td>\n",
       "      <td>1.812598e+17</td>\n",
       "      <td>...</td>\n",
       "      <td>NaN</td>\n",
       "      <td>4.921253</td>\n",
       "      <td>3.403338</td>\n",
       "      <td>80.003837</td>\n",
       "      <td>33.958039</td>\n",
       "      <td>0.156631</td>\n",
       "      <td>0.133586</td>\n",
       "      <td>0.0</td>\n",
       "      <td>0.0</td>\n",
       "      <td>81013947</td>\n",
       "    </tr>\n",
       "    <tr>\n",
       "      <th>33</th>\n",
       "      <td>33</td>\n",
       "      <td>2849758</td>\n",
       "      <td>20190415</td>\n",
       "      <td>NaN</td>\n",
       "      <td>2390-01455-1</td>\n",
       "      <td>602-020230</td>\n",
       "      <td>05230844+3013279</td>\n",
       "      <td>NaN</td>\n",
       "      <td>J052308.44+301327.8</td>\n",
       "      <td>3.446632e+18</td>\n",
       "      <td>...</td>\n",
       "      <td>NaN</td>\n",
       "      <td>1.951987</td>\n",
       "      <td>1.218169</td>\n",
       "      <td>80.785171</td>\n",
       "      <td>30.224402</td>\n",
       "      <td>0.058416</td>\n",
       "      <td>0.044843</td>\n",
       "      <td>1.0</td>\n",
       "      <td>0.0</td>\n",
       "      <td>80546976</td>\n",
       "    </tr>\n",
       "    <tr>\n",
       "      <th>...</th>\n",
       "      <td>...</td>\n",
       "      <td>...</td>\n",
       "      <td>...</td>\n",
       "      <td>...</td>\n",
       "      <td>...</td>\n",
       "      <td>...</td>\n",
       "      <td>...</td>\n",
       "      <td>...</td>\n",
       "      <td>...</td>\n",
       "      <td>...</td>\n",
       "      <td>...</td>\n",
       "      <td>...</td>\n",
       "      <td>...</td>\n",
       "      <td>...</td>\n",
       "      <td>...</td>\n",
       "      <td>...</td>\n",
       "      <td>...</td>\n",
       "      <td>...</td>\n",
       "      <td>...</td>\n",
       "      <td>...</td>\n",
       "      <td>...</td>\n",
       "    </tr>\n",
       "    <tr>\n",
       "      <th>299732</th>\n",
       "      <td>7886</td>\n",
       "      <td>469934347</td>\n",
       "      <td>20190415</td>\n",
       "      <td>115554.0</td>\n",
       "      <td>8461-00979-1</td>\n",
       "      <td>194-196427</td>\n",
       "      <td>23242544-5116465</td>\n",
       "      <td>NaN</td>\n",
       "      <td>J232425.40-511646.6</td>\n",
       "      <td>6.501839e+18</td>\n",
       "      <td>...</td>\n",
       "      <td>NaN</td>\n",
       "      <td>0.882679</td>\n",
       "      <td>0.825540</td>\n",
       "      <td>351.105791</td>\n",
       "      <td>-51.279651</td>\n",
       "      <td>0.026175</td>\n",
       "      <td>0.031851</td>\n",
       "      <td>1.0</td>\n",
       "      <td>0.0</td>\n",
       "      <td>1724392448</td>\n",
       "    </tr>\n",
       "    <tr>\n",
       "      <th>299779</th>\n",
       "      <td>7933</td>\n",
       "      <td>2055570714</td>\n",
       "      <td>20190415</td>\n",
       "      <td>NaN</td>\n",
       "      <td>NaN</td>\n",
       "      <td>NaN</td>\n",
       "      <td>NaN</td>\n",
       "      <td>NaN</td>\n",
       "      <td>NaN</td>\n",
       "      <td>6.525488e+18</td>\n",
       "      <td>...</td>\n",
       "      <td>NaN</td>\n",
       "      <td>0.949354</td>\n",
       "      <td>1.372986</td>\n",
       "      <td>354.866574</td>\n",
       "      <td>-46.637662</td>\n",
       "      <td>0.026881</td>\n",
       "      <td>0.039432</td>\n",
       "      <td>1.0</td>\n",
       "      <td>0.0</td>\n",
       "      <td>1725199878</td>\n",
       "    </tr>\n",
       "    <tr>\n",
       "      <th>299797</th>\n",
       "      <td>7951</td>\n",
       "      <td>2054835766</td>\n",
       "      <td>20190415</td>\n",
       "      <td>NaN</td>\n",
       "      <td>NaN</td>\n",
       "      <td>NaN</td>\n",
       "      <td>NaN</td>\n",
       "      <td>NaN</td>\n",
       "      <td>NaN</td>\n",
       "      <td>6.386985e+18</td>\n",
       "      <td>...</td>\n",
       "      <td>NaN</td>\n",
       "      <td>1.611288</td>\n",
       "      <td>1.350982</td>\n",
       "      <td>356.422799</td>\n",
       "      <td>-69.683130</td>\n",
       "      <td>0.042324</td>\n",
       "      <td>0.048441</td>\n",
       "      <td>1.0</td>\n",
       "      <td>0.0</td>\n",
       "      <td>1725619354</td>\n",
       "    </tr>\n",
       "    <tr>\n",
       "      <th>299831</th>\n",
       "      <td>7985</td>\n",
       "      <td>2027133755</td>\n",
       "      <td>20190415</td>\n",
       "      <td>NaN</td>\n",
       "      <td>NaN</td>\n",
       "      <td>NaN</td>\n",
       "      <td>NaN</td>\n",
       "      <td>NaN</td>\n",
       "      <td>NaN</td>\n",
       "      <td>6.518815e+18</td>\n",
       "      <td>...</td>\n",
       "      <td>NaN</td>\n",
       "      <td>1.922619</td>\n",
       "      <td>2.666145</td>\n",
       "      <td>335.784723</td>\n",
       "      <td>-45.928739</td>\n",
       "      <td>0.066553</td>\n",
       "      <td>0.103774</td>\n",
       "      <td>1.0</td>\n",
       "      <td>0.0</td>\n",
       "      <td>1720114647</td>\n",
       "    </tr>\n",
       "    <tr>\n",
       "      <th>299935</th>\n",
       "      <td>8089</td>\n",
       "      <td>469933721</td>\n",
       "      <td>20190415</td>\n",
       "      <td>115510.0</td>\n",
       "      <td>8831-01481-1</td>\n",
       "      <td>181-221198</td>\n",
       "      <td>23235452-5348314</td>\n",
       "      <td>NaN</td>\n",
       "      <td>J232354.61-534831.8</td>\n",
       "      <td>6.499534e+18</td>\n",
       "      <td>...</td>\n",
       "      <td>NaN</td>\n",
       "      <td>1.427421</td>\n",
       "      <td>1.381826</td>\n",
       "      <td>350.977711</td>\n",
       "      <td>-53.808890</td>\n",
       "      <td>0.030106</td>\n",
       "      <td>0.046723</td>\n",
       "      <td>1.0</td>\n",
       "      <td>0.0</td>\n",
       "      <td>1724155105</td>\n",
       "    </tr>\n",
       "  </tbody>\n",
       "</table>\n",
       "<p>45232 rows × 126 columns</p>\n",
       "</div>"
      ],
      "text/plain": [
       "        Unnamed: 0          ID   version       HIP           TYC        UCAC  \\\n",
       "3                3    10069883  20190415       NaN  0164-00953-1  451-034467   \n",
       "7                7     9881558  20190415       NaN  2957-00817-1  641-041250   \n",
       "19              19     2776520  20190415       NaN  2398-00017-1  623-023100   \n",
       "26              26     2505046  20190415   24879.0  2398-01609-1  620-022031   \n",
       "33              33     2849758  20190415       NaN  2390-01455-1  602-020230   \n",
       "...            ...         ...       ...       ...           ...         ...   \n",
       "299732        7886   469934347  20190415  115554.0  8461-00979-1  194-196427   \n",
       "299779        7933  2055570714  20190415       NaN           NaN         NaN   \n",
       "299797        7951  2054835766  20190415       NaN           NaN         NaN   \n",
       "299831        7985  2027133755  20190415       NaN           NaN         NaN   \n",
       "299935        8089   469933721  20190415  115510.0  8831-01481-1  181-221198   \n",
       "\n",
       "                 TWOMASS  SDSS              ALLWISE          GAIA  ...  \\\n",
       "3       07210955+0001137   NaN  J072109.55+000113.7  3.110663e+18  ...   \n",
       "7       07214978+3810067   NaN  J072149.77+381006.8  8.998797e+17  ...   \n",
       "19      05222213+3431274   NaN  J052222.13+343127.5  1.828049e+17  ...   \n",
       "26      05200092+3357290   NaN  J052000.91+335729.0  1.812598e+17  ...   \n",
       "33      05230844+3013279   NaN  J052308.44+301327.8  3.446632e+18  ...   \n",
       "...                  ...   ...                  ...           ...  ...   \n",
       "299732  23242544-5116465   NaN  J232425.40-511646.6  6.501839e+18  ...   \n",
       "299779               NaN   NaN                  NaN  6.525488e+18  ...   \n",
       "299797               NaN   NaN                  NaN  6.386985e+18  ...   \n",
       "299831               NaN   NaN                  NaN  6.518815e+18  ...   \n",
       "299935  23235452-5348314   NaN  J232354.61-534831.8  6.499534e+18  ...   \n",
       "\n",
       "        splists      e_RA     e_Dec     RA_orig   Dec_orig  e_RA_orig  \\\n",
       "3           NaN  1.510756  1.345070  110.289801   0.020493   0.052840   \n",
       "7           NaN  1.591198  1.266344  110.457396  38.168562   0.057599   \n",
       "19          NaN  1.519380  1.026822   80.592237  34.524307   0.056643   \n",
       "26          NaN  4.921253  3.403338   80.003837  33.958039   0.156631   \n",
       "33          NaN  1.951987  1.218169   80.785171  30.224402   0.058416   \n",
       "...         ...       ...       ...         ...        ...        ...   \n",
       "299732      NaN  0.882679  0.825540  351.105791 -51.279651   0.026175   \n",
       "299779      NaN  0.949354  1.372986  354.866574 -46.637662   0.026881   \n",
       "299797      NaN  1.611288  1.350982  356.422799 -69.683130   0.042324   \n",
       "299831      NaN  1.922619  2.666145  335.784723 -45.928739   0.066553   \n",
       "299935      NaN  1.427421  1.381826  350.977711 -53.808890   0.030106   \n",
       "\n",
       "       e_Dec_orig  raddflag  wdflag       objID  \n",
       "3        0.050174       1.0     0.0   124438797  \n",
       "7        0.054961       1.0     0.0   124437612  \n",
       "19       0.042021       1.0     0.0    81110974  \n",
       "26       0.133586       0.0     0.0    81013947  \n",
       "33       0.044843       1.0     0.0    80546976  \n",
       "...           ...       ...     ...         ...  \n",
       "299732   0.031851       1.0     0.0  1724392448  \n",
       "299779   0.039432       1.0     0.0  1725199878  \n",
       "299797   0.048441       1.0     0.0  1725619354  \n",
       "299831   0.103774       1.0     0.0  1720114647  \n",
       "299935   0.046723       1.0     0.0  1724155105  \n",
       "\n",
       "[45232 rows x 126 columns]"
      ]
     },
     "execution_count": 95,
     "metadata": {},
     "output_type": "execute_result"
    }
   ],
   "source": [
    "tess_db[(tess_db['Teff'] > 6500) & (tess_db['Teff'] < 10000)]"
   ]
  },
  {
   "cell_type": "code",
   "execution_count": 98,
   "metadata": {},
   "outputs": [
    {
     "data": {
      "text/plain": [
       "8774.299793984343"
      ]
     },
     "execution_count": 98,
     "metadata": {},
     "output_type": "execute_result"
    }
   ],
   "source": [
    "(len(af) / len(df)) * 45232"
   ]
  },
  {
   "cell_type": "code",
   "execution_count": 100,
   "metadata": {},
   "outputs": [
    {
     "data": {
      "text/plain": [
       "11.4062"
      ]
     },
     "execution_count": 100,
     "metadata": {},
     "output_type": "execute_result"
    }
   ],
   "source": [
    "8774 * 0.0013"
   ]
  },
  {
   "cell_type": "code",
   "execution_count": 71,
   "metadata": {},
   "outputs": [],
   "source": [
    "af = pd.read_csv('../data/dsct.csv')\n",
    "df = pd.read_csv('../data/catalogues/rev_AF_stars.csv')\n",
    "df = df[df['dSct'] == 0]"
   ]
  },
  {
   "cell_type": "code",
   "execution_count": 72,
   "metadata": {},
   "outputs": [
    {
     "data": {
      "text/plain": [
       "0.19398434281005356"
      ]
     },
     "execution_count": 72,
     "metadata": {},
     "output_type": "execute_result"
    }
   ],
   "source": [
    "len(af) / len(df)"
   ]
  },
  {
   "cell_type": "code",
   "execution_count": null,
   "metadata": {},
   "outputs": [],
   "source": [
    "0"
   ]
  },
  {
   "cell_type": "code",
   "execution_count": 73,
   "metadata": {},
   "outputs": [
    {
     "data": {
      "text/html": [
       "<div>\n",
       "<style scoped>\n",
       "    .dataframe tbody tr th:only-of-type {\n",
       "        vertical-align: middle;\n",
       "    }\n",
       "\n",
       "    .dataframe tbody tr th {\n",
       "        vertical-align: top;\n",
       "    }\n",
       "\n",
       "    .dataframe thead th {\n",
       "        text-align: right;\n",
       "    }\n",
       "</style>\n",
       "<table border=\"1\" class=\"dataframe\">\n",
       "  <thead>\n",
       "    <tr style=\"text-align: right;\">\n",
       "      <th></th>\n",
       "      <th>kic</th>\n",
       "      <th>source_id</th>\n",
       "      <th>sdss_g</th>\n",
       "      <th>parallax</th>\n",
       "      <th>parallax_error</th>\n",
       "      <th>Ag_Green_2017</th>\n",
       "      <th>Ag_Green_2017_sigma</th>\n",
       "      <th>Teffi</th>\n",
       "      <th>e_Teffi</th>\n",
       "      <th>FeHi</th>\n",
       "      <th>...</th>\n",
       "      <th>new_logg_std</th>\n",
       "      <th>new_radius</th>\n",
       "      <th>new_r_std</th>\n",
       "      <th>new_mass</th>\n",
       "      <th>new_mass_std</th>\n",
       "      <th>mass_qflag</th>\n",
       "      <th>loglbol_g_median</th>\n",
       "      <th>loglbol_sigp</th>\n",
       "      <th>loglbol_sigm</th>\n",
       "      <th>dSct</th>\n",
       "    </tr>\n",
       "  </thead>\n",
       "  <tbody>\n",
       "    <tr>\n",
       "      <th>0</th>\n",
       "      <td>892667</td>\n",
       "      <td>2050232329866306176</td>\n",
       "      <td>13.405</td>\n",
       "      <td>0.821</td>\n",
       "      <td>0.015</td>\n",
       "      <td>0.43</td>\n",
       "      <td>0.03</td>\n",
       "      <td>6604</td>\n",
       "      <td>209</td>\n",
       "      <td>-0.26</td>\n",
       "      <td>...</td>\n",
       "      <td>0.10</td>\n",
       "      <td>2.26</td>\n",
       "      <td>0.16</td>\n",
       "      <td>1.46</td>\n",
       "      <td>0.25</td>\n",
       "      <td>0</td>\n",
       "      <td>0.941</td>\n",
       "      <td>0.025</td>\n",
       "      <td>0.025</td>\n",
       "      <td>0</td>\n",
       "    </tr>\n",
       "    <tr>\n",
       "      <th>1</th>\n",
       "      <td>892828</td>\n",
       "      <td>2050232089348573440</td>\n",
       "      <td>13.441</td>\n",
       "      <td>0.936</td>\n",
       "      <td>0.014</td>\n",
       "      <td>0.29</td>\n",
       "      <td>0.02</td>\n",
       "      <td>6685</td>\n",
       "      <td>213</td>\n",
       "      <td>-0.26</td>\n",
       "      <td>...</td>\n",
       "      <td>0.10</td>\n",
       "      <td>1.77</td>\n",
       "      <td>0.12</td>\n",
       "      <td>1.34</td>\n",
       "      <td>0.25</td>\n",
       "      <td>0</td>\n",
       "      <td>0.750</td>\n",
       "      <td>0.023</td>\n",
       "      <td>0.023</td>\n",
       "      <td>0</td>\n",
       "    </tr>\n",
       "    <tr>\n",
       "      <th>2</th>\n",
       "      <td>893234</td>\n",
       "      <td>2050237621266121856</td>\n",
       "      <td>13.425</td>\n",
       "      <td>1.008</td>\n",
       "      <td>0.015</td>\n",
       "      <td>0.25</td>\n",
       "      <td>0.03</td>\n",
       "      <td>6694</td>\n",
       "      <td>219</td>\n",
       "      <td>-0.37</td>\n",
       "      <td>...</td>\n",
       "      <td>0.10</td>\n",
       "      <td>1.60</td>\n",
       "      <td>0.11</td>\n",
       "      <td>1.28</td>\n",
       "      <td>0.25</td>\n",
       "      <td>0</td>\n",
       "      <td>0.665</td>\n",
       "      <td>0.021</td>\n",
       "      <td>0.022</td>\n",
       "      <td>0</td>\n",
       "    </tr>\n",
       "    <tr>\n",
       "      <th>3</th>\n",
       "      <td>1026133</td>\n",
       "      <td>2050236689246332928</td>\n",
       "      <td>13.314</td>\n",
       "      <td>0.826</td>\n",
       "      <td>0.018</td>\n",
       "      <td>0.32</td>\n",
       "      <td>0.04</td>\n",
       "      <td>6990</td>\n",
       "      <td>228</td>\n",
       "      <td>-0.26</td>\n",
       "      <td>...</td>\n",
       "      <td>0.10</td>\n",
       "      <td>1.94</td>\n",
       "      <td>0.15</td>\n",
       "      <td>1.46</td>\n",
       "      <td>0.25</td>\n",
       "      <td>0</td>\n",
       "      <td>0.907</td>\n",
       "      <td>0.029</td>\n",
       "      <td>0.029</td>\n",
       "      <td>0</td>\n",
       "    </tr>\n",
       "    <tr>\n",
       "      <th>6</th>\n",
       "      <td>1026356</td>\n",
       "      <td>2050237037150551296</td>\n",
       "      <td>15.079</td>\n",
       "      <td>0.993</td>\n",
       "      <td>0.020</td>\n",
       "      <td>0.18</td>\n",
       "      <td>0.04</td>\n",
       "      <td>6514</td>\n",
       "      <td>228</td>\n",
       "      <td>-0.28</td>\n",
       "      <td>...</td>\n",
       "      <td>NaN</td>\n",
       "      <td>0.78</td>\n",
       "      <td>0.06</td>\n",
       "      <td>0.00</td>\n",
       "      <td>0.25</td>\n",
       "      <td>6</td>\n",
       "      <td>-0.008</td>\n",
       "      <td>0.024</td>\n",
       "      <td>0.024</td>\n",
       "      <td>0</td>\n",
       "    </tr>\n",
       "    <tr>\n",
       "      <th>...</th>\n",
       "      <td>...</td>\n",
       "      <td>...</td>\n",
       "      <td>...</td>\n",
       "      <td>...</td>\n",
       "      <td>...</td>\n",
       "      <td>...</td>\n",
       "      <td>...</td>\n",
       "      <td>...</td>\n",
       "      <td>...</td>\n",
       "      <td>...</td>\n",
       "      <td>...</td>\n",
       "      <td>...</td>\n",
       "      <td>...</td>\n",
       "      <td>...</td>\n",
       "      <td>...</td>\n",
       "      <td>...</td>\n",
       "      <td>...</td>\n",
       "      <td>...</td>\n",
       "      <td>...</td>\n",
       "      <td>...</td>\n",
       "      <td>...</td>\n",
       "    </tr>\n",
       "    <tr>\n",
       "      <th>14324</th>\n",
       "      <td>12884399</td>\n",
       "      <td>2139314001729390720</td>\n",
       "      <td>12.793</td>\n",
       "      <td>1.760</td>\n",
       "      <td>0.019</td>\n",
       "      <td>0.18</td>\n",
       "      <td>0.03</td>\n",
       "      <td>6565</td>\n",
       "      <td>181</td>\n",
       "      <td>-0.13</td>\n",
       "      <td>...</td>\n",
       "      <td>0.12</td>\n",
       "      <td>1.24</td>\n",
       "      <td>0.08</td>\n",
       "      <td>1.14</td>\n",
       "      <td>0.25</td>\n",
       "      <td>2</td>\n",
       "      <td>0.409</td>\n",
       "      <td>0.020</td>\n",
       "      <td>0.020</td>\n",
       "      <td>0</td>\n",
       "    </tr>\n",
       "    <tr>\n",
       "      <th>14325</th>\n",
       "      <td>12884588</td>\n",
       "      <td>2139310501333784448</td>\n",
       "      <td>12.776</td>\n",
       "      <td>1.014</td>\n",
       "      <td>0.020</td>\n",
       "      <td>0.21</td>\n",
       "      <td>0.03</td>\n",
       "      <td>7297</td>\n",
       "      <td>255</td>\n",
       "      <td>-0.29</td>\n",
       "      <td>...</td>\n",
       "      <td>0.10</td>\n",
       "      <td>1.69</td>\n",
       "      <td>0.12</td>\n",
       "      <td>1.45</td>\n",
       "      <td>0.25</td>\n",
       "      <td>0</td>\n",
       "      <td>0.861</td>\n",
       "      <td>0.019</td>\n",
       "      <td>0.019</td>\n",
       "      <td>0</td>\n",
       "    </tr>\n",
       "    <tr>\n",
       "      <th>14327</th>\n",
       "      <td>12885346</td>\n",
       "      <td>2139318713311419136</td>\n",
       "      <td>13.870</td>\n",
       "      <td>0.280</td>\n",
       "      <td>0.022</td>\n",
       "      <td>0.24</td>\n",
       "      <td>0.02</td>\n",
       "      <td>9811</td>\n",
       "      <td>343</td>\n",
       "      <td>-0.14</td>\n",
       "      <td>...</td>\n",
       "      <td>0.11</td>\n",
       "      <td>2.15</td>\n",
       "      <td>0.24</td>\n",
       "      <td>2.18</td>\n",
       "      <td>0.25</td>\n",
       "      <td>0</td>\n",
       "      <td>1.587</td>\n",
       "      <td>0.073</td>\n",
       "      <td>0.068</td>\n",
       "      <td>0</td>\n",
       "    </tr>\n",
       "    <tr>\n",
       "      <th>14328</th>\n",
       "      <td>12934616</td>\n",
       "      <td>2139335652662315392</td>\n",
       "      <td>12.251</td>\n",
       "      <td>1.264</td>\n",
       "      <td>0.020</td>\n",
       "      <td>0.21</td>\n",
       "      <td>0.05</td>\n",
       "      <td>6601</td>\n",
       "      <td>231</td>\n",
       "      <td>0.04</td>\n",
       "      <td>...</td>\n",
       "      <td>0.10</td>\n",
       "      <td>2.19</td>\n",
       "      <td>0.17</td>\n",
       "      <td>1.44</td>\n",
       "      <td>0.25</td>\n",
       "      <td>0</td>\n",
       "      <td>0.914</td>\n",
       "      <td>0.024</td>\n",
       "      <td>0.024</td>\n",
       "      <td>0</td>\n",
       "    </tr>\n",
       "    <tr>\n",
       "      <th>14329</th>\n",
       "      <td>12934846</td>\n",
       "      <td>2139323317515992448</td>\n",
       "      <td>14.037</td>\n",
       "      <td>0.623</td>\n",
       "      <td>0.015</td>\n",
       "      <td>0.23</td>\n",
       "      <td>0.03</td>\n",
       "      <td>7299</td>\n",
       "      <td>255</td>\n",
       "      <td>-0.06</td>\n",
       "      <td>...</td>\n",
       "      <td>0.11</td>\n",
       "      <td>1.57</td>\n",
       "      <td>0.12</td>\n",
       "      <td>1.42</td>\n",
       "      <td>0.25</td>\n",
       "      <td>0</td>\n",
       "      <td>0.801</td>\n",
       "      <td>0.028</td>\n",
       "      <td>0.028</td>\n",
       "      <td>0</td>\n",
       "    </tr>\n",
       "  </tbody>\n",
       "</table>\n",
       "<p>12135 rows × 22 columns</p>\n",
       "</div>"
      ],
      "text/plain": [
       "            kic            source_id  sdss_g  parallax  parallax_error  \\\n",
       "0        892667  2050232329866306176  13.405     0.821           0.015   \n",
       "1        892828  2050232089348573440  13.441     0.936           0.014   \n",
       "2        893234  2050237621266121856  13.425     1.008           0.015   \n",
       "3       1026133  2050236689246332928  13.314     0.826           0.018   \n",
       "6       1026356  2050237037150551296  15.079     0.993           0.020   \n",
       "...         ...                  ...     ...       ...             ...   \n",
       "14324  12884399  2139314001729390720  12.793     1.760           0.019   \n",
       "14325  12884588  2139310501333784448  12.776     1.014           0.020   \n",
       "14327  12885346  2139318713311419136  13.870     0.280           0.022   \n",
       "14328  12934616  2139335652662315392  12.251     1.264           0.020   \n",
       "14329  12934846  2139323317515992448  14.037     0.623           0.015   \n",
       "\n",
       "       Ag_Green_2017  Ag_Green_2017_sigma  Teffi  e_Teffi  FeHi  ...  \\\n",
       "0               0.43                 0.03   6604      209 -0.26  ...   \n",
       "1               0.29                 0.02   6685      213 -0.26  ...   \n",
       "2               0.25                 0.03   6694      219 -0.37  ...   \n",
       "3               0.32                 0.04   6990      228 -0.26  ...   \n",
       "6               0.18                 0.04   6514      228 -0.28  ...   \n",
       "...              ...                  ...    ...      ...   ...  ...   \n",
       "14324           0.18                 0.03   6565      181 -0.13  ...   \n",
       "14325           0.21                 0.03   7297      255 -0.29  ...   \n",
       "14327           0.24                 0.02   9811      343 -0.14  ...   \n",
       "14328           0.21                 0.05   6601      231  0.04  ...   \n",
       "14329           0.23                 0.03   7299      255 -0.06  ...   \n",
       "\n",
       "       new_logg_std  new_radius  new_r_std  new_mass  new_mass_std  \\\n",
       "0              0.10        2.26       0.16      1.46          0.25   \n",
       "1              0.10        1.77       0.12      1.34          0.25   \n",
       "2              0.10        1.60       0.11      1.28          0.25   \n",
       "3              0.10        1.94       0.15      1.46          0.25   \n",
       "6               NaN        0.78       0.06      0.00          0.25   \n",
       "...             ...         ...        ...       ...           ...   \n",
       "14324          0.12        1.24       0.08      1.14          0.25   \n",
       "14325          0.10        1.69       0.12      1.45          0.25   \n",
       "14327          0.11        2.15       0.24      2.18          0.25   \n",
       "14328          0.10        2.19       0.17      1.44          0.25   \n",
       "14329          0.11        1.57       0.12      1.42          0.25   \n",
       "\n",
       "       mass_qflag  loglbol_g_median  loglbol_sigp  loglbol_sigm  dSct  \n",
       "0               0             0.941         0.025         0.025     0  \n",
       "1               0             0.750         0.023         0.023     0  \n",
       "2               0             0.665         0.021         0.022     0  \n",
       "3               0             0.907         0.029         0.029     0  \n",
       "6               6            -0.008         0.024         0.024     0  \n",
       "...           ...               ...           ...           ...   ...  \n",
       "14324           2             0.409         0.020         0.020     0  \n",
       "14325           0             0.861         0.019         0.019     0  \n",
       "14327           0             1.587         0.073         0.068     0  \n",
       "14328           0             0.914         0.024         0.024     0  \n",
       "14329           0             0.801         0.028         0.028     0  \n",
       "\n",
       "[12135 rows x 22 columns]"
      ]
     },
     "execution_count": 73,
     "metadata": {},
     "output_type": "execute_result"
    }
   ],
   "source": [
    "df"
   ]
  },
  {
   "cell_type": "code",
   "execution_count": 3,
   "metadata": {},
   "outputs": [],
   "source": [
    "N = 8774\n",
    "\n",
    "x = np.arange(0,N)\n",
    "\n",
    "p = 0.1271264410162131 / 100"
   ]
  },
  {
   "cell_type": "code",
   "execution_count": 4,
   "metadata": {},
   "outputs": [
    {
     "data": {
      "text/plain": [
       "(0.0, 100.0)"
      ]
     },
     "execution_count": 4,
     "metadata": {},
     "output_type": "execute_result"
    },
    {
     "data": {
      "image/png": "[encoded data removed]",
      "text/plain": [
       "<Figure size 432x288 with 1 Axes>"
      ]
     },
     "metadata": {
      "needs_background": "light"
     },
     "output_type": "display_data"
    }
   ],
   "source": [
    "rv = binom(N, p)\n",
    "fig, ax = plt.subplots(1, 1)\n",
    "ax.vlines(x, 0, rv.pmf(x), colors='k', linestyles='-', lw=1,\n",
    "        label='frozen pmf')\n",
    "\n",
    "plt.xlim(0, 100)"
   ]
  },
  {
   "cell_type": "code",
   "execution_count": 6,
   "metadata": {},
   "outputs": [],
   "source": [
    "n_found = 0\n",
    "n_search = 2354\n",
    "\n",
    "def posterior(n_found,n_searched):\n",
    "    n_not_found = n_searched-n_found\n",
    "    return beta(n_found+1,n_not_found+1)\n",
    "\n",
    "q = np.linspace(0,1,1000)\n",
    "pdf = posterior(n_found,n_search).pdf(q)"
   ]
  },
  {
   "cell_type": "code",
   "execution_count": 7,
   "metadata": {},
   "outputs": [
    {
     "data": {
      "text/plain": [
       "(0.0, 0.1)"
      ]
     },
     "execution_count": 7,
     "metadata": {},
     "output_type": "execute_result"
    },
    {
     "data": {
      "image/png": "[encoded data removed]",
      "text/plain": [
       "<Figure size 432x288 with 1 Axes>"
      ]
     },
     "metadata": {
      "needs_background": "light"
     },
     "output_type": "display_data"
    }
   ],
   "source": [
    "plt.plot(q,pdf)\n",
    "plt.axvline(posterior(n_found, n_search).ppf(0.95),color='r')\n",
    "plt.xlim(0, 0.1)"
   ]
  },
  {
   "cell_type": "code",
   "execution_count": 16,
   "metadata": {},
   "outputs": [],
   "source": [
    "b = posterior(n_found, n_search)\n",
    "samples = b.rvs(size=5000)\n",
    "\n",
    "expected = binom(N, samples)\n",
    "values = expected.rvs([1000, 5000])"
   ]
  },
  {
   "cell_type": "code",
   "execution_count": 89,
   "metadata": {},
   "outputs": [
    {
     "data": {
      "text/plain": [
       "<matplotlib.legend.Legend at 0x7f810ae9c6a0>"
      ]
     },
     "execution_count": 89,
     "metadata": {},
     "output_type": "execute_result"
    },
    {
     "data": {
      "image/png": "[encoded data removed]",
      "text/plain": [
       "<Figure size 432x288 with 1 Axes>"
      ]
     },
     "metadata": {
      "needs_background": "light"
     },
     "output_type": "display_data"
    }
   ],
   "source": [
    "plt.hist(expected.mean(), bins=50, density=True, range=[0,20], alpha=0.5, label='Mean of dist'); # Dan's way\n",
    "# plt.hist(np.mean(values, axis=0), bins=50, range=[0,20], density=True, alpha=0.5); # Ben's way\n",
    "\n",
    "plt.hist(values.flatten(), bins=20, range=(0,20), alpha=0.3, density=True, label='All values');\n",
    "\n",
    "plt.legend()"
   ]
  },
  {
   "cell_type": "code",
   "execution_count": 84,
   "metadata": {},
   "outputs": [
    {
     "data": {
      "image/png": "[encoded data removed]",
      "text/plain": [
       "<Figure size 432x288 with 1 Axes>"
      ]
     },
     "metadata": {
      "needs_background": "light"
     },
     "output_type": "display_data"
    }
   ],
   "source": []
  },
  {
   "cell_type": "code",
   "execution_count": 91,
   "metadata": {},
   "outputs": [
    {
     "data": {
      "text/plain": [
       "array([0., 2., 7.])"
      ]
     },
     "execution_count": 91,
     "metadata": {},
     "output_type": "execute_result"
    }
   ],
   "source": [
    "np.percentile(values.flatten(), [16, 50, 84])"
   ]
  },
  {
   "cell_type": "code",
   "execution_count": 68,
   "metadata": {},
   "outputs": [
    {
     "data": {
      "text/plain": [
       "array([ 2.49293211, 11.22116858])"
      ]
     },
     "execution_count": 68,
     "metadata": {},
     "output_type": "execute_result"
    }
   ],
   "source": [
    "np.percentile(expected.mean(), [50, 95])"
   ]
  },
  {
   "cell_type": "code",
   "execution_count": 69,
   "metadata": {},
   "outputs": [
    {
     "data": {
      "text/plain": [
       "array([ 2.5   , 11.1908])"
      ]
     },
     "execution_count": 69,
     "metadata": {},
     "output_type": "execute_result"
    }
   ],
   "source": [
    "np.percentile(np.mean(values, axis=0), [50, 95])"
   ]
  },
  {
   "cell_type": "code",
   "execution_count": 104,
   "metadata": {},
   "outputs": [
    {
     "data": {
      "text/plain": [
       "0.0012712644101621309"
      ]
     },
     "execution_count": 104,
     "metadata": {},
     "output_type": "execute_result"
    }
   ],
   "source": [
    "posterior(n_found, n_search).ppf(0.95)# * 100"
   ]
  },
  {
   "cell_type": "code",
   "execution_count": null,
   "metadata": {},
   "outputs": [],
   "source": []
  },
  {
   "cell_type": "code",
   "execution_count": null,
   "metadata": {},
   "outputs": [],
   "source": []
  },
  {
   "cell_type": "code",
   "execution_count": 15,
   "metadata": {},
   "outputs": [],
   "source": [
    "import astropy.units as u"
   ]
  },
  {
   "cell_type": "code",
   "execution_count": 17,
   "metadata": {},
   "outputs": [
    {
     "data": {
      "text/latex": [
       "$0.2497997 \\; \\mathrm{R_{\\rm J}}$"
      ],
      "text/plain": [
       "<Quantity 0.2497997 jupiterRad>"
      ]
     },
     "execution_count": 17,
     "metadata": {},
     "output_type": "execute_result"
    }
   ],
   "source": [
    "(2.8 * u.R_earth).to(u.R_jup)"
   ]
  },
  {
   "cell_type": "code",
   "execution_count": null,
   "metadata": {},
   "outputs": [],
   "source": []
  }
 ],
 "metadata": {
  "kernelspec": {
   "display_name": "Python 3",
   "language": "python",
   "name": "python3"
  },
  "language_info": {
   "codemirror_mode": {
    "name": "ipython",
    "version": 3
   },
   "file_extension": ".py",
   "mimetype": "text/x-python",
   "name": "python",
   "nbconvert_exporter": "python",
   "pygments_lexer": "ipython3",
   "version": "3.8.3"
  }
 },
 "nbformat": 4,
 "nbformat_minor": 4
}
