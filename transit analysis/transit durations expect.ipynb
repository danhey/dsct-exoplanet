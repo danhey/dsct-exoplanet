{
 "cells": [
  {
   "cell_type": "code",
   "execution_count": 2,
   "metadata": {},
   "outputs": [],
   "source": [
    "import numpy as np\n",
    "import matplotlib.pyplot as plt\n",
    "import pandas as pd\n",
    "import astropy.units as u\n",
    "import pickle\n",
    "\n",
    "import astropy.units as u\n",
    "import astropy.constants as const\n"
   ]
  },
  {
   "cell_type": "code",
   "execution_count": 3,
   "metadata": {},
   "outputs": [],
   "source": [
    "plt.style.use('science')"
   ]
  },
  {
   "cell_type": "code",
   "execution_count": 4,
   "metadata": {},
   "outputs": [
    {
     "data": {
      "image/png": "[encoded data removed]",
      "text/plain": [
       "<Figure size 252x189 with 1 Axes>"
      ]
     },
     "metadata": {
      "needs_background": "light"
     },
     "output_type": "display_data"
    }
   ],
   "source": [
    "df = pd.read_csv(\"../data/catalogues/rev_AF_stars.csv\", dtype={'kic': str})\n",
    "m = (df.new_mass > 0) & (df.new_radius > 0)\n",
    "df = df[m]\n",
    "\n",
    "df['density'] = ((3*(df.new_mass.values * u.M_sun).to(u.kg)) / (4*np.pi*(df.new_radius.values * u.R_sun).to(u.m)**3)).value\n",
    "plt.hist(df.density, bins=100);"
   ]
  },
  {
   "cell_type": "code",
   "execution_count": 5,
   "metadata": {},
   "outputs": [],
   "source": [
    "densities = np.percentile(df.density, [16, 50, 84]) * (u.kg / u.m**3)"
   ]
  },
  {
   "cell_type": "code",
   "execution_count": 15,
   "metadata": {},
   "outputs": [],
   "source": [
    "P = np.geomspace(1e-5, 100, 100) * u.day\n",
    "T = ((3 * (P.to(u.s)[:, None])) / (densities * np.pi**2 * const.G))**(1/3)\n",
    "T = T.to(u.day)"
   ]
  },
  {
   "cell_type": "code",
   "execution_count": 16,
   "metadata": {},
   "outputs": [],
   "source": [
    "lc_cutoff = (30 * u.min).to(u.day)\n",
    "sc_cutoff = (2 * u.min).to(u.day)\n",
    "tess_10min =  (10 * u.min).to(u.day)"
   ]
  },
  {
   "cell_type": "code",
   "execution_count": 17,
   "metadata": {},
   "outputs": [
    {
     "data": {
      "text/html": [
       "<div>\n",
       "<style scoped>\n",
       "    .dataframe tbody tr th:only-of-type {\n",
       "        vertical-align: middle;\n",
       "    }\n",
       "\n",
       "    .dataframe tbody tr th {\n",
       "        vertical-align: top;\n",
       "    }\n",
       "\n",
       "    .dataframe thead th {\n",
       "        text-align: right;\n",
       "    }\n",
       "</style>\n",
       "<table border=\"1\" class=\"dataframe\">\n",
       "  <thead>\n",
       "    <tr style=\"text-align: right;\">\n",
       "      <th></th>\n",
       "      <th>Unnamed: 0</th>\n",
       "      <th>Unnamed: 0.1</th>\n",
       "      <th>kepid</th>\n",
       "      <th>kepoi_name</th>\n",
       "      <th>kepler_name</th>\n",
       "      <th>koi_disposition</th>\n",
       "      <th>koi_vet_stat</th>\n",
       "      <th>koi_vet_date</th>\n",
       "      <th>koi_pdisposition</th>\n",
       "      <th>koi_score</th>\n",
       "      <th>...</th>\n",
       "      <th>koi_dicco_msky</th>\n",
       "      <th>koi_dicco_msky_err</th>\n",
       "      <th>koi_dikco_mra</th>\n",
       "      <th>koi_dikco_mra_err</th>\n",
       "      <th>koi_dikco_mdec</th>\n",
       "      <th>koi_dikco_mdec_err</th>\n",
       "      <th>koi_dikco_msky</th>\n",
       "      <th>koi_dikco_msky_err</th>\n",
       "      <th>dsct</th>\n",
       "      <th>nfreqs</th>\n",
       "    </tr>\n",
       "  </thead>\n",
       "  <tbody>\n",
       "    <tr>\n",
       "      <th>0</th>\n",
       "      <td>0</td>\n",
       "      <td>0</td>\n",
       "      <td>3964109</td>\n",
       "      <td>K00393.01</td>\n",
       "      <td>Kepler-544 b</td>\n",
       "      <td>CONFIRMED</td>\n",
       "      <td>Done</td>\n",
       "      <td>16/8/18</td>\n",
       "      <td>CANDIDATE</td>\n",
       "      <td>1.000</td>\n",
       "      <td>...</td>\n",
       "      <td>0.63</td>\n",
       "      <td>0.57</td>\n",
       "      <td>0.000</td>\n",
       "      <td>1.300</td>\n",
       "      <td>0.500</td>\n",
       "      <td>0.510</td>\n",
       "      <td>0.500</td>\n",
       "      <td>0.530</td>\n",
       "      <td>True</td>\n",
       "      <td>1</td>\n",
       "    </tr>\n",
       "    <tr>\n",
       "      <th>1</th>\n",
       "      <td>1</td>\n",
       "      <td>1</td>\n",
       "      <td>9111849</td>\n",
       "      <td>K02042.01</td>\n",
       "      <td>NaN</td>\n",
       "      <td>CANDIDATE</td>\n",
       "      <td>Done</td>\n",
       "      <td>16/8/18</td>\n",
       "      <td>CANDIDATE</td>\n",
       "      <td>0.994</td>\n",
       "      <td>...</td>\n",
       "      <td>0.31</td>\n",
       "      <td>0.13</td>\n",
       "      <td>0.150</td>\n",
       "      <td>0.120</td>\n",
       "      <td>-0.200</td>\n",
       "      <td>0.130</td>\n",
       "      <td>0.250</td>\n",
       "      <td>0.130</td>\n",
       "      <td>True</td>\n",
       "      <td>4</td>\n",
       "    </tr>\n",
       "    <tr>\n",
       "      <th>2</th>\n",
       "      <td>2</td>\n",
       "      <td>2</td>\n",
       "      <td>9845898</td>\n",
       "      <td>K02423.01</td>\n",
       "      <td>Kepler-1233 b</td>\n",
       "      <td>CONFIRMED</td>\n",
       "      <td>Done</td>\n",
       "      <td>16/8/18</td>\n",
       "      <td>CANDIDATE</td>\n",
       "      <td>1.000</td>\n",
       "      <td>...</td>\n",
       "      <td>0.60</td>\n",
       "      <td>0.85</td>\n",
       "      <td>0.110</td>\n",
       "      <td>0.700</td>\n",
       "      <td>-0.700</td>\n",
       "      <td>1.100</td>\n",
       "      <td>0.700</td>\n",
       "      <td>1.100</td>\n",
       "      <td>True</td>\n",
       "      <td>3</td>\n",
       "    </tr>\n",
       "    <tr>\n",
       "      <th>3</th>\n",
       "      <td>3</td>\n",
       "      <td>3</td>\n",
       "      <td>5202905</td>\n",
       "      <td>K01932.01</td>\n",
       "      <td>Kepler-340 c</td>\n",
       "      <td>CONFIRMED</td>\n",
       "      <td>Done</td>\n",
       "      <td>16/8/18</td>\n",
       "      <td>CANDIDATE</td>\n",
       "      <td>0.944</td>\n",
       "      <td>...</td>\n",
       "      <td>0.32</td>\n",
       "      <td>0.23</td>\n",
       "      <td>-0.110</td>\n",
       "      <td>0.260</td>\n",
       "      <td>0.430</td>\n",
       "      <td>0.230</td>\n",
       "      <td>0.440</td>\n",
       "      <td>0.220</td>\n",
       "      <td>True</td>\n",
       "      <td>4</td>\n",
       "    </tr>\n",
       "    <tr>\n",
       "      <th>4</th>\n",
       "      <td>4</td>\n",
       "      <td>4</td>\n",
       "      <td>5202905</td>\n",
       "      <td>K01932.02</td>\n",
       "      <td>Kepler-340 b</td>\n",
       "      <td>CONFIRMED</td>\n",
       "      <td>Done</td>\n",
       "      <td>16/8/18</td>\n",
       "      <td>CANDIDATE</td>\n",
       "      <td>0.636</td>\n",
       "      <td>...</td>\n",
       "      <td>0.39</td>\n",
       "      <td>0.39</td>\n",
       "      <td>0.400</td>\n",
       "      <td>0.440</td>\n",
       "      <td>-0.150</td>\n",
       "      <td>0.250</td>\n",
       "      <td>0.430</td>\n",
       "      <td>0.400</td>\n",
       "      <td>True</td>\n",
       "      <td>4</td>\n",
       "    </tr>\n",
       "    <tr>\n",
       "      <th>5</th>\n",
       "      <td>5</td>\n",
       "      <td>5</td>\n",
       "      <td>6116172</td>\n",
       "      <td>K06142.02</td>\n",
       "      <td>NaN</td>\n",
       "      <td>CANDIDATE</td>\n",
       "      <td>Done</td>\n",
       "      <td>16/8/18</td>\n",
       "      <td>CANDIDATE</td>\n",
       "      <td>NaN</td>\n",
       "      <td>...</td>\n",
       "      <td>7.90</td>\n",
       "      <td>2.70</td>\n",
       "      <td>-8.000</td>\n",
       "      <td>2.100</td>\n",
       "      <td>-0.580</td>\n",
       "      <td>0.230</td>\n",
       "      <td>8.000</td>\n",
       "      <td>2.100</td>\n",
       "      <td>True</td>\n",
       "      <td>1</td>\n",
       "    </tr>\n",
       "    <tr>\n",
       "      <th>6</th>\n",
       "      <td>6</td>\n",
       "      <td>6</td>\n",
       "      <td>6116172</td>\n",
       "      <td>K06142.01</td>\n",
       "      <td>NaN</td>\n",
       "      <td>CANDIDATE</td>\n",
       "      <td>Done</td>\n",
       "      <td>16/8/18</td>\n",
       "      <td>CANDIDATE</td>\n",
       "      <td>NaN</td>\n",
       "      <td>...</td>\n",
       "      <td>7.90</td>\n",
       "      <td>2.70</td>\n",
       "      <td>-8.000</td>\n",
       "      <td>2.100</td>\n",
       "      <td>-0.580</td>\n",
       "      <td>0.230</td>\n",
       "      <td>8.000</td>\n",
       "      <td>2.100</td>\n",
       "      <td>True</td>\n",
       "      <td>1</td>\n",
       "    </tr>\n",
       "    <tr>\n",
       "      <th>7</th>\n",
       "      <td>7</td>\n",
       "      <td>7</td>\n",
       "      <td>6116172</td>\n",
       "      <td>K06142.02</td>\n",
       "      <td>NaN</td>\n",
       "      <td>CANDIDATE</td>\n",
       "      <td>Done</td>\n",
       "      <td>16/8/18</td>\n",
       "      <td>CANDIDATE</td>\n",
       "      <td>NaN</td>\n",
       "      <td>...</td>\n",
       "      <td>7.90</td>\n",
       "      <td>2.70</td>\n",
       "      <td>-8.000</td>\n",
       "      <td>2.100</td>\n",
       "      <td>-0.580</td>\n",
       "      <td>0.230</td>\n",
       "      <td>8.000</td>\n",
       "      <td>2.100</td>\n",
       "      <td>True</td>\n",
       "      <td>1</td>\n",
       "    </tr>\n",
       "    <tr>\n",
       "      <th>8</th>\n",
       "      <td>8</td>\n",
       "      <td>8</td>\n",
       "      <td>11013201</td>\n",
       "      <td>K00972.03</td>\n",
       "      <td>NaN</td>\n",
       "      <td>CANDIDATE</td>\n",
       "      <td>Done</td>\n",
       "      <td>16/8/18</td>\n",
       "      <td>CANDIDATE</td>\n",
       "      <td>0.632</td>\n",
       "      <td>...</td>\n",
       "      <td>5.20</td>\n",
       "      <td>1.50</td>\n",
       "      <td>-3.210</td>\n",
       "      <td>0.810</td>\n",
       "      <td>4.300</td>\n",
       "      <td>1.100</td>\n",
       "      <td>5.400</td>\n",
       "      <td>1.300</td>\n",
       "      <td>True</td>\n",
       "      <td>4</td>\n",
       "    </tr>\n",
       "    <tr>\n",
       "      <th>9</th>\n",
       "      <td>9</td>\n",
       "      <td>9</td>\n",
       "      <td>11013201</td>\n",
       "      <td>K00972.02</td>\n",
       "      <td>NaN</td>\n",
       "      <td>CANDIDATE</td>\n",
       "      <td>Done</td>\n",
       "      <td>16/8/18</td>\n",
       "      <td>CANDIDATE</td>\n",
       "      <td>0.000</td>\n",
       "      <td>...</td>\n",
       "      <td>3.90</td>\n",
       "      <td>1.70</td>\n",
       "      <td>-4.700</td>\n",
       "      <td>1.200</td>\n",
       "      <td>3.000</td>\n",
       "      <td>1.800</td>\n",
       "      <td>5.600</td>\n",
       "      <td>1.700</td>\n",
       "      <td>True</td>\n",
       "      <td>4</td>\n",
       "    </tr>\n",
       "    <tr>\n",
       "      <th>10</th>\n",
       "      <td>10</td>\n",
       "      <td>10</td>\n",
       "      <td>6032730</td>\n",
       "      <td>K06141.01</td>\n",
       "      <td>NaN</td>\n",
       "      <td>CANDIDATE</td>\n",
       "      <td>Done</td>\n",
       "      <td>16/8/18</td>\n",
       "      <td>CANDIDATE</td>\n",
       "      <td>NaN</td>\n",
       "      <td>...</td>\n",
       "      <td>8.90</td>\n",
       "      <td>3.70</td>\n",
       "      <td>-10.700</td>\n",
       "      <td>2.100</td>\n",
       "      <td>10.700</td>\n",
       "      <td>4.500</td>\n",
       "      <td>15.100</td>\n",
       "      <td>3.500</td>\n",
       "      <td>True</td>\n",
       "      <td>2</td>\n",
       "    </tr>\n",
       "    <tr>\n",
       "      <th>11</th>\n",
       "      <td>11</td>\n",
       "      <td>11</td>\n",
       "      <td>5617259</td>\n",
       "      <td>K07733.01</td>\n",
       "      <td>NaN</td>\n",
       "      <td>CANDIDATE</td>\n",
       "      <td>Done</td>\n",
       "      <td>16/8/18</td>\n",
       "      <td>CANDIDATE</td>\n",
       "      <td>0.139</td>\n",
       "      <td>...</td>\n",
       "      <td>0.34</td>\n",
       "      <td>0.10</td>\n",
       "      <td>0.095</td>\n",
       "      <td>0.091</td>\n",
       "      <td>-0.065</td>\n",
       "      <td>0.089</td>\n",
       "      <td>0.115</td>\n",
       "      <td>0.099</td>\n",
       "      <td>True</td>\n",
       "      <td>4</td>\n",
       "    </tr>\n",
       "    <tr>\n",
       "      <th>12</th>\n",
       "      <td>12</td>\n",
       "      <td>12</td>\n",
       "      <td>9775385</td>\n",
       "      <td>K04462.01</td>\n",
       "      <td>NaN</td>\n",
       "      <td>CANDIDATE</td>\n",
       "      <td>Done</td>\n",
       "      <td>16/8/18</td>\n",
       "      <td>CANDIDATE</td>\n",
       "      <td>NaN</td>\n",
       "      <td>...</td>\n",
       "      <td>NaN</td>\n",
       "      <td>NaN</td>\n",
       "      <td>NaN</td>\n",
       "      <td>NaN</td>\n",
       "      <td>NaN</td>\n",
       "      <td>NaN</td>\n",
       "      <td>NaN</td>\n",
       "      <td>NaN</td>\n",
       "      <td>True</td>\n",
       "      <td>1</td>\n",
       "    </tr>\n",
       "    <tr>\n",
       "      <th>13</th>\n",
       "      <td>13</td>\n",
       "      <td>13</td>\n",
       "      <td>6670742</td>\n",
       "      <td>K06753.01</td>\n",
       "      <td>NaN</td>\n",
       "      <td>CANDIDATE</td>\n",
       "      <td>Done</td>\n",
       "      <td>16/8/18</td>\n",
       "      <td>CANDIDATE</td>\n",
       "      <td>NaN</td>\n",
       "      <td>...</td>\n",
       "      <td>3.40</td>\n",
       "      <td>1.80</td>\n",
       "      <td>-2.400</td>\n",
       "      <td>1.500</td>\n",
       "      <td>-2.000</td>\n",
       "      <td>1.300</td>\n",
       "      <td>3.100</td>\n",
       "      <td>1.600</td>\n",
       "      <td>True</td>\n",
       "      <td>3</td>\n",
       "    </tr>\n",
       "    <tr>\n",
       "      <th>14</th>\n",
       "      <td>14</td>\n",
       "      <td>14</td>\n",
       "      <td>9289704</td>\n",
       "      <td>K02222.01</td>\n",
       "      <td>NaN</td>\n",
       "      <td>CANDIDATE</td>\n",
       "      <td>Done</td>\n",
       "      <td>16/8/18</td>\n",
       "      <td>CANDIDATE</td>\n",
       "      <td>0.987</td>\n",
       "      <td>...</td>\n",
       "      <td>0.36</td>\n",
       "      <td>0.17</td>\n",
       "      <td>-0.460</td>\n",
       "      <td>0.170</td>\n",
       "      <td>0.010</td>\n",
       "      <td>0.130</td>\n",
       "      <td>0.460</td>\n",
       "      <td>0.170</td>\n",
       "      <td>True</td>\n",
       "      <td>4</td>\n",
       "    </tr>\n",
       "    <tr>\n",
       "      <th>15</th>\n",
       "      <td>15</td>\n",
       "      <td>15</td>\n",
       "      <td>3965201</td>\n",
       "      <td>K07546.01</td>\n",
       "      <td>NaN</td>\n",
       "      <td>CANDIDATE</td>\n",
       "      <td>Done</td>\n",
       "      <td>16/8/18</td>\n",
       "      <td>CANDIDATE</td>\n",
       "      <td>NaN</td>\n",
       "      <td>...</td>\n",
       "      <td>0.54</td>\n",
       "      <td>0.79</td>\n",
       "      <td>-0.290</td>\n",
       "      <td>0.580</td>\n",
       "      <td>0.560</td>\n",
       "      <td>0.540</td>\n",
       "      <td>0.630</td>\n",
       "      <td>0.690</td>\n",
       "      <td>True</td>\n",
       "      <td>3</td>\n",
       "    </tr>\n",
       "    <tr>\n",
       "      <th>16</th>\n",
       "      <td>16</td>\n",
       "      <td>16</td>\n",
       "      <td>11180361</td>\n",
       "      <td>K00971.01</td>\n",
       "      <td>NaN</td>\n",
       "      <td>CANDIDATE</td>\n",
       "      <td>Done</td>\n",
       "      <td>16/8/18</td>\n",
       "      <td>CANDIDATE</td>\n",
       "      <td>1.000</td>\n",
       "      <td>...</td>\n",
       "      <td>8.40</td>\n",
       "      <td>2.00</td>\n",
       "      <td>9.700</td>\n",
       "      <td>2.200</td>\n",
       "      <td>-7.200</td>\n",
       "      <td>2.400</td>\n",
       "      <td>12.100</td>\n",
       "      <td>3.000</td>\n",
       "      <td>True</td>\n",
       "      <td>4</td>\n",
       "    </tr>\n",
       "  </tbody>\n",
       "</table>\n",
       "<p>17 rows × 139 columns</p>\n",
       "</div>"
      ],
      "text/plain": [
       "    Unnamed: 0  Unnamed: 0.1     kepid kepoi_name    kepler_name  \\\n",
       "0            0             0   3964109  K00393.01   Kepler-544 b   \n",
       "1            1             1   9111849  K02042.01            NaN   \n",
       "2            2             2   9845898  K02423.01  Kepler-1233 b   \n",
       "3            3             3   5202905  K01932.01   Kepler-340 c   \n",
       "4            4             4   5202905  K01932.02   Kepler-340 b   \n",
       "5            5             5   6116172  K06142.02            NaN   \n",
       "6            6             6   6116172  K06142.01            NaN   \n",
       "7            7             7   6116172  K06142.02            NaN   \n",
       "8            8             8  11013201  K00972.03            NaN   \n",
       "9            9             9  11013201  K00972.02            NaN   \n",
       "10          10            10   6032730  K06141.01            NaN   \n",
       "11          11            11   5617259  K07733.01            NaN   \n",
       "12          12            12   9775385  K04462.01            NaN   \n",
       "13          13            13   6670742  K06753.01            NaN   \n",
       "14          14            14   9289704  K02222.01            NaN   \n",
       "15          15            15   3965201  K07546.01            NaN   \n",
       "16          16            16  11180361  K00971.01            NaN   \n",
       "\n",
       "   koi_disposition koi_vet_stat koi_vet_date koi_pdisposition  koi_score  ...  \\\n",
       "0        CONFIRMED         Done      16/8/18        CANDIDATE      1.000  ...   \n",
       "1        CANDIDATE         Done      16/8/18        CANDIDATE      0.994  ...   \n",
       "2        CONFIRMED         Done      16/8/18        CANDIDATE      1.000  ...   \n",
       "3        CONFIRMED         Done      16/8/18        CANDIDATE      0.944  ...   \n",
       "4        CONFIRMED         Done      16/8/18        CANDIDATE      0.636  ...   \n",
       "5        CANDIDATE         Done      16/8/18        CANDIDATE        NaN  ...   \n",
       "6        CANDIDATE         Done      16/8/18        CANDIDATE        NaN  ...   \n",
       "7        CANDIDATE         Done      16/8/18        CANDIDATE        NaN  ...   \n",
       "8        CANDIDATE         Done      16/8/18        CANDIDATE      0.632  ...   \n",
       "9        CANDIDATE         Done      16/8/18        CANDIDATE      0.000  ...   \n",
       "10       CANDIDATE         Done      16/8/18        CANDIDATE        NaN  ...   \n",
       "11       CANDIDATE         Done      16/8/18        CANDIDATE      0.139  ...   \n",
       "12       CANDIDATE         Done      16/8/18        CANDIDATE        NaN  ...   \n",
       "13       CANDIDATE         Done      16/8/18        CANDIDATE        NaN  ...   \n",
       "14       CANDIDATE         Done      16/8/18        CANDIDATE      0.987  ...   \n",
       "15       CANDIDATE         Done      16/8/18        CANDIDATE        NaN  ...   \n",
       "16       CANDIDATE         Done      16/8/18        CANDIDATE      1.000  ...   \n",
       "\n",
       "    koi_dicco_msky  koi_dicco_msky_err  koi_dikco_mra  koi_dikco_mra_err  \\\n",
       "0             0.63                0.57          0.000              1.300   \n",
       "1             0.31                0.13          0.150              0.120   \n",
       "2             0.60                0.85          0.110              0.700   \n",
       "3             0.32                0.23         -0.110              0.260   \n",
       "4             0.39                0.39          0.400              0.440   \n",
       "5             7.90                2.70         -8.000              2.100   \n",
       "6             7.90                2.70         -8.000              2.100   \n",
       "7             7.90                2.70         -8.000              2.100   \n",
       "8             5.20                1.50         -3.210              0.810   \n",
       "9             3.90                1.70         -4.700              1.200   \n",
       "10            8.90                3.70        -10.700              2.100   \n",
       "11            0.34                0.10          0.095              0.091   \n",
       "12             NaN                 NaN            NaN                NaN   \n",
       "13            3.40                1.80         -2.400              1.500   \n",
       "14            0.36                0.17         -0.460              0.170   \n",
       "15            0.54                0.79         -0.290              0.580   \n",
       "16            8.40                2.00          9.700              2.200   \n",
       "\n",
       "   koi_dikco_mdec koi_dikco_mdec_err  koi_dikco_msky  koi_dikco_msky_err  \\\n",
       "0           0.500              0.510           0.500               0.530   \n",
       "1          -0.200              0.130           0.250               0.130   \n",
       "2          -0.700              1.100           0.700               1.100   \n",
       "3           0.430              0.230           0.440               0.220   \n",
       "4          -0.150              0.250           0.430               0.400   \n",
       "5          -0.580              0.230           8.000               2.100   \n",
       "6          -0.580              0.230           8.000               2.100   \n",
       "7          -0.580              0.230           8.000               2.100   \n",
       "8           4.300              1.100           5.400               1.300   \n",
       "9           3.000              1.800           5.600               1.700   \n",
       "10         10.700              4.500          15.100               3.500   \n",
       "11         -0.065              0.089           0.115               0.099   \n",
       "12            NaN                NaN             NaN                 NaN   \n",
       "13         -2.000              1.300           3.100               1.600   \n",
       "14          0.010              0.130           0.460               0.170   \n",
       "15          0.560              0.540           0.630               0.690   \n",
       "16         -7.200              2.400          12.100               3.000   \n",
       "\n",
       "    dsct  nfreqs  \n",
       "0   True       1  \n",
       "1   True       4  \n",
       "2   True       3  \n",
       "3   True       4  \n",
       "4   True       4  \n",
       "5   True       1  \n",
       "6   True       1  \n",
       "7   True       1  \n",
       "8   True       4  \n",
       "9   True       4  \n",
       "10  True       2  \n",
       "11  True       4  \n",
       "12  True       1  \n",
       "13  True       3  \n",
       "14  True       4  \n",
       "15  True       3  \n",
       "16  True       4  \n",
       "\n",
       "[17 rows x 139 columns]"
      ]
     },
     "execution_count": 17,
     "metadata": {},
     "output_type": "execute_result"
    }
   ],
   "source": [
    "koi_dsct = pd.read_csv('../pulsation timing/data/koi_dsct.csv')\n",
    "koi_dsct"
   ]
  },
  {
   "cell_type": "code",
   "execution_count": 30,
   "metadata": {},
   "outputs": [
    {
     "data": {
      "text/plain": [
       "Text(0, 0.5, 'Transit period [days]')"
      ]
     },
     "execution_count": 30,
     "metadata": {},
     "output_type": "execute_result"
    },
    {
     "data": {
      "image/png": "[encoded data removed]",
      "text/plain": [
       "<Figure size 252x189 with 1 Axes>"
      ]
     },
     "metadata": {
      "needs_background": "light"
     },
     "output_type": "display_data"
    }
   ],
   "source": [
    "plt.plot(T, P)\n",
    "m = koi_dsct.koi_disposition == 'CONFIRMED'\n",
    "plt.plot((koi_dsct.koi_duration.values*u.hr).to(u.day).value, koi_dsct.koi_period, '.k')\n",
    "plt.plot((koi_dsct.koi_duration.values*u.hr).to(u.day).value[m], koi_dsct.koi_period[m], '.')\n",
    "# plt.axvline(lc_cutoff.value, c='C3', linestyle='dashed')\n",
    "# plt.axhline(sc_cutoff.value, c='C3', linestyle='dashed')\n",
    "# plt.axhline(tess_10min.value, c='C3', linestyle='dashed')\n",
    "# plt.ylim(0, 0.03)\n",
    "plt.xlim(0, None)\n",
    "plt.xlabel('Transit duration [days]')\n",
    "plt.ylabel('Transit period [days]')\n",
    "# plt.yscale('log')\n",
    "# plt.xscale('log')"
   ]
  },
  {
   "cell_type": "code",
   "execution_count": null,
   "metadata": {},
   "outputs": [],
   "source": []
  },
  {
   "cell_type": "code",
   "execution_count": null,
   "metadata": {},
   "outputs": [],
   "source": []
  },
  {
   "cell_type": "code",
   "execution_count": null,
   "metadata": {},
   "outputs": [],
   "source": []
  },
  {
   "cell_type": "code",
   "execution_count": 187,
   "metadata": {},
   "outputs": [
    {
     "data": {
      "text/plain": [
       "Text(0, 0.5, 'T')"
      ]
     },
     "execution_count": 187,
     "metadata": {},
     "output_type": "execute_result"
    },
    {
     "data": {
      "image/png": "[encoded data removed]",
      "text/plain": [
       "<Figure size 252x189 with 1 Axes>"
      ]
     },
     "metadata": {
      "needs_background": "light"
     },
     "output_type": "display_data"
    }
   ],
   "source": [
    "plt.plot(P, T)\n",
    "plt.axhline(lc_cutoff.value, c='C3', linestyle='dashed')\n",
    "\n",
    "plt.xlabel('P')\n",
    "plt.ylabel('T')"
   ]
  },
  {
   "cell_type": "code",
   "execution_count": 188,
   "metadata": {},
   "outputs": [
    {
     "data": {
      "text/latex": [
       "$0.020833333 \\; \\mathrm{d}$"
      ],
      "text/plain": [
       "<Quantity 0.02083333 d>"
      ]
     },
     "execution_count": 188,
     "metadata": {},
     "output_type": "execute_result"
    }
   ],
   "source": [
    "lc_cutoff"
   ]
  },
  {
   "cell_type": "code",
   "execution_count": null,
   "metadata": {},
   "outputs": [],
   "source": []
  },
  {
   "cell_type": "code",
   "execution_count": null,
   "metadata": {},
   "outputs": [],
   "source": []
  },
  {
   "cell_type": "code",
   "execution_count": null,
   "metadata": {},
   "outputs": [],
   "source": []
  },
  {
   "cell_type": "code",
   "execution_count": null,
   "metadata": {},
   "outputs": [],
   "source": []
  },
  {
   "cell_type": "code",
   "execution_count": null,
   "metadata": {},
   "outputs": [],
   "source": []
  },
  {
   "cell_type": "code",
   "execution_count": 110,
   "metadata": {},
   "outputs": [],
   "source": [
    "densities = np.linspace(np.median(df.density) - np.std(df.density),\n",
    "                        np.median(df.density) + np.std(df.density),\n",
    "                        101) * (u.kg / u.m**3)"
   ]
  },
  {
   "cell_type": "code",
   "execution_count": 120,
   "metadata": {},
   "outputs": [],
   "source": [
    "P = np.geomspace(1e-5, 0.1, 100) * u.day\n",
    "T = ((3 * (P.to(u.s)[:, None])) / (densities * np.pi**2 * const.G))**(1/3)\n",
    "T = T.to(u.day)"
   ]
  },
  {
   "cell_type": "code",
   "execution_count": 136,
   "metadata": {},
   "outputs": [
    {
     "data": {
      "text/plain": [
       "<matplotlib.colorbar.Colorbar at 0x7f075996be20>"
      ]
     },
     "execution_count": 136,
     "metadata": {},
     "output_type": "execute_result"
    },
    {
     "data": {
      "image/png": "[encoded data removed]",
      "text/plain": [
       "<Figure size 432x288 with 2 Axes>"
      ]
     },
     "metadata": {
      "needs_background": "light"
     },
     "output_type": "display_data"
    }
   ],
   "source": [
    "#  floats (left, right, bottom, top), optional\n",
    "extent = [densities.value.min(), densities.value.max(), P.value.min(), P.value.max()]\n",
    "plt.imshow(T, extent=extent, interpolation='none', aspect='auto')\n",
    "plt.colorbar()"
   ]
  },
  {
   "cell_type": "code",
   "execution_count": 123,
   "metadata": {},
   "outputs": [
    {
     "data": {
      "text/plain": [
       "<matplotlib.colorbar.Colorbar at 0x7f07595999a0>"
      ]
     },
     "execution_count": 123,
     "metadata": {},
     "output_type": "execute_result"
    },
    {
     "data": {
      "image/png": "[encoded data removed]",
      "text/plain": [
       "<Figure size 432x288 with 2 Axes>"
      ]
     },
     "metadata": {
      "needs_background": "light"
     },
     "output_type": "display_data"
    }
   ],
   "source": [
    "plt.contourf(densities,P,T)\n",
    "plt.colorbar()"
   ]
  },
  {
   "cell_type": "code",
   "execution_count": null,
   "metadata": {},
   "outputs": [],
   "source": []
  },
  {
   "cell_type": "code",
   "execution_count": 102,
   "metadata": {},
   "outputs": [],
   "source": [
    "T = (np.linspace(0, 0.1, 100) * u.day).to(u.s)\n",
    "P =(densities * np.pi**2 * const.G * T[:,None]**3 / 3).to(u.day)"
   ]
  },
  {
   "cell_type": "code",
   "execution_count": 103,
   "metadata": {},
   "outputs": [
    {
     "data": {
      "text/plain": [
       "<matplotlib.colorbar.Colorbar at 0x7f075a14bc10>"
      ]
     },
     "execution_count": 103,
     "metadata": {},
     "output_type": "execute_result"
    },
    {
     "data": {
      "image/png": "[encoded data removed]",
      "text/plain": [
       "<Figure size 432x288 with 2 Axes>"
      ]
     },
     "metadata": {
      "needs_background": "light"
     },
     "output_type": "display_data"
    }
   ],
   "source": [
    "plt.contourf(densities, T.to(u.day), P)\n",
    "plt.colorbar()"
   ]
  },
  {
   "cell_type": "code",
   "execution_count": 94,
   "metadata": {},
   "outputs": [
    {
     "data": {
      "text/plain": [
       "[<matplotlib.lines.Line2D at 0x7f0759fc0d00>]"
      ]
     },
     "execution_count": 94,
     "metadata": {},
     "output_type": "execute_result"
    },
    {
     "data": {
      "image/png": "[encoded data removed]",
      "text/plain": [
       "<Figure size 432x288 with 1 Axes>"
      ]
     },
     "metadata": {
      "needs_background": "light"
     },
     "output_type": "display_data"
    }
   ],
   "source": [
    "plt.plot(P, T[:,100])"
   ]
  },
  {
   "cell_type": "code",
   "execution_count": null,
   "metadata": {},
   "outputs": [],
   "source": []
  }
 ],
 "metadata": {
  "kernelspec": {
   "display_name": "Python 3",
   "language": "python",
   "name": "python3"
  },
  "language_info": {
   "codemirror_mode": {
    "name": "ipython",
    "version": 3
   },
   "file_extension": ".py",
   "mimetype": "text/x-python",
   "name": "python",
   "nbconvert_exporter": "python",
   "pygments_lexer": "ipython3",
   "version": "3.8.3"
  }
 },
 "nbformat": 4,
 "nbformat_minor": 4
}
