{
 "cells": [
  {
   "cell_type": "code",
   "execution_count": 1,
   "metadata": {},
   "outputs": [],
   "source": [
    "import numpy as np\n",
    "import matplotlib.pyplot as plt\n",
    "import pandas as pd\n",
    "import astropy.units as u\n",
    "import pickle\n",
    "\n",
    "import pymc3 as pm\n",
    "import aesara_theano_fallback.tensor as tt\n",
    "import exoplanet as xo\n",
    "import glob\n",
    "import pymc3_ext as pmx\n",
    "import lightkurve as lk\n",
    "from celerite2.theano import terms, GaussianProcess"
   ]
  },
  {
   "cell_type": "code",
   "execution_count": 2,
   "metadata": {},
   "outputs": [],
   "source": [
    "plt.rcParams['axes.unicode_minus'] = False"
   ]
  },
  {
   "cell_type": "code",
   "execution_count": 3,
   "metadata": {},
   "outputs": [],
   "source": [
    "from transit_model import build_model"
   ]
  },
  {
   "cell_type": "code",
   "execution_count": 4,
   "metadata": {},
   "outputs": [],
   "source": [
    "df = pd.read_csv(\"../data/catalogues/berger_2020.tsv\", delimiter='\\t')\n",
    "candidates = pd.read_csv(\"candidates.csv\", delimiter='\\t')\n",
    "kicid = [\n",
    "#     9471419,\n",
    "    8249829,\n",
    "    7767699,\n",
    "    5724523,\n",
    "    4380834,\n",
    "    9895543\n",
    "#     '11666429'\n",
    "#     '12116239'\n",
    "]\n",
    "candidates = candidates[candidates.kic.isin(kicid)]\n",
    "df = df.merge(candidates, left_on='KIC', right_on='kic')"
   ]
  },
  {
   "cell_type": "code",
   "execution_count": 5,
   "metadata": {},
   "outputs": [],
   "source": [
    "# from astroquery.mast import Observations, Catalogs\n",
    "\n",
    "# result = Catalogs.query_criteria(catalog=\"Tic\", KIC=df.kic.values).to_pandas()\n",
    "# result['KIC'] = result['KIC'].astype(str)\n",
    "\n",
    "# df = pd.merge(result, df, left_on='KIC', right_on='kic')\n",
    "# df.kic"
   ]
  },
  {
   "cell_type": "code",
   "execution_count": 6,
   "metadata": {},
   "outputs": [],
   "source": [
    "# ii = 2\n",
    "# row = df.iloc[ii]\n",
    "# f = glob.glob(f\"../prewhitening/results/spline and BIC/prewhitened/*{row.kic}*\")[0]\n",
    "# time, flux, flux_err = np.loadtxt(f, unpack=True)\n",
    "# lc = lk.LightCurve(time, flux + 1., flux_err)\n",
    "# lc = lc.flatten(window_length=201, break_tolerance=11).remove_outliers(sigma_upper=5, sigma_lower=5)\n",
    "# time, flux, flux_err = lc.time.value, lc.flux.value, lc.flux_err.value\n",
    "# flux_err /= 1e3\n",
    "# flux -= 1.\n",
    "\n",
    "# m = np.ones_like(time, dtype=bool)\n",
    "# ref_time = 0.5 * (np.min(time) + np.max(time))\n",
    "# x = np.ascontiguousarray(time[m] - ref_time, dtype=np.float64)\n",
    "# y = np.ascontiguousarray(flux[m], dtype=np.float64)\n",
    "# yerr = np.ascontiguousarray(flux_err[m], dtype=np.float64)\n",
    "# #\n",
    "# plt.plot(x, y, \".k\")\n",
    "# plt.xlabel(\"time [days]\")\n",
    "# plt.ylabel(\"relative flux [ppt]\")\n",
    "# _ = plt.xlim(x.min(), x.max())\n",
    "\n",
    "\n",
    "# texp = np.min(np.diff(x))"
   ]
  },
  {
   "cell_type": "code",
   "execution_count": 7,
   "metadata": {},
   "outputs": [
    {
     "data": {
      "text/html": [
       "<div>\n",
       "<style scoped>\n",
       "    .dataframe tbody tr th:only-of-type {\n",
       "        vertical-align: middle;\n",
       "    }\n",
       "\n",
       "    .dataframe tbody tr th {\n",
       "        vertical-align: top;\n",
       "    }\n",
       "\n",
       "    .dataframe thead th {\n",
       "        text-align: right;\n",
       "    }\n",
       "</style>\n",
       "<table border=\"1\" class=\"dataframe\">\n",
       "  <thead>\n",
       "    <tr style=\"text-align: right;\">\n",
       "      <th></th>\n",
       "      <th>KIC</th>\n",
       "      <th>Mass</th>\n",
       "      <th>E_Mass</th>\n",
       "      <th>e_Mass</th>\n",
       "      <th>Teff</th>\n",
       "      <th>E_Teff</th>\n",
       "      <th>e_Teff</th>\n",
       "      <th>logg</th>\n",
       "      <th>E_logg</th>\n",
       "      <th>e_logg</th>\n",
       "      <th>...</th>\n",
       "      <th>Dist</th>\n",
       "      <th>E_Dist</th>\n",
       "      <th>e_Dist</th>\n",
       "      <th>Avmag</th>\n",
       "      <th>GOF</th>\n",
       "      <th>TAMS</th>\n",
       "      <th>kic</th>\n",
       "      <th>period</th>\n",
       "      <th>t0</th>\n",
       "      <th>bls_depth</th>\n",
       "    </tr>\n",
       "  </thead>\n",
       "  <tbody>\n",
       "    <tr>\n",
       "      <th>0</th>\n",
       "      <td>4380834</td>\n",
       "      <td>1.442</td>\n",
       "      <td>0.075</td>\n",
       "      <td>-0.066</td>\n",
       "      <td>6775.0</td>\n",
       "      <td>139.4</td>\n",
       "      <td>-146.5</td>\n",
       "      <td>4.161</td>\n",
       "      <td>0.038</td>\n",
       "      <td>-0.038</td>\n",
       "      <td>...</td>\n",
       "      <td>1305.5</td>\n",
       "      <td>47.3</td>\n",
       "      <td>-45.7</td>\n",
       "      <td>0.530</td>\n",
       "      <td>1.0000</td>\n",
       "      <td>2.90</td>\n",
       "      <td>4380834</td>\n",
       "      <td>0.889871</td>\n",
       "      <td>-729.138777</td>\n",
       "      <td>0.200316</td>\n",
       "    </tr>\n",
       "    <tr>\n",
       "      <th>1</th>\n",
       "      <td>5724523</td>\n",
       "      <td>2.027</td>\n",
       "      <td>0.092</td>\n",
       "      <td>-0.092</td>\n",
       "      <td>7779.0</td>\n",
       "      <td>185.2</td>\n",
       "      <td>-180.0</td>\n",
       "      <td>3.842</td>\n",
       "      <td>0.034</td>\n",
       "      <td>-0.033</td>\n",
       "      <td>...</td>\n",
       "      <td>1874.0</td>\n",
       "      <td>65.9</td>\n",
       "      <td>-61.6</td>\n",
       "      <td>0.947</td>\n",
       "      <td>0.9914</td>\n",
       "      <td>1.05</td>\n",
       "      <td>5724523</td>\n",
       "      <td>0.545737</td>\n",
       "      <td>-735.105918</td>\n",
       "      <td>0.016599</td>\n",
       "    </tr>\n",
       "    <tr>\n",
       "      <th>2</th>\n",
       "      <td>7767699</td>\n",
       "      <td>1.786</td>\n",
       "      <td>0.088</td>\n",
       "      <td>-0.084</td>\n",
       "      <td>8059.8</td>\n",
       "      <td>211.1</td>\n",
       "      <td>-183.4</td>\n",
       "      <td>4.076</td>\n",
       "      <td>0.034</td>\n",
       "      <td>-0.033</td>\n",
       "      <td>...</td>\n",
       "      <td>874.1</td>\n",
       "      <td>23.0</td>\n",
       "      <td>-21.8</td>\n",
       "      <td>0.341</td>\n",
       "      <td>0.9992</td>\n",
       "      <td>1.37</td>\n",
       "      <td>7767699</td>\n",
       "      <td>1.128280</td>\n",
       "      <td>-734.116164</td>\n",
       "      <td>0.008033</td>\n",
       "    </tr>\n",
       "    <tr>\n",
       "      <th>3</th>\n",
       "      <td>8249829</td>\n",
       "      <td>1.668</td>\n",
       "      <td>0.090</td>\n",
       "      <td>-0.091</td>\n",
       "      <td>7487.6</td>\n",
       "      <td>163.1</td>\n",
       "      <td>-167.5</td>\n",
       "      <td>4.085</td>\n",
       "      <td>0.041</td>\n",
       "      <td>-0.042</td>\n",
       "      <td>...</td>\n",
       "      <td>1953.6</td>\n",
       "      <td>83.7</td>\n",
       "      <td>-80.5</td>\n",
       "      <td>0.721</td>\n",
       "      <td>1.0000</td>\n",
       "      <td>1.78</td>\n",
       "      <td>8249829</td>\n",
       "      <td>1.012885</td>\n",
       "      <td>-58.896685</td>\n",
       "      <td>0.161843</td>\n",
       "    </tr>\n",
       "    <tr>\n",
       "      <th>4</th>\n",
       "      <td>9895543</td>\n",
       "      <td>1.823</td>\n",
       "      <td>0.088</td>\n",
       "      <td>-0.083</td>\n",
       "      <td>7806.7</td>\n",
       "      <td>193.1</td>\n",
       "      <td>-184.1</td>\n",
       "      <td>4.040</td>\n",
       "      <td>0.035</td>\n",
       "      <td>-0.035</td>\n",
       "      <td>...</td>\n",
       "      <td>1241.1</td>\n",
       "      <td>40.6</td>\n",
       "      <td>-38.1</td>\n",
       "      <td>0.403</td>\n",
       "      <td>0.9963</td>\n",
       "      <td>1.40</td>\n",
       "      <td>9895543</td>\n",
       "      <td>1.218882</td>\n",
       "      <td>-734.346207</td>\n",
       "      <td>0.020572</td>\n",
       "    </tr>\n",
       "  </tbody>\n",
       "</table>\n",
       "<p>5 rows × 36 columns</p>\n",
       "</div>"
      ],
      "text/plain": [
       "       KIC   Mass  E_Mass  e_Mass    Teff  E_Teff  e_Teff   logg  E_logg  \\\n",
       "0  4380834  1.442   0.075  -0.066  6775.0   139.4  -146.5  4.161   0.038   \n",
       "1  5724523  2.027   0.092  -0.092  7779.0   185.2  -180.0  3.842   0.034   \n",
       "2  7767699  1.786   0.088  -0.084  8059.8   211.1  -183.4  4.076   0.034   \n",
       "3  8249829  1.668   0.090  -0.091  7487.6   163.1  -167.5  4.085   0.041   \n",
       "4  9895543  1.823   0.088  -0.083  7806.7   193.1  -184.1  4.040   0.035   \n",
       "\n",
       "   e_logg  ...    Dist  E_Dist  e_Dist  Avmag     GOF  TAMS      kic  \\\n",
       "0  -0.038  ...  1305.5    47.3   -45.7  0.530  1.0000  2.90  4380834   \n",
       "1  -0.033  ...  1874.0    65.9   -61.6  0.947  0.9914  1.05  5724523   \n",
       "2  -0.033  ...   874.1    23.0   -21.8  0.341  0.9992  1.37  7767699   \n",
       "3  -0.042  ...  1953.6    83.7   -80.5  0.721  1.0000  1.78  8249829   \n",
       "4  -0.035  ...  1241.1    40.6   -38.1  0.403  0.9963  1.40  9895543   \n",
       "\n",
       "     period          t0  bls_depth  \n",
       "0  0.889871 -729.138777   0.200316  \n",
       "1  0.545737 -735.105918   0.016599  \n",
       "2  1.128280 -734.116164   0.008033  \n",
       "3  1.012885  -58.896685   0.161843  \n",
       "4  1.218882 -734.346207   0.020572  \n",
       "\n",
       "[5 rows x 36 columns]"
      ]
     },
     "execution_count": 7,
     "metadata": {},
     "output_type": "execute_result"
    }
   ],
   "source": [
    "df"
   ]
  },
  {
   "cell_type": "markdown",
   "metadata": {},
   "source": [
    "# Begin"
   ]
  },
  {
   "cell_type": "code",
   "execution_count": 81,
   "metadata": {},
   "outputs": [],
   "source": [
    "row = df.iloc[3]\n",
    "with open(f'traces/{row.kic}.pkl', 'rb') as f:\n",
    "    res = pickle.load(f)\n",
    "    \n",
    "bls_period = row.period\n",
    "bls_t0 = row.t0\n",
    "bls_depth = row.bls_depth# / 1e3\n",
    "\n",
    "x = res['time']\n",
    "y = res['flux']\n",
    "# y = low_pass(x, y)\n",
    "texp = np.min(np.diff(x))\n",
    "mask = res['mask']\n",
    "trace = res['trace']\n",
    "\n",
    "# def build_model(mask=None, start=None, optimize=False):\n",
    "#     if mask is None:\n",
    "#         mask = np.ones(len(x), dtype=bool)\n",
    "optimize=False\n",
    "start=None\n"
   ]
  },
  {
   "cell_type": "code",
   "execution_count": 82,
   "metadata": {},
   "outputs": [],
   "source": [
    "\n",
    "with pm.Model() as model:\n",
    "\n",
    "    # Parameters for the stellar properties\n",
    "    mean = pm.Normal(\"mean\", mu=0.0, sd=10.0)\n",
    "    u_star = xo.QuadLimbDark(\"u_star\")\n",
    "\n",
    "    # Orbital parameters for the planets\n",
    "    log_period = pm.Normal(\"log_period\", mu=np.log(bls_period), sd=1)\n",
    "    t0 = pm.Normal(\"t0\", mu=bls_t0, sd=1)\n",
    "    log_ror = pm.Normal(\n",
    "        \"log_ror\", mu=0.5 * np.log(bls_depth * 1e-3), sigma=10.0\n",
    "    )\n",
    "    ror = pm.Deterministic(\"ror\", tt.exp(log_ror))\n",
    "\n",
    "    period = pm.Deterministic(\"period\", tt.exp(log_period))\n",
    "    b = xo.distributions.ImpactParameter(\"b\", ror=ror)\n",
    "\n",
    "    log_dur = pm.Normal(\"log_dur\", mu=np.log(0.1), sigma=10.0)\n",
    "    dur = pm.Deterministic(\"dur\", tt.exp(log_dur))\n",
    "\n",
    "    # Transit jitter & GP parameters\n",
    "    log_sigma_lc = pm.Normal(\n",
    "        \"log_sigma_lc\", mu=np.log(np.std(y[mask])), sd=10\n",
    "    )\n",
    "    log_rho_gp = pm.Normal(\"log_rho_gp\", mu=0, sd=10)\n",
    "    log_sigma_gp = pm.Normal(\n",
    "        \"log_sigma_gp\", mu=np.log(np.std(y[mask])), sd=10\n",
    "    )\n",
    "\n",
    "\n",
    "    # Orbit model\n",
    "    orbit = xo.orbits.KeplerianOrbit(\n",
    "        period=period,\n",
    "        t0=t0,\n",
    "        b=b,\n",
    "        duration=dur\n",
    "    )\n",
    "\n",
    "\n",
    "    # Compute the model light curve\n",
    "    light_curves = pm.Deterministic(\n",
    "        \"light_curves\",\n",
    "        xo.LimbDarkLightCurve(u_star).get_light_curve(\n",
    "            orbit=orbit, r=ror, t=x[mask], \n",
    "            texp=texp\n",
    "        )\n",
    "        * 1e3,\n",
    "    )\n",
    "    light_curve = tt.sum(light_curves, axis=-1) + mean\n",
    "    resid = y[mask] - light_curve\n",
    "\n",
    "    # GP model for the light curve\n",
    "    kernel = terms.SHOTerm(\n",
    "        sigma=tt.exp(log_sigma_gp),\n",
    "        rho=tt.exp(log_rho_gp),\n",
    "        Q=1 / np.sqrt(2),\n",
    "    )\n",
    "    gp = GaussianProcess(kernel, t=x[mask], yerr=tt.exp(log_sigma_lc))\n",
    "    gp.marginal(\"gp\", observed=resid)\n",
    "    pm.Deterministic(\"gp_pred\", gp.predict(resid))\n",
    "\n",
    "    # Fit for the maximum a posteriori parameters, I've found that I can get\n",
    "    # a better solution by trying different combinations of parameters in turn\n",
    "    if start is None:\n",
    "        start = model.test_point\n",
    "    if optimize:\n",
    "        map_soln = pmx.optimize(\n",
    "            start=start, vars=[log_sigma_lc, log_sigma_gp, log_rho_gp]\n",
    "        )\n",
    "        map_soln = pmx.optimize(start=map_soln, vars=[dur, log_ror])\n",
    "        map_soln = pmx.optimize(start=map_soln, vars=[b])\n",
    "        map_soln = pmx.optimize(start=map_soln, vars=[log_period, t0])\n",
    "        map_soln = pmx.optimize(start=map_soln, vars=[u_star])\n",
    "        map_soln = pmx.optimize(start=map_soln, vars=[dur, log_ror])\n",
    "        map_soln = pmx.optimize(start=map_soln, vars=[b])\n",
    "#         map_soln = pmx.optimize(start=map_soln, vars=[ecs])\n",
    "        map_soln = pmx.optimize(start=map_soln, vars=[dur])\n",
    "        map_soln = pmx.optimize(start=map_soln, vars=[mean])\n",
    "        map_soln = pmx.optimize(\n",
    "            start=map_soln, vars=[log_sigma_lc, log_sigma_gp, log_rho_gp]\n",
    "        )\n",
    "        map_soln = pmx.optimize(start=map_soln)\n",
    "    else:\n",
    "        map_soln = start\n",
    "\n",
    "#     return model, map_soln"
   ]
  },
  {
   "cell_type": "code",
   "execution_count": 83,
   "metadata": {},
   "outputs": [],
   "source": [
    "\n",
    "# # mask = np.ones_like(x, dtype=bool)\n",
    "# model, _ = build_model(mask=mask, optimize=False)\n",
    "\n",
    "f = glob.glob(f\"../prewhitening/results/spline and BIC/prewhitened/*{row.kic}*\")[0]\n",
    "time, flux, flux_err = np.loadtxt(f, unpack=True)\n",
    "ref_time = 0.5 * (np.min(time) + np.max(time))"
   ]
  },
  {
   "cell_type": "code",
   "execution_count": 84,
   "metadata": {},
   "outputs": [],
   "source": [
    "a_all = []\n",
    "with model:\n",
    "    for samp in xo.get_samples_from_trace(trace, 500):\n",
    "        a_all.append(xo.eval_in_model(orbit.a, samp))\n",
    "a_all = np.array(a_all)"
   ]
  },
  {
   "cell_type": "code",
   "execution_count": 85,
   "metadata": {},
   "outputs": [
    {
     "name": "stdout",
     "output_type": "stream",
     "text": [
      "8249829 & $1.012738^{+0.000112}_{-0.000094}$ & $1472.679212^{+0.006472}_{-0.008659}$ & $0.089623^{+0.009040}_{-0.007482}$ & $2.777522^{+0.367444}_{-0.257747}$ & $1.593047^{+0.292355}_{-0.503007}$ & $2.608$\\\\"
     ]
    }
   ],
   "source": [
    "import astropy.units as u\n",
    "import astropy.constants as const\n",
    "\n",
    "print(row.kic, end = ' & ')\n",
    "trace = res['trace']\n",
    "cols = ['period', 't0', 'dur', 'ror']\n",
    "for col in cols:\n",
    "    if col == 't0': \n",
    "        perc = np.percentile(trace[col] + ref_time, [16, 50, 84])\n",
    "    elif col == 'ror':\n",
    "        perc = np.percentile((trace[col] * row.Rad * u.R_sun).to(u.R_earth).value, [16, 50, 84])\n",
    "    else:\n",
    "        perc = np.percentile(trace[col], [16, 50, 84])\n",
    "    print(f\"${perc[1]:.6f}^{{+{perc[2]-perc[1]:.6f}}}_{{-{perc[1]-perc[0]:.6f}}}$\", end=' & ')\n",
    "\n",
    "perc = np.percentile(a_all / row.Rad, [16, 50, 84])\n",
    "print(f\"${perc[1]:.6f}^{{+{perc[2]-perc[1]:.6f}}}_{{-{perc[1]-perc[0]:.6f}}}$\", end=' & ')\n",
    "    \n",
    "rho_calc = (3*(row.Mass * u.M_sun).to(u.kg)) / (4*np.pi*(row.Rad * u.R_sun).to(u.m)**3)\n",
    "rho = ((3 * ((trace['period'] * u.day).to(u.s))) / (((trace['dur']*u.day).to(u.s))**3 * np.pi**2 * const.G)).value\n",
    "perc = np.percentile(rho / rho_calc.value, [16, 50, 84])\n",
    "print(f\"${perc[1]:.3f}$\", end = '\\\\\\\\')"
   ]
  },
  {
   "cell_type": "code",
   "execution_count": 86,
   "metadata": {},
   "outputs": [
    {
     "data": {
      "text/plain": [
       "858.299147339664"
      ]
     },
     "execution_count": 86,
     "metadata": {},
     "output_type": "execute_result"
    }
   ],
   "source": [
    "np.median(rho)"
   ]
  },
  {
   "cell_type": "code",
   "execution_count": 87,
   "metadata": {},
   "outputs": [
    {
     "data": {
      "text/latex": [
       "$329.13835 \\; \\mathrm{\\frac{kg}{m^{3}}}$"
      ],
      "text/plain": [
       "<Quantity 329.13835096 kg / m3>"
      ]
     },
     "execution_count": 87,
     "metadata": {},
     "output_type": "execute_result"
    }
   ],
   "source": [
    "np.median(rho_calc)"
   ]
  },
  {
   "cell_type": "code",
   "execution_count": null,
   "metadata": {},
   "outputs": [],
   "source": []
  },
  {
   "cell_type": "code",
   "execution_count": 56,
   "metadata": {},
   "outputs": [
    {
     "data": {
      "text/plain": [
       "[<matplotlib.lines.Line2D at 0x7ff8050e0520>]"
      ]
     },
     "execution_count": 56,
     "metadata": {},
     "output_type": "execute_result"
    },
    {
     "data": {
      "image/png": "[encoded data removed]",
      "text/plain": [
       "<Figure size 252x189 with 1 Axes>"
      ]
     },
     "metadata": {
      "needs_background": "light"
     },
     "output_type": "display_data"
    }
   ],
   "source": [
    "plt.plot(x[mask], y[mask] - np.median(trace['gp_pred']))\n",
    "plt.plot(x[mask], y[mask], alpha=0.5)"
   ]
  },
  {
   "cell_type": "code",
   "execution_count": 48,
   "metadata": {},
   "outputs": [
    {
     "data": {
      "text/plain": [
       "9895543"
      ]
     },
     "execution_count": 48,
     "metadata": {},
     "output_type": "execute_result"
    }
   ],
   "source": [
    "row.kic"
   ]
  },
  {
   "cell_type": "code",
   "execution_count": 10,
   "metadata": {},
   "outputs": [
    {
     "name": "stdout",
     "output_type": "stream",
     "text": [
      "0.5457807212493386\n"
     ]
    },
    {
     "data": {
      "text/plain": [
       "(0.0038813358472498693, None)"
      ]
     },
     "execution_count": 10,
     "metadata": {},
     "output_type": "execute_result"
    }
   ],
   "source": [
    "np.median(trace['ror']), print(np.median(trace['period']))"
   ]
  },
  {
   "cell_type": "code",
   "execution_count": 11,
   "metadata": {},
   "outputs": [
    {
     "name": "stdout",
     "output_type": "stream",
     "text": [
      "296.852564979529\n",
      "40.9906221006223\n"
     ]
    },
    {
     "data": {
      "text/plain": [
       "(None, None)"
      ]
     },
     "execution_count": 11,
     "metadata": {},
     "output_type": "execute_result"
    }
   ],
   "source": [
    "print(row.ra), print(row.dec)"
   ]
  },
  {
   "cell_type": "code",
   "execution_count": 12,
   "metadata": {},
   "outputs": [
    {
     "name": "stdout",
     "output_type": "stream",
     "text": [
      "J = 12.384, 0.022\n",
      "H = 12.232, 0.024\n",
      "K = 12.17, 0.027\n"
     ]
    }
   ],
   "source": [
    "mags = ['J', 'H', 'K']\n",
    "for mag in mags:\n",
    "    print(f'{mag} = {row[mag + \"mag\"]}, {row[\"e_\" + mag + \"mag\"]}')"
   ]
  },
  {
   "cell_type": "code",
   "execution_count": 13,
   "metadata": {},
   "outputs": [
    {
     "name": "stdout",
     "output_type": "stream",
     "text": [
      "7918.55 131.28\n",
      "-0.18 0.3\n",
      "3.67 0.1\n"
     ]
    }
   ],
   "source": [
    "print(row.Teff, row.e_Teff)\n",
    "print(row.FeHi, row.e_FeHi)\n",
    "print(row.new_logg, row.new_logg_std)\n",
    "# print(row.new_radius, row.rad)"
   ]
  },
  {
   "cell_type": "code",
   "execution_count": 22,
   "metadata": {},
   "outputs": [
    {
     "data": {
      "text/plain": [
       "[<matplotlib.lines.Line2D at 0x7f4e1e01e100>]"
      ]
     },
     "execution_count": 22,
     "metadata": {},
     "output_type": "execute_result"
    },
    {
     "data": {
      "image/png": "[encoded data removed]",
      "text/plain": [
       "<Figure size 432x288 with 1 Axes>"
      ]
     },
     "metadata": {
      "needs_background": "light"
     },
     "output_type": "display_data"
    }
   ],
   "source": [
    "plt.plot(x[mask] - np.median(trace['t0']), y[mask] - np.median(trace['gp_pred'], axis=0)+1)"
   ]
  },
  {
   "cell_type": "code",
   "execution_count": 23,
   "metadata": {},
   "outputs": [
    {
     "data": {
      "text/plain": [
       "-58.88005119237792"
      ]
     },
     "execution_count": 23,
     "metadata": {},
     "output_type": "execute_result"
    }
   ],
   "source": [
    "np.median(trace['t0'])"
   ]
  },
  {
   "cell_type": "code",
   "execution_count": 24,
   "metadata": {},
   "outputs": [],
   "source": [
    "# np.savetxt(f'vespa/{row.kic}/transit.txt', list(zip(x[mask] - np.median(trace['t0']),\n",
    "#                                                  y[mask] - np.median(trace['gp_pred'],axis=0)+1)\n",
    "#                                             ))"
   ]
  },
  {
   "cell_type": "code",
   "execution_count": null,
   "metadata": {},
   "outputs": [],
   "source": []
  },
  {
   "cell_type": "code",
   "execution_count": null,
   "metadata": {},
   "outputs": [],
   "source": []
  },
  {
   "cell_type": "code",
   "execution_count": 26,
   "metadata": {},
   "outputs": [
    {
     "data": {
      "text/latex": [
       "$322.69383 \\; \\mathrm{\\frac{kg}{m^{3}}}$"
      ],
      "text/plain": [
       "<Quantity 322.69382966 kg / m3>"
      ]
     },
     "execution_count": 26,
     "metadata": {},
     "output_type": "execute_result"
    }
   ],
   "source": []
  },
  {
   "cell_type": "code",
   "execution_count": 98,
   "metadata": {},
   "outputs": [],
   "source": [
    "import arviz as az\n",
    "\n",
    "with model:\n",
    "    trace = az.from_pymc3(res['trace'])\n",
    "\n",
    "flat_samps = trace.posterior.stack(sample=(\"chain\", \"draw\"))"
   ]
  },
  {
   "cell_type": "code",
   "execution_count": 79,
   "metadata": {},
   "outputs": [],
   "source": [
    "plt.style.use('science')"
   ]
  },
  {
   "cell_type": "code",
   "execution_count": 46,
   "metadata": {},
   "outputs": [
    {
     "data": {
      "image/png": "[encoded data removed]",
      "text/plain": [
       "<Figure size 547.2x547.2 with 9 Axes>"
      ]
     },
     "metadata": {
      "needs_background": "light"
     },
     "output_type": "display_data"
    }
   ],
   "source": [
    "import corner\n",
    "\n",
    "corner.corner(trace, var_names=['dur', 'period', 'ror']);"
   ]
  },
  {
   "cell_type": "code",
   "execution_count": 101,
   "metadata": {},
   "outputs": [
    {
     "data": {
      "image/png": "[encoded data removed]",
      "text/plain": [
       "<Figure size 256.5x180 with 1 Axes>"
      ]
     },
     "metadata": {
      "needs_background": "light"
     },
     "output_type": "display_data"
    }
   ],
   "source": [
    "plt.subplots(figsize=[3.5625, 2.5\n",
    "#                       2.2017460849215005\n",
    "                     ])\n",
    "\n",
    "\n",
    "flat_samps = trace.posterior.stack(sample=(\"chain\", \"draw\"))\n",
    "\n",
    "# Compute the GP prediction\n",
    "gp_mod = np.median(\n",
    "    flat_samps[\"gp_pred\"].values + flat_samps[\"mean\"].values[None, :], axis=-1\n",
    ")\n",
    "\n",
    "# Get the posterior median orbital parameters\n",
    "p = np.median(flat_samps[\"period\"])\n",
    "t0 = np.median(flat_samps[\"t0\"])\n",
    "\n",
    "# Plot the folded data\n",
    "x_fold = (x[mask] - t0 + 0.5 * p) % p - 0.5 * p\n",
    "plt.plot(x_fold, y[mask] - gp_mod, \".k\", label=\"data\", zorder=-1000,ms=2, rasterized=True, alpha=0.5)\n",
    "\n",
    "# Overplot the phase binned light curve\n",
    "bins = np.linspace(-0.41, 0.41, 50)\n",
    "denom, _ = np.histogram(x_fold, bins)\n",
    "num, _ = np.histogram(x_fold, bins, weights=y[mask])\n",
    "denom[num == 0] = 1.0\n",
    "digit = np.digitize(x_fold, bins)\n",
    "binerr = np.array([np.std(y[mask][digit == i]) / np.sqrt(len(x_fold[digit == i])) for i in range(len(bins)-1)])\n",
    "plt.errorbar(\n",
    "         0.5 * (bins[1:] + bins[:-1]), num / denom,yerr=binerr, fmt='o', color=\"C3\", label=\"binned\", ms=3, rasterized=True\n",
    ")\n",
    "\n",
    "# Plot the folded model\n",
    "inds = np.argsort(x_fold)\n",
    "inds = inds[np.abs(x_fold)[inds] < 0.3]\n",
    "pred = np.percentile(\n",
    "    flat_samps[\"light_curves\"][inds, 0], [16, 50, 84], axis=-1\n",
    ")\n",
    "plt.plot(x_fold[inds], pred[1], color=\"C0\", label=\"model\", rasterized=True)\n",
    "art = plt.fill_between(\n",
    "    x_fold[inds], pred[0], pred[2], color=\"C0\", alpha=0.5, zorder=1000\n",
    ")\n",
    "art.set_edgecolor(\"none\")\n",
    "\n",
    "\n",
    "# plt.legend(fontsize=10, loc=4)\n",
    "plt.xlim(-0.5 * p, 0.5 * p)\n",
    "plt.xlabel(\"time since transit [days]\")\n",
    "plt.ylabel(\"relative flux [ppt]\")\n",
    "# _ = plt.xlim(-0.4, 0.4)\n",
    "\n",
    "dur_tot = np.median(flat_samps['dur'])\n",
    "lim = 1.2*dur_tot\n",
    "if lim > 0.25:\n",
    "    lim = 0.25\n",
    "plt.xlim(-1*lim, 1*lim)\n",
    "# plt.xlim(-0.15, 0.15)\n",
    "plt.ylim(-1*np.std(y), 1*np.std(y))\n",
    "\n",
    "\n",
    "txt = \"period = {0:.5f} +/- {1:.5f} d\".format(\n",
    "    np.mean(flat_samps[\"period\"].values), np.std(flat_samps[\"period\"].values)\n",
    ")\n",
    "plt.annotate(\n",
    "    txt,\n",
    "    (0, 0),\n",
    "    xycoords=\"axes fraction\",\n",
    "    xytext=(5, 5),\n",
    "    textcoords=\"offset points\",\n",
    "    ha=\"left\",\n",
    "    va=\"bottom\",\n",
    "    fontsize=7,\n",
    ")\n",
    "plt.annotate(f'KIC {row.kic}', (0.025,0.9), xycoords='axes fraction', bbox=dict(facecolor='white', edgecolor='black', boxstyle='round,pad=0.1'), fontsize=8)\n",
    "\n",
    "# # INSET\n",
    "ax = plt.gca()\n",
    "axins = ax.inset_axes([0.55, 0.7, 0.43, 0.28])\n",
    "axins.plot(x_fold[inds], pred[1], color=\"C0\", label=\"model\")\n",
    "axins.errorbar(\n",
    "         0.5 * (bins[1:] + bins[:-1]), num / denom,yerr=binerr, fmt='o', color=\"C3\", label=\"binned\", ms=3\n",
    ")\n",
    "axins.set_xlim(-0.2, 0.2)\n",
    "axins.set(xticks=[], yticks=[])\n",
    "\n",
    "plt.savefig(f'paper/{row.kic}.pdf', dpi=300, bbox_inches='tight')"
   ]
  },
  {
   "cell_type": "code",
   "execution_count": null,
   "metadata": {},
   "outputs": [],
   "source": []
  },
  {
   "cell_type": "code",
   "execution_count": null,
   "metadata": {},
   "outputs": [],
   "source": [
    "# plt.subplots(figsize=[3.5625, 2.2017460849215005])\n",
    "\n",
    "\n",
    "# flat_samps = trace.posterior.stack(sample=(\"chain\", \"draw\"))\n",
    "\n",
    "# # Compute the GP prediction\n",
    "# gp_mod = np.median(\n",
    "#     flat_samps[\"gp_pred\"].values + flat_samps[\"mean\"].values[None, :], axis=-1\n",
    "# )\n",
    "\n",
    "# # Get the posterior median orbital parameters\n",
    "# p = np.median(flat_samps[\"period\"])\n",
    "# t0 = np.median(flat_samps[\"t0\"])\n",
    "\n",
    "# # Plot the folded data\n",
    "# x_fold = (x[mask] - t0 + 0.5 * p) % p - 0.5 * p\n",
    "# plt.plot(x_fold, y[mask] - gp_mod, \".k\", label=\"data\", zorder=-1000,ms=2, rasterized=True, alpha=0.5)\n",
    "\n",
    "# # Overplot the phase binned light curve\n",
    "# bins = np.linspace(-0.41, 0.41, 50)\n",
    "# denom, _ = np.histogram(x_fold, bins)\n",
    "# num, _ = np.histogram(x_fold, bins, weights=y[mask])\n",
    "# denom[num == 0] = 1.0\n",
    "# digit = np.digitize(x_fold, bins)\n",
    "# binerr = np.array([np.std(y[mask][digit == i]) / np.sqrt(len(x_fold[digit == i])) for i in range(len(bins)-1)])\n",
    "# plt.errorbar(\n",
    "#          0.5 * (bins[1:] + bins[:-1]), num / denom,yerr=binerr, fmt='o', color=\"C3\", label=\"binned\", ms=3\n",
    "# )\n",
    "\n",
    "# # Plot the folded model\n",
    "# inds = np.argsort(x_fold)\n",
    "# inds = inds[np.abs(x_fold)[inds] < 0.3]\n",
    "# pred = np.percentile(\n",
    "#     flat_samps[\"light_curves\"][inds, 0], [16, 50, 84], axis=-1\n",
    "# )\n",
    "# plt.plot(x_fold[inds], pred[1], color=\"C0\", label=\"model\")\n",
    "# art = plt.fill_between(\n",
    "#     x_fold[inds], pred[0], pred[2], color=\"C0\", alpha=0.5, zorder=1000\n",
    "# )\n",
    "# art.set_edgecolor(\"none\")\n",
    "\n",
    "\n",
    "# # plt.legend(fontsize=10, loc=4)\n",
    "# plt.xlim(-0.5 * p, 0.5 * p)\n",
    "# plt.xlabel(\"time since transit [days]\")\n",
    "# plt.ylabel(\"relative flux [ppt]\")\n",
    "# # _ = plt.xlim(-0.4, 0.4)\n",
    "\n",
    "# dur_tot = np.median(flat_samps['dur'])\n",
    "# lim = 1.2*dur_tot\n",
    "# if lim > 0.25:\n",
    "#     lim = 0.25\n",
    "# plt.xlim(-1*lim, 1*lim)\n",
    "# # plt.xlim(-0.15, 0.15)\n",
    "# plt.ylim(-3*np.std(y), 3*np.std(y))\n",
    "\n",
    "\n",
    "# txt = \"period = {0:.5f} +/- {1:.5f} d\".format(\n",
    "#     np.mean(flat_samps[\"period\"].values), np.std(flat_samps[\"period\"].values)\n",
    "# )\n",
    "# plt.annotate(\n",
    "#     txt,\n",
    "#     (0, 0),\n",
    "#     xycoords=\"axes fraction\",\n",
    "#     xytext=(5, 5),\n",
    "#     textcoords=\"offset points\",\n",
    "#     ha=\"left\",\n",
    "#     va=\"bottom\",\n",
    "#     fontsize=7,\n",
    "# )\n",
    "# plt.annotate(f'KIC {row.kic}', (0.025,0.9), xycoords='axes fraction', bbox=dict(facecolor='white', edgecolor='black', boxstyle='round,pad=0.1'), fontsize=8)\n",
    "\n",
    "\n",
    "# # plt.savefig(f'paper/{row.kic}.pdf', dpi=300, bbox_inches='tight')"
   ]
  },
  {
   "cell_type": "code",
   "execution_count": 60,
   "metadata": {},
   "outputs": [],
   "source": [
    "import astropy.units as u\n",
    "import astropy.constants as const\n",
    "\n",
    "P = (np.mean(flat_samps['period'].values) * u.day).to(u.s)\n",
    "T = (np.mean(flat_samps['dur'].values) * u.day).to(u.day).to(u.s)"
   ]
  },
  {
   "cell_type": "code",
   "execution_count": 61,
   "metadata": {},
   "outputs": [
    {
     "data": {
      "text/latex": [
       "$837.47348 \\; \\mathrm{\\frac{kg}{m^{3}}}$"
      ],
      "text/plain": [
       "<Quantity 837.4734816 kg / m3>"
      ]
     },
     "execution_count": 61,
     "metadata": {},
     "output_type": "execute_result"
    }
   ],
   "source": [
    "(3 * P) / (np.pi**2 * const.G * T**3)"
   ]
  },
  {
   "cell_type": "code",
   "execution_count": 62,
   "metadata": {},
   "outputs": [
    {
     "data": {
      "text/latex": [
       "$187.93334 \\; \\mathrm{\\frac{kg}{m^{3}}}$"
      ],
      "text/plain": [
       "<Quantity 187.93334204 kg / m3>"
      ]
     },
     "execution_count": 62,
     "metadata": {},
     "output_type": "execute_result"
    }
   ],
   "source": [
    "(3*(row.new_mass * u.M_sun).to(u.kg)) / (4*np.pi*(row.new_radius * u.R_sun).to(u.m)**3)"
   ]
  },
  {
   "cell_type": "code",
   "execution_count": null,
   "metadata": {},
   "outputs": [],
   "source": []
  },
  {
   "cell_type": "code",
   "execution_count": null,
   "metadata": {},
   "outputs": [],
   "source": []
  },
  {
   "cell_type": "code",
   "execution_count": 284,
   "metadata": {},
   "outputs": [
    {
     "data": {
      "text/latex": [
       "$264.33372 \\; \\mathrm{\\frac{kg}{m^{3}}}$"
      ],
      "text/plain": [
       "<Quantity 264.33371706 kg / m3>"
      ]
     },
     "execution_count": 284,
     "metadata": {},
     "output_type": "execute_result"
    }
   ],
   "source": [
    "(3*(1.5 * u.M_sun).to(u.kg)) / (4*np.pi*(2 * u.R_sun).to(u.m)**3)"
   ]
  },
  {
   "cell_type": "code",
   "execution_count": 302,
   "metadata": {},
   "outputs": [],
   "source": [
    "T = (np.linspace(0, 1, 100) * u.day).to(u.s)\n",
    "P =( ((3*(1.5 * u.M_sun).to(u.kg)) / (4*np.pi*(2 * u.R_sun).to(u.m)**3)) * np.pi**2 * const.G * T**3 / 3).to(u.day)"
   ]
  },
  {
   "cell_type": "code",
   "execution_count": 303,
   "metadata": {},
   "outputs": [
    {
     "data": {
      "text/plain": [
       "[<matplotlib.lines.Line2D at 0x7ff4633e23a0>]"
      ]
     },
     "execution_count": 303,
     "metadata": {},
     "output_type": "execute_result"
    },
    {
     "data": {
      "image/png": "[encoded data removed]",
      "text/plain": [
       "<Figure size 252x189 with 1 Axes>"
      ]
     },
     "metadata": {
      "needs_background": "light"
     },
     "output_type": "display_data"
    }
   ],
   "source": [
    "plt.plot(T.to(u.day), P)"
   ]
  },
  {
   "cell_type": "code",
   "execution_count": 113,
   "metadata": {},
   "outputs": [],
   "source": [
    "from astropy.timeseries import LombScargle\n",
    "\n",
    "def amplitude_spectrum(t, y, fmin=None, fmax=None, freq=None, oversample_factor=10.0):\n",
    "    \"\"\" \n",
    "    Calculates the amplitude spectrum of a given signal\n",
    "    \n",
    "    Parameters\n",
    "    ----------\n",
    "        t : `array`\n",
    "            Time values \n",
    "        y : `array`\n",
    "            Flux or magnitude measurements\n",
    "        fmin : float (default None)\n",
    "            Minimum frequency to calculate spectrum. Defaults to df\n",
    "        fmax : float\n",
    "            Maximum frequency to calculate spectrum. Defaults to Nyquist.\n",
    "        oversample_factor : float\n",
    "            Amount by which to oversample the spectrum. Defaults to 10.\n",
    "    \"\"\"\n",
    "    tmax = t.max()\n",
    "    tmin = t.min()\n",
    "    df = 1.0 / (tmax - tmin)\n",
    "\n",
    "    if fmin is None:\n",
    "        fmin = df\n",
    "    if fmax is None:\n",
    "        fmax = 0.5 / np.median(np.diff(t))  # *nyq_mult\n",
    "    if freq is None:\n",
    "        freq = np.arange(fmin, fmax, df / oversample_factor)\n",
    "    model = LombScargle(t, y)\n",
    "    sc = model.power(freq, method=\"fast\", normalization=\"psd\")\n",
    "\n",
    "    fct = np.sqrt(4.0 / len(t))\n",
    "    amp = np.sqrt(sc) * fct\n",
    "\n",
    "    return freq, amp\n",
    "\n",
    "def low_pass(t, y, width=3.):\n",
    "    y_low = gaussian_filter(y, width)\n",
    "    return y_low\n"
   ]
  },
  {
   "cell_type": "code",
   "execution_count": 114,
   "metadata": {},
   "outputs": [],
   "source": [
    "from scipy.ndimage import gaussian_filter"
   ]
  },
  {
   "cell_type": "code",
   "execution_count": 115,
   "metadata": {},
   "outputs": [
    {
     "data": {
      "text/plain": [
       "[<matplotlib.lines.Line2D at 0x7f53b8747640>]"
      ]
     },
     "execution_count": 115,
     "metadata": {},
     "output_type": "execute_result"
    },
    {
     "data": {
      "image/png": "[encoded data removed]",
      "text/plain": [
       "<Figure size 252x189 with 1 Axes>"
      ]
     },
     "metadata": {
      "needs_background": "light"
     },
     "output_type": "display_data"
    }
   ],
   "source": [
    "plt.plot(*amplitude_spectrum(x, low_pass(x, y)))\n",
    "# plt.xlim(0,15)"
   ]
  },
  {
   "cell_type": "markdown",
   "metadata": {},
   "source": [
    "# KOI table"
   ]
  },
  {
   "cell_type": "code",
   "execution_count": 88,
   "metadata": {},
   "outputs": [],
   "source": [
    "koi_dsct = pd.read_csv('../pulsation timing/data/koi_dsct.csv')"
   ]
  },
  {
   "cell_type": "code",
   "execution_count": 127,
   "metadata": {},
   "outputs": [],
   "source": [
    "# from astroquery.mast import Observations, Catalogs\n",
    "df = pd.read_csv(\"../data/catalogues/berger_2020.tsv\", delimiter='\\t')\n",
    "\n",
    "# result = Catalogs.query_criteria(catalog=\"Tic\", KIC=koi_dsct.kepid).to_pandas()\n",
    "# merged = pd.merge(result, koi_dsct, left_on='KIC', right_on='kepid', how='left')\n",
    "merged = pd.merge(koi_dsct, df, left_on='kepid', right_on='KIC')"
   ]
  },
  {
   "cell_type": "code",
   "execution_count": 129,
   "metadata": {},
   "outputs": [],
   "source": [
    "merged['koi_prad_jup'] = (merged['koi_prad'].values*u.R_earth).to(u.R_earth)\n",
    "merged['koi_prad_jup_err1'] = (merged['koi_prad_err1'].values*u.R_earth).to(u.R_earth)\n",
    "merged['koi_prad_jup_err2'] = (merged['koi_prad_err2'].values*u.R_earth).to(u.R_earth)\n",
    "merged['koi_depth_ppt'] = merged['koi_depth'] / 1e3\n",
    "merged['koi_depth_ppt_err1'] = merged['koi_depth_err1'] / 1e3\n",
    "merged['koi_depth_ppt_err2'] = merged['koi_depth_err2'] / 1e3\n",
    "\n",
    "merged['koi_duration_day'] = (merged['koi_duration'].values * (1 * u.hr).to(u.day)).value\n",
    "merged['koi_duration_day_err1'] = (merged['koi_duration_err1'].values * (1 * u.hr).to(u.day)).value\n",
    "merged['koi_duration_day_err2'] = (merged['koi_duration_err2'].values * (1 * u.hr).to(u.day)).value\n",
    "\n"
   ]
  },
  {
   "cell_type": "code",
   "execution_count": 152,
   "metadata": {},
   "outputs": [],
   "source": [
    "\n",
    "merged['rho_ratio'] = np.array(((merged.koi_srho.values * u.g / u.cm**3).to(u.kg / u.m**3)).value) /  ((3*(merged.Mass.values * u.M_sun).to(u.kg)) / (4*np.pi*(merged.Rad.values * u.R_sun).to(u.m)**3)).value"
   ]
  },
  {
   "cell_type": "code",
   "execution_count": 159,
   "metadata": {},
   "outputs": [
    {
     "name": "stdout",
     "output_type": "stream",
     "text": [
      "3964109 & $21.41624^{+0.00007}_{-0.00007}$ & $176.24991^{+0.00272}_{-0.00272}$ & $0.29504^{+0.00391}_{-0.00391}$ & $2.09000^{+0.38000}_{-0.23000}$ & $23.41300^{+0.44500}_{-0.44500}$ & $0.86$ \\\\ \n",
      " 9111849 & $63.07322^{+0.00029}_{-0.00029}$ & $191.25320^{+0.00354}_{-0.00354}$ & $0.22487^{+0.00508}_{-0.00508}$ & $17.80000^{+4.46000}_{-8.91000}$ & $62.80000^{+25.20000}_{-25.20000}$ & $3.77$ \\\\ \n",
      " 9845898 & $45.12622^{+0.00050}_{-0.00050}$ & $165.42066^{+0.00907}_{-0.00907}$ & $0.27733^{+0.01108}_{-0.01108}$ & $2.32000^{+0.76000}_{-0.25000}$ & $46.20000^{+17.00000}_{-17.00000}$ & $0.96$ \\\\ \n",
      " 5202905 & $22.82451^{+0.00023}_{-0.00023}$ & $144.46843^{+0.00848}_{-0.00848}$ & $0.27571^{+0.01250}_{-0.01250}$ & $3.36000^{+0.60000}_{-0.72000}$ & $25.77000^{+4.90000}_{-4.90000}$ & $0.94$ \\\\ \n",
      " 5202905 & $14.84448^{+0.00021}_{-0.00021}$ & $143.57600^{+0.01150}_{-0.01150}$ & $0.25379^{+0.01483}_{-0.01483}$ & $2.49000^{+0.44000}_{-0.54000}$ & $18.65000^{+7.20000}_{-7.20000}$ & $0.84$ \\\\ \n",
      " 6116172 & $69.64679^{+nan}_{nan}$ & $138.28306^{+nan}_{nan}$ & $0.04379^{+0.01537}_{-0.01537}$ & $2121.00000^{+1289.00000}_{-466.80000}$ & $799.00000^{+232.00000}_{-232.00000}$ & $4968.38$ \\\\ \n",
      " 6116172 & $111.65546^{+0.00067}_{-0.00067}$ & $148.89390^{+0.00538}_{-0.00538}$ & $0.04379^{+0.01537}_{-0.01537}$ & $2121.00000^{+1289.00000}_{-466.80000}$ & $799.00000^{+232.00000}_{-232.00000}$ & $4968.38$ \\\\ \n",
      " 6116172 & $86.13202^{+nan}_{nan}$ & $164.22370^{+nan}_{nan}$ & $0.04379^{+0.01537}_{-0.01537}$ & $2121.00000^{+1289.00000}_{-466.80000}$ & $799.00000^{+232.00000}_{-232.00000}$ & $4968.38$ \\\\ \n",
      " 11013201 & $13.11896^{+0.00001}_{-0.00001}$ & $261.53943^{+0.00033}_{-0.00033}$ & $0.17935^{+0.00051}_{-0.00051}$ & $8.25000^{+0.45000}_{-2.50000}$ & $23.68580^{+0.03580}_{-0.03580}$ & $2.51$ \\\\ \n",
      " 11013201 & $7.82187^{+0.00002}_{-0.00002}$ & $123.49907^{+0.00248}_{-0.00248}$ & $0.16007^{+0.00295}_{-0.00295}$ & $2.78000^{+0.15000}_{-0.84000}$ & $15.65800^{+0.96800}_{-0.96800}$ & $2.04$ \\\\ \n",
      " 6032730 & $96.50921^{+0.00108}_{-0.00108}$ & $223.80800^{+0.00844}_{-0.00844}$ & $0.02454^{+0.00954}_{-0.00954}$ & $860.30000^{+221.80000}_{-274.20000}$ & $639.00000^{+283.00000}_{-283.00000}$ & $1514.15$ \\\\ \n",
      " 5617259 & $1.04813^{+nan}_{nan}$ & $132.35280^{+nan}_{nan}$ & $0.23628^{+nan}_{nan}$ & $4.52000^{+0.42000}_{-2.35000}$ & $1.53664^{+nan}_{nan}$ & $0.42$ \\\\ \n",
      " 9775385 & $45.16302^{+0.00449}_{-0.00449}$ & $159.85360^{+0.09680}_{-0.09680}$ & $0.29292^{+0.08750}_{-0.08750}$ & $2.35000^{+1.24000}_{-0.44000}$ & $48.60000^{+18.60000}_{-18.60000}$ & $1.97$ \\\\ \n",
      " 6670742 & $72.28198^{+0.00119}_{-0.00119}$ & $156.75300^{+0.01630}_{-0.01630}$ & $0.10325^{+0.03117}_{-0.03117}$ & $13.11000^{+1.98000}_{-4.57000}$ & $224.00000^{+111.00000}_{-111.00000}$ & $211.94$ \\\\ \n",
      " 9289704 & $34.13568^{+0.00215}_{-0.00215}$ & $157.79590^{+0.04460}_{-0.04460}$ & $0.38000^{+0.07917}_{-0.07917}$ & $13.98000^{+4.73000}_{-8.80000}$ & $29.10000^{+10.00000}_{-10.00000}$ & $0.68$ \\\\ \n",
      " 3965201 & $44.11387^{+0.00145}_{-0.00145}$ & $164.83370^{+0.02540}_{-0.02540}$ & $0.16483^{+0.03508}_{-0.03508}$ & $4.90000^{+0.88000}_{-1.62000}$ & $86.26000^{+3.30000}_{-3.30000}$ & $56.39$ \\\\ \n",
      " 11180361 & $0.53306^{+nan}_{nan}$ & $171.22744^{+nan}_{nan}$ & $0.07759^{+nan}_{nan}$ & $133.56000^{+25.98000}_{-77.91000}$ & $1.45285^{+nan}_{nan}$ & $2.13$ \\\\ \n",
      " "
     ]
    }
   ],
   "source": [
    "columns = ['kepid', 'koi_period', 'koi_time0bk','koi_duration_day', 'koi_prad_jup', 'koi_dor']\n",
    "\n",
    "for index, row in merged.iterrows():\n",
    "    print(f\"{row[columns[0]]}\", end=' & ')\n",
    "    for col in columns[1:]:\n",
    "        print(f\"${row[col]:.5f}^{{+{row[col + '_err1']:.5f}}}_{{{row[col + '_err2']:.5f}}}$\", end = ' & ')\n",
    "    print(f\"${row.rho_ratio:.2f}$\", end=' \\\\\\\\ \\n ')"
   ]
  },
  {
   "cell_type": "code",
   "execution_count": 161,
   "metadata": {},
   "outputs": [
    {
     "data": {
      "text/plain": [
       "1.9952623149688795"
      ]
     },
     "execution_count": 161,
     "metadata": {},
     "output_type": "execute_result"
    }
   ],
   "source": [
    "10**0.3"
   ]
  },
  {
   "cell_type": "code",
   "execution_count": 99,
   "metadata": {},
   "outputs": [],
   "source": [
    "# from math import log10, floor\n",
    "def round_to_1(x):\n",
    "    try:\n",
    "        n = -int(np.floor(np.log10(abs(x))))\n",
    "        return np.round(x, n), n\n",
    "    except:\n",
    "        return np.nan, np.nan"
   ]
  },
  {
   "cell_type": "code",
   "execution_count": 137,
   "metadata": {},
   "outputs": [
    {
     "name": "stdout",
     "output_type": "stream",
     "text": [
      "$21.41624^{+7e-05}_{-7e-05}$ \t\n",
      "$63.0732^{+0.0003}_{-0.0003}$ \t\n",
      "$45.1262^{+0.0005}_{-0.0005}$ \t\n",
      "$22.8245^{+0.0002}_{-0.0002}$ \t\n",
      "$14.8445^{+0.0002}_{-0.0002}$ \t\n",
      "$69.6468^{+nan}_{nan}$ \t\n",
      "$111.6555^{+0.0007}_{-0.0007}$ \t\n",
      "$86.1320^{+nan}_{nan}$ \t\n",
      "$13.118962^{+6e-06}_{-6e-06}$ \t\n",
      "$7.82187^{+2e-05}_{-2e-05}$ \t\n",
      "$96.509^{+0.001}_{-0.001}$ \t\n",
      "$1.0481^{+nan}_{nan}$ \t\n",
      "$45.163^{+0.004}_{-0.004}$ \t\n",
      "$72.282^{+0.001}_{-0.001}$ \t\n",
      "$34.136^{+0.002}_{-0.002}$ \t\n",
      "$44.114^{+0.001}_{-0.001}$ \t\n",
      "$0.5331^{+nan}_{nan}$ \t\n"
     ]
    }
   ],
   "source": [
    "columns = ['kepid', 'koi_period', 'koi_time0bk', 'koi_depth_ppt', 'koi_duration', 'koi_prad_jup']\n",
    "col = columns[1]\n",
    "for i in zip(merged[col], merged[col + '_err1'], merged[col + '_err2']):\n",
    "    e1, n1 = round_to_1(i[1])\n",
    "    e2, n2 = round_to_1(i[2])\n",
    "    if np.isnan(e1) & np.isnan(e2):\n",
    "        print(f'${i[0]:.4f}^{{+{e1}}}_{{{e2}}}$ \\t')\n",
    "    else:\n",
    "        print(f'${np.round(i[0], np.nanmin([n1, n2]))}^{{+{e1}}}_{{{e2}}}$ \\t')"
   ]
  },
  {
   "cell_type": "code",
   "execution_count": 106,
   "metadata": {},
   "outputs": [
    {
     "name": "stderr",
     "output_type": "stream",
     "text": [
      "<ipython-input-106-ddc8bdc2467c>:1: RuntimeWarning: All-NaN axis encountered\n",
      "  np.nanmin([n1, n2])\n"
     ]
    },
    {
     "data": {
      "text/plain": [
       "nan"
      ]
     },
     "execution_count": 106,
     "metadata": {},
     "output_type": "execute_result"
    }
   ],
   "source": [
    "merged['']"
   ]
  },
  {
   "cell_type": "code",
   "execution_count": 93,
   "metadata": {},
   "outputs": [
    {
     "data": {
      "text/plain": [
       "27.888"
      ]
     },
     "execution_count": 93,
     "metadata": {},
     "output_type": "execute_result"
    }
   ],
   "source": [
    "np.round(27.888, 5)"
   ]
  },
  {
   "cell_type": "code",
   "execution_count": 63,
   "metadata": {},
   "outputs": [
    {
     "ename": "SyntaxError",
     "evalue": "invalid syntax (<ipython-input-63-5bba4f80b9ed>, line 1)",
     "output_type": "error",
     "traceback": [
      "\u001b[0;36m  File \u001b[0;32m\"<ipython-input-63-5bba4f80b9ed>\"\u001b[0;36m, line \u001b[0;32m1\u001b[0m\n\u001b[0;31m    f'{merged['koi_period']}^{merged['koi_period_err1']}_^{merged['koi_period_err2']}'\u001b[0m\n\u001b[0m               ^\u001b[0m\n\u001b[0;31mSyntaxError\u001b[0m\u001b[0;31m:\u001b[0m invalid syntax\n"
     ]
    }
   ],
   "source": [
    "merged['tex_period'] = f'{merged['koi_period']}^{merged['koi_period_err1']}_^{merged['koi_period_err2']}'"
   ]
  },
  {
   "cell_type": "markdown",
   "metadata": {},
   "source": [
    "# Koi dist"
   ]
  },
  {
   "cell_type": "code",
   "execution_count": 2,
   "metadata": {},
   "outputs": [],
   "source": [
    "koi = pd.read_csv('cumulative_2021.05.01_20.40.11.csv', dtype={'kepid': str}, skiprows=146)\n",
    "m = koi.koi_disposition != 'FALSE POSITIVE'\n",
    "m &= koi.koi_prad < 200\n",
    "koi = koi[m]"
   ]
  },
  {
   "cell_type": "code",
   "execution_count": 3,
   "metadata": {},
   "outputs": [],
   "source": [
    "plt.style.use('science')"
   ]
  },
  {
   "cell_type": "code",
   "execution_count": 37,
   "metadata": {},
   "outputs": [
    {
     "data": {
      "image/png": "[encoded data removed]",
      "text/plain": [
       "<Figure size 239.998x268.798 with 2 Axes>"
      ]
     },
     "metadata": {
      "needs_background": "light"
     },
     "output_type": "display_data"
    }
   ],
   "source": [
    "plt.figure(figsize=[3.3333, 3.7333])\n",
    "\n",
    "m = (koi['koi_steff'] > 6500) & (koi['koi_steff'] < 10000)\n",
    "plt.scatter(koi.koi_period, #koi.koi_prad, \n",
    "            koi.koi_prad,\n",
    "            c=np.log10(koi.koi_steff), \n",
    "            s=10,alpha=0.8, rasterized=True)\n",
    "\n",
    "# plt.plot(1.0726065,0.0038745,'.k')\n",
    "plt.xscale('log')\n",
    "plt.yscale('log')\n",
    "plt.colorbar(label='Log temperature [K]', location='top')\n",
    "plt.xlabel('Orbital period [d]')\n",
    "plt.ylabel(r'Planetary radius [R$_\\oplus$]')\n",
    "plt.xlim(None, 10**3)\n",
    "\n",
    "plt.savefig('koi_plot.pdf', dpi=300, bbox_inches='tight')"
   ]
  },
  {
   "cell_type": "code",
   "execution_count": null,
   "metadata": {},
   "outputs": [],
   "source": []
  }
 ],
 "metadata": {
  "kernelspec": {
   "display_name": "Python [conda env:exoplanet_test]",
   "language": "python",
   "name": "conda-env-exoplanet_test-py"
  },
  "language_info": {
   "codemirror_mode": {
    "name": "ipython",
    "version": 3
   },
   "file_extension": ".py",
   "mimetype": "text/x-python",
   "name": "python",
   "nbconvert_exporter": "python",
   "pygments_lexer": "ipython3",
   "version": "3.8.8"
  }
 },
 "nbformat": 4,
 "nbformat_minor": 4
}
